{
 "cells": [
  {
   "cell_type": "code",
   "execution_count": 1,
   "id": "ef7b440e-70a4-4865-ac9c-6d63a6b33473",
   "metadata": {
    "tags": []
   },
   "outputs": [],
   "source": [
    "import os\n",
    "from glob import glob\n",
    "import pandas as pd\n",
    "import numpy as np\n",
    "import matplotlib.pyplot as plt\n",
    "import seaborn as sn\n",
    "\n",
    "import dask.dataframe as dd\n",
    "from gprofiler import GProfiler"
   ]
  },
  {
   "cell_type": "markdown",
   "id": "aede6409-dbd7-42a3-a17b-ba6e8b0c7497",
   "metadata": {},
   "source": [
    "```\n",
    "mermaid\n",
    "graph TB\n",
    "A1[all genomic variants] -->|step 1.1: filter<br>in reported genes| B(step 1.2: variant effect prediction)\n",
    "    B --> C{step 1.3: Coding consequence}\n",
    "    C -->|Yes| D[step 1.4: case-control association] \n",
    "    C -->|No| E[step 1.5: case-control association]\n",
    "    D --> F{step 1.4.1<br>check <br>significance<br>raw p-value < 0.05} -->|YES|H(None)\n",
    "    E --> G{step 1.5.1<br>check <br>significance<br>raw p-value < 0.01} -->|YES|I(13 intronic variants)\n",
    "A1 -->B1(step 2.1: variant effect prediction)\n",
    "B1 -->C1{step 2.2: Coding consequence} --> |YES| D1[step 2.3: case-control association] \n",
    "D1 -->|step 2.4: filter <br>alternate-allele <br>in cases only| F1{step 2.5: check <br>significance<br>raw p-value < 0.05} -->|YES|H3{step 2.6: raw p-value < 0.005} --> |YES|H1(varinats<br>on<br>11 genes)\n",
    "F1 --> |YES|G1(step 2.7: Co-occurance) --> |\"step 2.7.1: filter<br>alter-alleles-count<br>sum<br>in cases only &ge; 10\"|I1(multi-variant genes)\n",
    "H1 --> J1(Genes-of-Interest)\n",
    "I1 --> J1\n",
    "J1 --> F3\n",
    "\n",
    "A3(PPIs-STRING-hs) --> B3(step 3.1: preprocess) \n",
    "B3 --> C3(step 3.2: normalize<br>combined_score)\n",
    "C3 --> D3(step 3.3: plot distribution<br>combined_score<br>normalized_score<br>analyze)\n",
    "D3 --> E3(\"step 3.4: filter<br>high-confidence PPIs:<br>combined_scode &gt; 800<br> or <br>normalized_score &gt; 0.8\")\n",
    "E3 --> F3(setp 3.5: select GOIs for subnetwork<br>with Cytoscape)\n",
    "F3 --> G3(step 3.6: extend subnet: <br>also include <br>immideate neighbors of GOIs<br> with Cytoscape)\n",
    "G3 --> I3(step 3.7: further extend subnet:<br> also include nodes with<br> two or more neighbors in selected nodes<br>with Cytoscape)\n",
    "I3 --> J3(step 3.8: cluster subnet into <br> connected components <br> with Cytoscape)\n",
    "J3 --> K3(setp 3.9: select genes <br>in largest compnent:<br>say extended-GOIs<br> with Cytoscape)\n",
    "K3 --> L3(step 3.10: gProfile: functional enrichment analysis)\n",
    "L3 --> M3(step 3.11: report hightly enriched<br> terms relevant to OUD) \n",
    "```"
   ]
  },
  {
   "cell_type": "code",
   "execution_count": 2,
   "id": "ccedf700-75c5-435a-8ac5-f6d7d876af9e",
   "metadata": {
    "tags": []
   },
   "outputs": [],
   "source": [
    "impact_dict = {'HIGH': 4, 'MODERATE': 3, 'LOW': 2, 'MODIFIER': 1}\n",
    "impact_val2txt_dict = {v: f\"{v}.{k}\"for k, v in impact_dict.items()}"
   ]
  },
  {
   "cell_type": "markdown",
   "id": "07e10dd3-421f-44b0-8e54-1260bf0c658b",
   "metadata": {
    "tags": []
   },
   "source": [
    "# Add a numeric value column mapping the IMPACTs to unique values allowing numeric sorting"
   ]
  },
  {
   "cell_type": "code",
   "execution_count": 3,
   "id": "bd85713d-4d4e-4231-9cd5-43952696c68e",
   "metadata": {
    "tags": []
   },
   "outputs": [],
   "source": [
    "ADD_NUMERIC_IMPACT = False\n",
    "READ_NUMERIC_IMPACT = not ADD_NUMERIC_IMPACT"
   ]
  },
  {
   "cell_type": "code",
   "execution_count": 4,
   "id": "abb9ebab-7b36-441e-b909-54f40bb4e6ac",
   "metadata": {
    "tags": []
   },
   "outputs": [],
   "source": [
    "if ADD_NUMERIC_IMPACT:\n",
    "    df_csq_imp = dd.read_csv(\"data/conseq-impacts.tsv\", sep=\"\\t\", index_col=None)\n",
    "    df_csq_imp['IMPACT_value'] = 0 # add a column to dataframe for impact_importance(int)\n",
    "    for i, row in df_csq_imp.iterrows():\n",
    "        df_csq_imp.loc[i, 'IMPACT_value'] = impact_dict[df_csq_imp.loc[i, 'IMPACT']] \n",
    "    df_csq_imp.to_csv(\"conseq-impact-level.tsv\", sep=\"\\t\", index=None)\n",
    "elif READ_NUMERIC_IMPACT:\n",
    "    df_csq_imp = pd.read_csv(\"data/conseq-impact-level.tsv\", sep=\"\\t\", index_col=None)"
   ]
  },
  {
   "cell_type": "code",
   "execution_count": 5,
   "id": "c91e11bf-1de7-4376-bf3b-c16e4b7046ba",
   "metadata": {
    "tags": []
   },
   "outputs": [
    {
     "data": {
      "text/plain": [
       "{4: '4.HIGH', 3: '3.MODERATE', 2: '2.LOW', 1: '1.MODIFIER'}"
      ]
     },
     "execution_count": 5,
     "metadata": {},
     "output_type": "execute_result"
    }
   ],
   "source": [
    "impact_val2txt_dict"
   ]
  },
  {
   "cell_type": "code",
   "execution_count": 6,
   "id": "c13841a9-9050-4322-a183-2e284d0deaee",
   "metadata": {
    "tags": []
   },
   "outputs": [
    {
     "data": {
      "text/html": [
       "<div>\n",
       "<style scoped>\n",
       "    .dataframe tbody tr th:only-of-type {\n",
       "        vertical-align: middle;\n",
       "    }\n",
       "\n",
       "    .dataframe tbody tr th {\n",
       "        vertical-align: top;\n",
       "    }\n",
       "\n",
       "    .dataframe thead th {\n",
       "        text-align: right;\n",
       "    }\n",
       "</style>\n",
       "<table border=\"1\" class=\"dataframe\">\n",
       "  <thead>\n",
       "    <tr style=\"text-align: right;\">\n",
       "      <th></th>\n",
       "      <th>SO term</th>\n",
       "      <th>SO description</th>\n",
       "      <th>SO accession</th>\n",
       "      <th>Display term</th>\n",
       "      <th>IMPACT</th>\n",
       "      <th>IMPACT_value</th>\n",
       "    </tr>\n",
       "  </thead>\n",
       "  <tbody>\n",
       "    <tr>\n",
       "      <th>0</th>\n",
       "      <td>transcript_ablation</td>\n",
       "      <td>A feature ablation whereby the deleted region ...</td>\n",
       "      <td>SO:0001893</td>\n",
       "      <td>Transcript ablation</td>\n",
       "      <td>HIGH</td>\n",
       "      <td>4</td>\n",
       "    </tr>\n",
       "    <tr>\n",
       "      <th>1</th>\n",
       "      <td>splice_acceptor_variant</td>\n",
       "      <td>A splice variant that changes the 2 base regio...</td>\n",
       "      <td>SO:0001574</td>\n",
       "      <td>Splice acceptor variant</td>\n",
       "      <td>HIGH</td>\n",
       "      <td>4</td>\n",
       "    </tr>\n",
       "    <tr>\n",
       "      <th>2</th>\n",
       "      <td>splice_donor_variant</td>\n",
       "      <td>A splice variant that changes the 2 base regio...</td>\n",
       "      <td>SO:0001575</td>\n",
       "      <td>Splice donor variant</td>\n",
       "      <td>HIGH</td>\n",
       "      <td>4</td>\n",
       "    </tr>\n",
       "    <tr>\n",
       "      <th>3</th>\n",
       "      <td>stop_gained</td>\n",
       "      <td>A sequence variant whereby at least one base o...</td>\n",
       "      <td>SO:0001587</td>\n",
       "      <td>Stop gained</td>\n",
       "      <td>HIGH</td>\n",
       "      <td>4</td>\n",
       "    </tr>\n",
       "    <tr>\n",
       "      <th>4</th>\n",
       "      <td>frameshift_variant</td>\n",
       "      <td>A sequence variant which causes a disruption o...</td>\n",
       "      <td>SO:0001589</td>\n",
       "      <td>Frameshift variant</td>\n",
       "      <td>HIGH</td>\n",
       "      <td>4</td>\n",
       "    </tr>\n",
       "  </tbody>\n",
       "</table>\n",
       "</div>"
      ],
      "text/plain": [
       "                   SO term                                     SO description  \\\n",
       "0      transcript_ablation  A feature ablation whereby the deleted region ...   \n",
       "1  splice_acceptor_variant  A splice variant that changes the 2 base regio...   \n",
       "2     splice_donor_variant  A splice variant that changes the 2 base regio...   \n",
       "3              stop_gained  A sequence variant whereby at least one base o...   \n",
       "4       frameshift_variant  A sequence variant which causes a disruption o...   \n",
       "\n",
       "  SO accession             Display term IMPACT  IMPACT_value  \n",
       "0   SO:0001893      Transcript ablation   HIGH             4  \n",
       "1   SO:0001574  Splice acceptor variant   HIGH             4  \n",
       "2   SO:0001575     Splice donor variant   HIGH             4  \n",
       "3   SO:0001587              Stop gained   HIGH             4  \n",
       "4   SO:0001589       Frameshift variant   HIGH             4  "
      ]
     },
     "execution_count": 6,
     "metadata": {},
     "output_type": "execute_result"
    }
   ],
   "source": [
    "df_csq_imp.head()"
   ]
  },
  {
   "cell_type": "markdown",
   "id": "467bbe8d-4d95-4ba1-9d97-6d9dc1b7bf0e",
   "metadata": {
    "tags": []
   },
   "source": [
    "# Load variants annotated with consequence, impact, and gene info extracted from VEP output"
   ]
  },
  {
   "cell_type": "code",
   "execution_count": 7,
   "id": "fd4efd71-38a4-4969-89c2-0069ad75d83b",
   "metadata": {
    "tags": []
   },
   "outputs": [],
   "source": [
    "assoc_dir = \"genome-wide-association\""
   ]
  },
  {
   "cell_type": "code",
   "execution_count": 8,
   "id": "378772ac-d8b7-44a3-8666-859ae4ffd358",
   "metadata": {
    "tags": []
   },
   "outputs": [],
   "source": [
    "df_var_imp = pd.read_csv(f\"{assoc_dir}/annot_mscvo.txt\", sep=\"\\t\", index_col=False)"
   ]
  },
  {
   "cell_type": "code",
   "execution_count": 9,
   "id": "cca23299-dce3-4b25-9b4e-9235b3efae9a",
   "metadata": {
    "tags": []
   },
   "outputs": [
    {
     "data": {
      "text/plain": [
       "(16393, 95)"
      ]
     },
     "execution_count": 9,
     "metadata": {},
     "output_type": "execute_result"
    }
   ],
   "source": [
    "df_var_imp.shape"
   ]
  },
  {
   "cell_type": "code",
   "execution_count": 10,
   "id": "d9f113e4-7183-486b-b6a3-cc05de4a1224",
   "metadata": {
    "tags": []
   },
   "outputs": [],
   "source": [
    "sample_pheno_df = pd.read_csv(\"data/sample-phenotypes-plink.txt\", sep=r\"\\s+\", header=None)\n",
    "sample_pheno_df = sample_pheno_df[[0, 2]]\n",
    "sample_pheno_df.columns = ['sample_id', 'phenotype']\n",
    "samples_list = sample_pheno_df['sample_id'].values"
   ]
  },
  {
   "cell_type": "code",
   "execution_count": 11,
   "id": "05714a7f-be26-4442-ab53-06fbf341c73e",
   "metadata": {
    "tags": []
   },
   "outputs": [],
   "source": [
    "sample_cases_df = sample_pheno_df[sample_pheno_df['phenotype']==2]\n",
    "sample_cntrl_df = sample_pheno_df[sample_pheno_df['phenotype']==1]"
   ]
  },
  {
   "cell_type": "code",
   "execution_count": 12,
   "id": "0b932537-ee4e-4724-897f-9597203ddb5e",
   "metadata": {
    "tags": []
   },
   "outputs": [
    {
     "data": {
      "text/html": [
       "<div>\n",
       "<style scoped>\n",
       "    .dataframe tbody tr th:only-of-type {\n",
       "        vertical-align: middle;\n",
       "    }\n",
       "\n",
       "    .dataframe tbody tr th {\n",
       "        vertical-align: top;\n",
       "    }\n",
       "\n",
       "    .dataframe thead th {\n",
       "        text-align: right;\n",
       "    }\n",
       "</style>\n",
       "<table border=\"1\" class=\"dataframe\">\n",
       "  <thead>\n",
       "    <tr style=\"text-align: right;\">\n",
       "      <th></th>\n",
       "      <th>sample_id</th>\n",
       "      <th>phenotype</th>\n",
       "    </tr>\n",
       "  </thead>\n",
       "  <tbody>\n",
       "    <tr>\n",
       "      <th>1</th>\n",
       "      <td>EA_2_S2</td>\n",
       "      <td>1</td>\n",
       "    </tr>\n",
       "    <tr>\n",
       "      <th>2</th>\n",
       "      <td>EA_3_S3</td>\n",
       "      <td>1</td>\n",
       "    </tr>\n",
       "    <tr>\n",
       "      <th>6</th>\n",
       "      <td>EA_8_S7</td>\n",
       "      <td>1</td>\n",
       "    </tr>\n",
       "    <tr>\n",
       "      <th>7</th>\n",
       "      <td>EA_9_S8</td>\n",
       "      <td>1</td>\n",
       "    </tr>\n",
       "    <tr>\n",
       "      <th>10</th>\n",
       "      <td>EA_12_S11</td>\n",
       "      <td>1</td>\n",
       "    </tr>\n",
       "    <tr>\n",
       "      <th>11</th>\n",
       "      <td>EA_13_S12</td>\n",
       "      <td>1</td>\n",
       "    </tr>\n",
       "    <tr>\n",
       "      <th>18</th>\n",
       "      <td>EA_20_S19</td>\n",
       "      <td>1</td>\n",
       "    </tr>\n",
       "    <tr>\n",
       "      <th>19</th>\n",
       "      <td>EA_21_S20</td>\n",
       "      <td>1</td>\n",
       "    </tr>\n",
       "    <tr>\n",
       "      <th>20</th>\n",
       "      <td>EA_22_S21</td>\n",
       "      <td>1</td>\n",
       "    </tr>\n",
       "    <tr>\n",
       "      <th>21</th>\n",
       "      <td>EA_23_S22</td>\n",
       "      <td>1</td>\n",
       "    </tr>\n",
       "    <tr>\n",
       "      <th>22</th>\n",
       "      <td>EA_24_S23</td>\n",
       "      <td>1</td>\n",
       "    </tr>\n",
       "  </tbody>\n",
       "</table>\n",
       "</div>"
      ],
      "text/plain": [
       "    sample_id  phenotype\n",
       "1     EA_2_S2          1\n",
       "2     EA_3_S3          1\n",
       "6     EA_8_S7          1\n",
       "7     EA_9_S8          1\n",
       "10  EA_12_S11          1\n",
       "11  EA_13_S12          1\n",
       "18  EA_20_S19          1\n",
       "19  EA_21_S20          1\n",
       "20  EA_22_S21          1\n",
       "21  EA_23_S22          1\n",
       "22  EA_24_S23          1"
      ]
     },
     "execution_count": 12,
     "metadata": {},
     "output_type": "execute_result"
    }
   ],
   "source": [
    "sample_cntrl_df"
   ]
  },
  {
   "cell_type": "code",
   "execution_count": 13,
   "id": "485b77ad-8132-4bf5-aba9-cd23e7f82922",
   "metadata": {
    "tags": []
   },
   "outputs": [],
   "source": [
    "# List human chromosomes\n",
    "hs_chroms = ['chr'+str(i) for i in range(1, 23)] + ['chrX', 'chrY'] \n",
    "# hs_chroms"
   ]
  },
  {
   "cell_type": "markdown",
   "id": "27109cae-29b4-47fa-ad24-d17a14effb00",
   "metadata": {},
   "source": [
    "# Filter-in variants mapped to human chromosomes only discarding unknown chromosomes (errorneously)"
   ]
  },
  {
   "cell_type": "code",
   "execution_count": 14,
   "id": "4fb12da1-6ff4-4191-93af-9c86cc6ab1c8",
   "metadata": {
    "tags": []
   },
   "outputs": [],
   "source": [
    "df_var_imp_hs = df_var_imp[df_var_imp['#[1]CHROM'].isin(hs_chroms)]"
   ]
  },
  {
   "cell_type": "code",
   "execution_count": 15,
   "id": "56e625db-d7c0-4b9e-a058-e57126e0cb1d",
   "metadata": {
    "tags": []
   },
   "outputs": [
    {
     "data": {
      "text/plain": [
       "(16393, 95)"
      ]
     },
     "execution_count": 15,
     "metadata": {},
     "output_type": "execute_result"
    }
   ],
   "source": [
    "df_var_imp_hs.shape"
   ]
  },
  {
   "cell_type": "code",
   "execution_count": 16,
   "id": "c9a70d83-2639-489f-9b28-bc7f63c57af0",
   "metadata": {
    "tags": []
   },
   "outputs": [
    {
     "data": {
      "text/plain": [
       "Index(['#[1]CHROM', '[2]POS', '[3]ID', '[4]Consequence', '[5]Consequence',\n",
       "       '[6]Consequence', '[7]Consequence', '[8]Consequence', '[9]Consequence',\n",
       "       '[10]Consequence', '[11]Consequence', '[12]Consequence',\n",
       "       '[13]Consequence', '[14]Consequence', '[15]Consequence',\n",
       "       '[16]Consequence', '[17]Consequence', '[18]Consequence',\n",
       "       '[19]Consequence', '[20]Consequence', '[21]Consequence',\n",
       "       '[22]Consequence', '[23]Consequence', '[24]Consequence',\n",
       "       '[25]Consequence', '[26]Consequence', '[27]IMPACT', '[28]IMPACT',\n",
       "       '[29]IMPACT', '[30]IMPACT', '[31]IMPACT', '[32]IMPACT', '[33]IMPACT',\n",
       "       '[34]IMPACT', '[35]IMPACT', '[36]IMPACT', '[37]IMPACT', '[38]IMPACT',\n",
       "       '[39]IMPACT', '[40]IMPACT', '[41]IMPACT', '[42]IMPACT', '[43]IMPACT',\n",
       "       '[44]IMPACT', '[45]IMPACT', '[46]IMPACT', '[47]IMPACT', '[48]IMPACT',\n",
       "       '[49]IMPACT', '[50]Gene', '[51]Gene', '[52]Gene', '[53]Gene',\n",
       "       '[54]Gene', '[55]Gene', '[56]Gene', '[57]Gene', '[58]Gene', '[59]Gene',\n",
       "       '[60]Gene', '[61]Gene', '[62]Gene', '[63]Gene', '[64]Gene', '[65]Gene',\n",
       "       '[66]Gene', '[67]Gene', '[68]Gene', '[69]Gene', '[70]Gene', '[71]Gene',\n",
       "       '[72]Gene', '[73]GT', '[74]GT', '[75]GT', '[76]GT', '[77]GT', '[78]GT',\n",
       "       '[79]GT', '[80]GT', '[81]GT', '[82]GT', '[83]GT', '[84]GT', '[85]GT',\n",
       "       '[86]GT', '[87]GT', '[88]GT', '[89]GT', '[90]GT', '[91]GT', '[92]GT',\n",
       "       '[93]GT', '[94]GT', '[95]GT'],\n",
       "      dtype='object')"
      ]
     },
     "execution_count": 16,
     "metadata": {},
     "output_type": "execute_result"
    }
   ],
   "source": [
    "df_var_imp_hs.columns"
   ]
  },
  {
   "cell_type": "code",
   "execution_count": 17,
   "id": "3d15c414-bd83-48a5-ae76-bf64a0429636",
   "metadata": {
    "tags": []
   },
   "outputs": [],
   "source": [
    "df_var_imp_hs_new_colnames = ['CHROM', 'POS', 'ID']\n",
    "df_var_imp_hs_new_colnames += [f\"CSQ.{s}\" for s in samples_list]\n",
    "df_var_imp_hs_new_colnames += [f\"IMP.{s}\" for s in samples_list]\n",
    "df_var_imp_hs_new_colnames += [f\"Gene.{s}\" for s in samples_list]\n",
    "df_var_imp_hs_new_colnames += [f\"GT.{s}\" for s in samples_list]"
   ]
  },
  {
   "cell_type": "code",
   "execution_count": 18,
   "id": "ac7067f7-0c6b-454d-879e-0af095d66039",
   "metadata": {
    "tags": []
   },
   "outputs": [
    {
     "name": "stdout",
     "output_type": "stream",
     "text": [
      "95 95\n"
     ]
    }
   ],
   "source": [
    "print(len(df_var_imp_hs_new_colnames), df_var_imp_hs.shape[1])\n",
    "len(df_var_imp_hs_new_colnames) == df_var_imp_hs.shape[1]\n",
    "\n",
    "df_var_imp_hs.columns = df_var_imp_hs_new_colnames"
   ]
  },
  {
   "cell_type": "code",
   "execution_count": 19,
   "id": "2ce8d410-de9a-48d6-9d16-d325266c0ebd",
   "metadata": {
    "tags": []
   },
   "outputs": [],
   "source": [
    "conseq_cols = [c for c in df_var_imp_hs.columns if c.startswith(\"CSQ.\")]\n",
    "impact_cols = [c for c in df_var_imp_hs.columns if c.startswith(\"IMP.\")]\n",
    "genes_cols = [c for c in df_var_imp_hs.columns if c.startswith(\"Gene.\") or c.endswith(\"Gene\") and c != 'Gene_cons']\n",
    "allele_cols = [c for c in df_var_imp_hs.columns if c.startswith(\"GT.\") or c.endswith(\"Allele\")]"
   ]
  },
  {
   "cell_type": "code",
   "execution_count": 20,
   "id": "8b5c7b06-e811-49ec-9c52-d2d017e98875",
   "metadata": {
    "tags": []
   },
   "outputs": [
    {
     "data": {
      "text/plain": [
       "['Gene.EA_1_S1',\n",
       " 'Gene.EA_2_S2',\n",
       " 'Gene.EA_3_S3',\n",
       " 'Gene.EA_4_S4',\n",
       " 'Gene.EA_6_S5',\n",
       " 'Gene.EA_7_S6',\n",
       " 'Gene.EA_8_S7',\n",
       " 'Gene.EA_9_S8',\n",
       " 'Gene.EA_10_S9',\n",
       " 'Gene.EA_11_S10',\n",
       " 'Gene.EA_12_S11',\n",
       " 'Gene.EA_13_S12',\n",
       " 'Gene.EA_14_S13',\n",
       " 'Gene.EA_15_S14',\n",
       " 'Gene.EA_16_S15',\n",
       " 'Gene.EA_17_S16',\n",
       " 'Gene.EA_18_S17',\n",
       " 'Gene.EA_19_S18',\n",
       " 'Gene.EA_20_S19',\n",
       " 'Gene.EA_21_S20',\n",
       " 'Gene.EA_22_S21',\n",
       " 'Gene.EA_23_S22',\n",
       " 'Gene.EA_24_S23']"
      ]
     },
     "execution_count": 20,
     "metadata": {},
     "output_type": "execute_result"
    }
   ],
   "source": [
    "df_var_imp_hs_cons = df_var_imp_hs\n",
    "genes_cols"
   ]
  },
  {
   "cell_type": "markdown",
   "id": "0c2036bc-f75c-407c-8729-abbc30fa4816",
   "metadata": {
    "tags": []
   },
   "source": [
    "# Find the consensus consequence, impact and genes among all the samples and then reduce to highest severity impact annotated for the variant"
   ]
  },
  {
   "cell_type": "code",
   "execution_count": 21,
   "id": "20455513-2d97-49d1-a155-c525d6a86f4b",
   "metadata": {
    "tags": []
   },
   "outputs": [],
   "source": [
    "alleles_cases_cols = [f\"GT.{s}\" for s in sample_cases_df['sample_id'].values]"
   ]
  },
  {
   "cell_type": "code",
   "execution_count": 22,
   "id": "517e855c-195e-4486-b296-e785a81b102d",
   "metadata": {
    "tags": []
   },
   "outputs": [],
   "source": [
    "alleles_cntrl_cols = [f\"GT.{s}\" for s in sample_cntrl_df['sample_id'].values]"
   ]
  },
  {
   "cell_type": "code",
   "execution_count": 23,
   "id": "bbce449a-a625-458f-91b6-e62576d3737f",
   "metadata": {
    "tags": []
   },
   "outputs": [
    {
     "name": "stdout",
     "output_type": "stream",
     "text": [
      "12 ['GT.EA_1_S1', 'GT.EA_4_S4', 'GT.EA_6_S5', 'GT.EA_7_S6', 'GT.EA_10_S9', 'GT.EA_11_S10', 'GT.EA_14_S13', 'GT.EA_15_S14', 'GT.EA_16_S15', 'GT.EA_17_S16', 'GT.EA_18_S17', 'GT.EA_19_S18']\n"
     ]
    }
   ],
   "source": [
    "print(len(alleles_cases_cols), alleles_cases_cols)"
   ]
  },
  {
   "cell_type": "code",
   "execution_count": 24,
   "id": "de8f07be-da11-4b4a-af46-9acfcc81e6ca",
   "metadata": {
    "tags": []
   },
   "outputs": [
    {
     "name": "stdout",
     "output_type": "stream",
     "text": [
      "11 ['GT.EA_2_S2', 'GT.EA_3_S3', 'GT.EA_8_S7', 'GT.EA_9_S8', 'GT.EA_12_S11', 'GT.EA_13_S12', 'GT.EA_20_S19', 'GT.EA_21_S20', 'GT.EA_22_S21', 'GT.EA_23_S22', 'GT.EA_24_S23']\n"
     ]
    }
   ],
   "source": [
    "print(len(alleles_cntrl_cols), alleles_cntrl_cols, )"
   ]
  },
  {
   "cell_type": "markdown",
   "id": "ae2e005c-7752-4ca1-a201-4e921fa7cee0",
   "metadata": {
    "tags": []
   },
   "source": [
    "## Find the consensus consequence for the variant across all the samples, gene harboring the variant. and Genotypes for all the cases and control samples"
   ]
  },
  {
   "cell_type": "code",
   "execution_count": 25,
   "id": "e8cc5201-222c-4b34-98e2-22977fa15ab7",
   "metadata": {
    "tags": []
   },
   "outputs": [],
   "source": [
    "df_var_imp_hs_cons['Consequence_cons'] = ''\n",
    "df_var_imp_hs_cons['IMPACT_cons'] = ''\n",
    "df_var_imp_hs_cons['Gene_cons'] = ''\n",
    "df_var_imp_hs_cons['GT_cases'] = ''\n",
    "df_var_imp_hs_cons['GT_cntrl'] = ''"
   ]
  },
  {
   "cell_type": "code",
   "execution_count": 26,
   "id": "0feffae0-f55b-4c50-bd24-1b92242c6710",
   "metadata": {
    "tags": []
   },
   "outputs": [],
   "source": [
    "for i, row in df_var_imp_hs_cons.iterrows():\n",
    "    uniq_imps, uniq_impx = np.unique(row[impact_cols], return_index=True)\n",
    "    uniq_csqs, uniq_csqx = np.unique(row[conseq_cols], return_index=True)\n",
    "    uniq_gens, uniq_genx = np.unique(row[genes_cols], return_index=True)\n",
    "    uniq_case = np.unique(row[alleles_cases_cols])\n",
    "    uniq_case_samples = {}\n",
    "    for unqcs in alleles_cases_cols:\n",
    "        unqcsal = row[unqcs]\n",
    "        if len(unqcsal)>4:\n",
    "            unqcsal = unqcsal[:4]+\"---\"\n",
    "        if unqcsal not in uniq_case_samples:\n",
    "            uniq_case_samples[unqcsal] = [unqcs[unqcs.rindex(\"_\")+1:],]\n",
    "        elif unqcsal in uniq_case_samples:\n",
    "            uniq_case_samples[unqcsal].append(unqcs[unqcs.rindex(\"_\")+1:])\n",
    "    df_var_imp_hs_cons.loc[i, 'GT_cases'] = \"; \".join([k+\"[\"+\"+\".join(v)+\"]\" for k, v in uniq_case_samples.items()])\n",
    "    if row['POS']==69849:\n",
    "        print(\"uniq_case_samples=\", uniq_case_samples, \"uniq_case=\",uniq_case, \"=>\", row[alleles_cases_cols])\n",
    "        print(\"joined_cases: \", \"; \".join([k+\"[\"+\"|\".join(v)+\"]\" for k, v in uniq_case_samples.items()]))\n",
    "       \n",
    "       \n",
    "    uniq_cntrl = np.unique(row[alleles_cntrl_cols])\n",
    "    uniq_cntrl_samples = {}\n",
    "    for unqcs in alleles_cntrl_cols:\n",
    "        unqcsal = row[unqcs]\n",
    "        if len(unqcsal)>4:\n",
    "            unqcsal = unqcsal[:4]+\"---\"\n",
    "        if unqcsal not in uniq_cntrl_samples:\n",
    "            uniq_cntrl_samples[unqcsal] = [unqcs[unqcs.rindex(\"_\")+1:],]\n",
    "        elif unqcsal in uniq_cntrl_samples:\n",
    "            uniq_cntrl_samples[unqcsal].append(unqcs[unqcs.rindex(\"_\")+1:])\n",
    "    df_var_imp_hs_cons.loc[i, 'GT_cntrl'] = \"; \".join([k+\"[\"+\"+\".join(v)+\"]\" for k, v in uniq_cntrl_samples.items()])\n",
    "    if row['POS']==69849:\n",
    "        print(\"uniq_cntrl_samples=\", uniq_cntrl_samples, \"uniq_cntrl=\",uniq_cntrl, \"=>\", row[alleles_cntrl_cols])\n",
    "        print(\"joined_cntrl: \", \"; \".join([k+\"[\"+\"|\".join(v)+\"]\" for k, v in uniq_cntrl_samples.items()]))\n",
    "       \n",
    "    # try:\n",
    "    impact_vals = np.array([(impact_dict[k1], uniq_impx[ui]) for ui, uv in enumerate(uniq_imps) for k1 in uv.split(\",\")])\n",
    "    max_idx = np.argmax(uniq_imps)\n",
    "    max_val = impact_vals[max_idx]\n",
    "    conseq_high = uniq_csqs[max_val[1]].split(\",\")[max_idx]\n",
    "    gene_high = uniq_gens[max_val[1]].split(\",\")[max_idx]\n",
    "\n",
    "    df_var_imp_hs_cons.loc[i, 'Consequence_cons'] = conseq_high\n",
    "    df_var_imp_hs_cons.loc[i, 'Gene_cons'] = gene_high\n",
    "    df_var_imp_hs_cons.loc[i, 'IMPACT_cons'] = impact_val2txt_dict[max_val[0]]\n",
    "    # except:\n",
    "    #     print(uniq_imps, uniq_impx)\n",
    "    #     print(\">>\", impact_vals, \"<<<\",  max_val, max_idx, \">>>\")\n",
    "    #     print(\">>\", uniq_csqs, \"<<<\",  conseq_high, \">>>\")\n",
    "    #     print(\"=\"*80)"
   ]
  },
  {
   "cell_type": "code",
   "execution_count": 27,
   "id": "2135f56c-9091-4ffc-a676-c326057b1884",
   "metadata": {
    "tags": []
   },
   "outputs": [
    {
     "data": {
      "text/html": [
       "<div>\n",
       "<style scoped>\n",
       "    .dataframe tbody tr th:only-of-type {\n",
       "        vertical-align: middle;\n",
       "    }\n",
       "\n",
       "    .dataframe tbody tr th {\n",
       "        vertical-align: top;\n",
       "    }\n",
       "\n",
       "    .dataframe thead th {\n",
       "        text-align: right;\n",
       "    }\n",
       "</style>\n",
       "<table border=\"1\" class=\"dataframe\">\n",
       "  <thead>\n",
       "    <tr style=\"text-align: right;\">\n",
       "      <th></th>\n",
       "      <th>CHROM</th>\n",
       "      <th>POS</th>\n",
       "      <th>ID</th>\n",
       "      <th>CSQ.EA_1_S1</th>\n",
       "      <th>CSQ.EA_2_S2</th>\n",
       "      <th>CSQ.EA_3_S3</th>\n",
       "      <th>CSQ.EA_4_S4</th>\n",
       "      <th>CSQ.EA_6_S5</th>\n",
       "      <th>CSQ.EA_7_S6</th>\n",
       "      <th>CSQ.EA_8_S7</th>\n",
       "      <th>...</th>\n",
       "      <th>GT.EA_20_S19</th>\n",
       "      <th>GT.EA_21_S20</th>\n",
       "      <th>GT.EA_22_S21</th>\n",
       "      <th>GT.EA_23_S22</th>\n",
       "      <th>GT.EA_24_S23</th>\n",
       "      <th>Consequence_cons</th>\n",
       "      <th>IMPACT_cons</th>\n",
       "      <th>Gene_cons</th>\n",
       "      <th>GT_cases</th>\n",
       "      <th>GT_cntrl</th>\n",
       "    </tr>\n",
       "  </thead>\n",
       "  <tbody>\n",
       "    <tr>\n",
       "      <th>0</th>\n",
       "      <td>chr1</td>\n",
       "      <td>69511</td>\n",
       "      <td>.</td>\n",
       "      <td>missense_variant</td>\n",
       "      <td>missense_variant</td>\n",
       "      <td>missense_variant</td>\n",
       "      <td>missense_variant</td>\n",
       "      <td>missense_variant</td>\n",
       "      <td>missense_variant</td>\n",
       "      <td>missense_variant</td>\n",
       "      <td>...</td>\n",
       "      <td>1/1</td>\n",
       "      <td>./.</td>\n",
       "      <td>./.</td>\n",
       "      <td>1/1</td>\n",
       "      <td>0/0</td>\n",
       "      <td>missense_variant</td>\n",
       "      <td>3.MODERATE</td>\n",
       "      <td>ENSG00000186092</td>\n",
       "      <td>1/1[S1+S4+S5+S6+S9+S10+S14+S15+S16+S17]; ./.[S...</td>\n",
       "      <td>./.[S2+S8+S20+S21]; 1/1[S3+S7+S12+S19+S22]; 0/...</td>\n",
       "    </tr>\n",
       "    <tr>\n",
       "      <th>1</th>\n",
       "      <td>chr1</td>\n",
       "      <td>168098</td>\n",
       "      <td>.</td>\n",
       "      <td>splice_donor_variant&amp;non_coding_transcript_var...</td>\n",
       "      <td>splice_donor_variant&amp;non_coding_transcript_var...</td>\n",
       "      <td>splice_donor_variant&amp;non_coding_transcript_var...</td>\n",
       "      <td>splice_donor_variant&amp;non_coding_transcript_var...</td>\n",
       "      <td>splice_donor_variant&amp;non_coding_transcript_var...</td>\n",
       "      <td>splice_donor_variant&amp;non_coding_transcript_var...</td>\n",
       "      <td>splice_donor_variant&amp;non_coding_transcript_var...</td>\n",
       "      <td>...</td>\n",
       "      <td>0/0</td>\n",
       "      <td>0/1</td>\n",
       "      <td>0/0</td>\n",
       "      <td>0/0</td>\n",
       "      <td>0/0</td>\n",
       "      <td>splice_donor_variant&amp;non_coding_transcript_var...</td>\n",
       "      <td>4.HIGH</td>\n",
       "      <td>ENSG00000241860</td>\n",
       "      <td>0/0[S1+S4+S6+S9+S10+S13+S14+S15+S16+S17+S18]; ...</td>\n",
       "      <td>0/0[S2+S7+S11+S12+S19+S21+S22+S23]; 0/1[S3+S20...</td>\n",
       "    </tr>\n",
       "    <tr>\n",
       "      <th>2</th>\n",
       "      <td>chr1</td>\n",
       "      <td>976215</td>\n",
       "      <td>.</td>\n",
       "      <td>missense_variant</td>\n",
       "      <td>missense_variant</td>\n",
       "      <td>missense_variant</td>\n",
       "      <td>missense_variant</td>\n",
       "      <td>missense_variant</td>\n",
       "      <td>missense_variant</td>\n",
       "      <td>missense_variant</td>\n",
       "      <td>...</td>\n",
       "      <td>1/1</td>\n",
       "      <td>1/1</td>\n",
       "      <td>0/1</td>\n",
       "      <td>1/1</td>\n",
       "      <td>1/1</td>\n",
       "      <td>missense_variant</td>\n",
       "      <td>3.MODERATE</td>\n",
       "      <td>ENSG00000187642</td>\n",
       "      <td>0/1[S1+S6+S14+S17]; 1/1[S4+S5+S9+S10+S13+S15+S...</td>\n",
       "      <td>0/1[S2+S7+S21]; 1/1[S3+S11+S12+S19+S20+S22+S23...</td>\n",
       "    </tr>\n",
       "    <tr>\n",
       "      <th>3</th>\n",
       "      <td>chr1</td>\n",
       "      <td>978953</td>\n",
       "      <td>.</td>\n",
       "      <td>missense_variant</td>\n",
       "      <td>missense_variant</td>\n",
       "      <td>missense_variant</td>\n",
       "      <td>missense_variant</td>\n",
       "      <td>missense_variant</td>\n",
       "      <td>missense_variant</td>\n",
       "      <td>missense_variant</td>\n",
       "      <td>...</td>\n",
       "      <td>1/1</td>\n",
       "      <td>1/1</td>\n",
       "      <td>0/1</td>\n",
       "      <td>1/1</td>\n",
       "      <td>0/1</td>\n",
       "      <td>missense_variant</td>\n",
       "      <td>3.MODERATE</td>\n",
       "      <td>ENSG00000187642</td>\n",
       "      <td>0/1[S1+S5+S13+S14+S18]; 1/1[S4+S9+S10+S15+S16]...</td>\n",
       "      <td>0/1[S2+S7+S11+S12+S21+S23]; 1/1[S3+S19+S20+S22...</td>\n",
       "    </tr>\n",
       "    <tr>\n",
       "      <th>4</th>\n",
       "      <td>chr1</td>\n",
       "      <td>979459</td>\n",
       "      <td>.</td>\n",
       "      <td>missense_variant</td>\n",
       "      <td>missense_variant</td>\n",
       "      <td>missense_variant</td>\n",
       "      <td>missense_variant</td>\n",
       "      <td>missense_variant</td>\n",
       "      <td>missense_variant</td>\n",
       "      <td>missense_variant</td>\n",
       "      <td>...</td>\n",
       "      <td>0/1</td>\n",
       "      <td>0/0</td>\n",
       "      <td>0/1</td>\n",
       "      <td>0/0</td>\n",
       "      <td>0/0</td>\n",
       "      <td>missense_variant</td>\n",
       "      <td>3.MODERATE</td>\n",
       "      <td>ENSG00000187642</td>\n",
       "      <td>0/0[S1+S4+S5+S6+S9+S10+S13+S14+S15+S17]; 0/1[S...</td>\n",
       "      <td>0/1[S2+S19+S21]; 0/0[S3+S7+S11+S12+S20+S22+S23...</td>\n",
       "    </tr>\n",
       "  </tbody>\n",
       "</table>\n",
       "<p>5 rows × 100 columns</p>\n",
       "</div>"
      ],
      "text/plain": [
       "  CHROM     POS ID                                        CSQ.EA_1_S1  \\\n",
       "0  chr1   69511  .                                   missense_variant   \n",
       "1  chr1  168098  .  splice_donor_variant&non_coding_transcript_var...   \n",
       "2  chr1  976215  .                                   missense_variant   \n",
       "3  chr1  978953  .                                   missense_variant   \n",
       "4  chr1  979459  .                                   missense_variant   \n",
       "\n",
       "                                         CSQ.EA_2_S2  \\\n",
       "0                                   missense_variant   \n",
       "1  splice_donor_variant&non_coding_transcript_var...   \n",
       "2                                   missense_variant   \n",
       "3                                   missense_variant   \n",
       "4                                   missense_variant   \n",
       "\n",
       "                                         CSQ.EA_3_S3  \\\n",
       "0                                   missense_variant   \n",
       "1  splice_donor_variant&non_coding_transcript_var...   \n",
       "2                                   missense_variant   \n",
       "3                                   missense_variant   \n",
       "4                                   missense_variant   \n",
       "\n",
       "                                         CSQ.EA_4_S4  \\\n",
       "0                                   missense_variant   \n",
       "1  splice_donor_variant&non_coding_transcript_var...   \n",
       "2                                   missense_variant   \n",
       "3                                   missense_variant   \n",
       "4                                   missense_variant   \n",
       "\n",
       "                                         CSQ.EA_6_S5  \\\n",
       "0                                   missense_variant   \n",
       "1  splice_donor_variant&non_coding_transcript_var...   \n",
       "2                                   missense_variant   \n",
       "3                                   missense_variant   \n",
       "4                                   missense_variant   \n",
       "\n",
       "                                         CSQ.EA_7_S6  \\\n",
       "0                                   missense_variant   \n",
       "1  splice_donor_variant&non_coding_transcript_var...   \n",
       "2                                   missense_variant   \n",
       "3                                   missense_variant   \n",
       "4                                   missense_variant   \n",
       "\n",
       "                                         CSQ.EA_8_S7  ... GT.EA_20_S19  \\\n",
       "0                                   missense_variant  ...          1/1   \n",
       "1  splice_donor_variant&non_coding_transcript_var...  ...          0/0   \n",
       "2                                   missense_variant  ...          1/1   \n",
       "3                                   missense_variant  ...          1/1   \n",
       "4                                   missense_variant  ...          0/1   \n",
       "\n",
       "  GT.EA_21_S20 GT.EA_22_S21 GT.EA_23_S22 GT.EA_24_S23  \\\n",
       "0          ./.          ./.          1/1          0/0   \n",
       "1          0/1          0/0          0/0          0/0   \n",
       "2          1/1          0/1          1/1          1/1   \n",
       "3          1/1          0/1          1/1          0/1   \n",
       "4          0/0          0/1          0/0          0/0   \n",
       "\n",
       "                                    Consequence_cons IMPACT_cons  \\\n",
       "0                                   missense_variant  3.MODERATE   \n",
       "1  splice_donor_variant&non_coding_transcript_var...      4.HIGH   \n",
       "2                                   missense_variant  3.MODERATE   \n",
       "3                                   missense_variant  3.MODERATE   \n",
       "4                                   missense_variant  3.MODERATE   \n",
       "\n",
       "         Gene_cons                                           GT_cases  \\\n",
       "0  ENSG00000186092  1/1[S1+S4+S5+S6+S9+S10+S14+S15+S16+S17]; ./.[S...   \n",
       "1  ENSG00000241860  0/0[S1+S4+S6+S9+S10+S13+S14+S15+S16+S17+S18]; ...   \n",
       "2  ENSG00000187642  0/1[S1+S6+S14+S17]; 1/1[S4+S5+S9+S10+S13+S15+S...   \n",
       "3  ENSG00000187642  0/1[S1+S5+S13+S14+S18]; 1/1[S4+S9+S10+S15+S16]...   \n",
       "4  ENSG00000187642  0/0[S1+S4+S5+S6+S9+S10+S13+S14+S15+S17]; 0/1[S...   \n",
       "\n",
       "                                            GT_cntrl  \n",
       "0  ./.[S2+S8+S20+S21]; 1/1[S3+S7+S12+S19+S22]; 0/...  \n",
       "1  0/0[S2+S7+S11+S12+S19+S21+S22+S23]; 0/1[S3+S20...  \n",
       "2  0/1[S2+S7+S21]; 1/1[S3+S11+S12+S19+S20+S22+S23...  \n",
       "3  0/1[S2+S7+S11+S12+S21+S23]; 1/1[S3+S19+S20+S22...  \n",
       "4  0/1[S2+S19+S21]; 0/0[S3+S7+S11+S12+S20+S22+S23...  \n",
       "\n",
       "[5 rows x 100 columns]"
      ]
     },
     "execution_count": 27,
     "metadata": {},
     "output_type": "execute_result"
    }
   ],
   "source": [
    "df_var_imp_hs_cons.head()"
   ]
  },
  {
   "cell_type": "code",
   "execution_count": 28,
   "id": "31bb03c4-3aea-4fd5-8262-f6b3a7070a48",
   "metadata": {
    "tags": []
   },
   "outputs": [
    {
     "data": {
      "text/plain": [
       "Index(['CHROM', 'POS', 'ID', 'CSQ.EA_1_S1', 'CSQ.EA_2_S2', 'CSQ.EA_3_S3',\n",
       "       'CSQ.EA_4_S4', 'CSQ.EA_6_S5', 'CSQ.EA_7_S6', 'CSQ.EA_8_S7',\n",
       "       'CSQ.EA_9_S8', 'CSQ.EA_10_S9', 'CSQ.EA_11_S10', 'CSQ.EA_12_S11',\n",
       "       'CSQ.EA_13_S12', 'CSQ.EA_14_S13', 'CSQ.EA_15_S14', 'CSQ.EA_16_S15',\n",
       "       'CSQ.EA_17_S16', 'CSQ.EA_18_S17', 'CSQ.EA_19_S18', 'CSQ.EA_20_S19',\n",
       "       'CSQ.EA_21_S20', 'CSQ.EA_22_S21', 'CSQ.EA_23_S22', 'CSQ.EA_24_S23',\n",
       "       'IMP.EA_1_S1', 'IMP.EA_2_S2', 'IMP.EA_3_S3', 'IMP.EA_4_S4',\n",
       "       'IMP.EA_6_S5', 'IMP.EA_7_S6', 'IMP.EA_8_S7', 'IMP.EA_9_S8',\n",
       "       'IMP.EA_10_S9', 'IMP.EA_11_S10', 'IMP.EA_12_S11', 'IMP.EA_13_S12',\n",
       "       'IMP.EA_14_S13', 'IMP.EA_15_S14', 'IMP.EA_16_S15', 'IMP.EA_17_S16',\n",
       "       'IMP.EA_18_S17', 'IMP.EA_19_S18', 'IMP.EA_20_S19', 'IMP.EA_21_S20',\n",
       "       'IMP.EA_22_S21', 'IMP.EA_23_S22', 'IMP.EA_24_S23', 'Gene.EA_1_S1',\n",
       "       'Gene.EA_2_S2', 'Gene.EA_3_S3', 'Gene.EA_4_S4', 'Gene.EA_6_S5',\n",
       "       'Gene.EA_7_S6', 'Gene.EA_8_S7', 'Gene.EA_9_S8', 'Gene.EA_10_S9',\n",
       "       'Gene.EA_11_S10', 'Gene.EA_12_S11', 'Gene.EA_13_S12', 'Gene.EA_14_S13',\n",
       "       'Gene.EA_15_S14', 'Gene.EA_16_S15', 'Gene.EA_17_S16', 'Gene.EA_18_S17',\n",
       "       'Gene.EA_19_S18', 'Gene.EA_20_S19', 'Gene.EA_21_S20', 'Gene.EA_22_S21',\n",
       "       'Gene.EA_23_S22', 'Gene.EA_24_S23', 'GT.EA_1_S1', 'GT.EA_2_S2',\n",
       "       'GT.EA_3_S3', 'GT.EA_4_S4', 'GT.EA_6_S5', 'GT.EA_7_S6', 'GT.EA_8_S7',\n",
       "       'GT.EA_9_S8', 'GT.EA_10_S9', 'GT.EA_11_S10', 'GT.EA_12_S11',\n",
       "       'GT.EA_13_S12', 'GT.EA_14_S13', 'GT.EA_15_S14', 'GT.EA_16_S15',\n",
       "       'GT.EA_17_S16', 'GT.EA_18_S17', 'GT.EA_19_S18', 'GT.EA_20_S19',\n",
       "       'GT.EA_21_S20', 'GT.EA_22_S21', 'GT.EA_23_S22', 'GT.EA_24_S23',\n",
       "       'Consequence_cons', 'IMPACT_cons', 'Gene_cons', 'GT_cases', 'GT_cntrl'],\n",
       "      dtype='object')"
      ]
     },
     "execution_count": 28,
     "metadata": {},
     "output_type": "execute_result"
    }
   ],
   "source": [
    "df_var_imp_hs_cons.columns"
   ]
  },
  {
   "cell_type": "code",
   "execution_count": 29,
   "id": "8fb5ff77-a2a9-4b66-93da-d13d0e7ecb01",
   "metadata": {
    "tags": []
   },
   "outputs": [],
   "source": [
    "df_var_imp_hs_cons.to_csv(f\"{assoc_dir}/annot-vars-imp-unify.tsv\", sep=\"\\t\", index=None)"
   ]
  },
  {
   "cell_type": "code",
   "execution_count": 30,
   "id": "fe81f875-1c0e-4433-92ba-8fec6ab64803",
   "metadata": {
    "tags": []
   },
   "outputs": [],
   "source": [
    "df_var_imp_hs_cons_only = df_var_imp_hs_cons.drop(columns=impact_cols)\n",
    "df_var_imp_hs_cons_only = df_var_imp_hs_cons_only.drop(columns=conseq_cols)\n",
    "df_var_imp_hs_cons_only = df_var_imp_hs_cons_only.drop(columns=genes_cols)\n",
    "df_var_imp_hs_cons_only = df_var_imp_hs_cons_only.drop(columns=allele_cols)"
   ]
  },
  {
   "cell_type": "code",
   "execution_count": 31,
   "id": "30f68380-a174-4611-b487-3b60d8f65a0b",
   "metadata": {
    "tags": []
   },
   "outputs": [],
   "source": [
    "df_var_imp_hs_cons_only.to_csv(f\"{assoc_dir}/annot-vars-imp-unify-only.tsv\", sep=\"\\t\", index=None)"
   ]
  },
  {
   "cell_type": "code",
   "execution_count": 32,
   "id": "d54264ec-e89d-4c67-b9ed-5d89810d8f05",
   "metadata": {
    "tags": []
   },
   "outputs": [
    {
     "data": {
      "text/html": [
       "<div>\n",
       "<style scoped>\n",
       "    .dataframe tbody tr th:only-of-type {\n",
       "        vertical-align: middle;\n",
       "    }\n",
       "\n",
       "    .dataframe tbody tr th {\n",
       "        vertical-align: top;\n",
       "    }\n",
       "\n",
       "    .dataframe thead th {\n",
       "        text-align: right;\n",
       "    }\n",
       "</style>\n",
       "<table border=\"1\" class=\"dataframe\">\n",
       "  <thead>\n",
       "    <tr style=\"text-align: right;\">\n",
       "      <th></th>\n",
       "      <th>CHROM</th>\n",
       "      <th>POS</th>\n",
       "      <th>ID</th>\n",
       "      <th>Consequence_cons</th>\n",
       "      <th>IMPACT_cons</th>\n",
       "      <th>Gene_cons</th>\n",
       "      <th>GT_cases</th>\n",
       "      <th>GT_cntrl</th>\n",
       "    </tr>\n",
       "  </thead>\n",
       "  <tbody>\n",
       "    <tr>\n",
       "      <th>0</th>\n",
       "      <td>chr1</td>\n",
       "      <td>69511</td>\n",
       "      <td>.</td>\n",
       "      <td>missense_variant</td>\n",
       "      <td>3.MODERATE</td>\n",
       "      <td>ENSG00000186092</td>\n",
       "      <td>1/1[S1+S4+S5+S6+S9+S10+S14+S15+S16+S17]; ./.[S...</td>\n",
       "      <td>./.[S2+S8+S20+S21]; 1/1[S3+S7+S12+S19+S22]; 0/...</td>\n",
       "    </tr>\n",
       "    <tr>\n",
       "      <th>1</th>\n",
       "      <td>chr1</td>\n",
       "      <td>168098</td>\n",
       "      <td>.</td>\n",
       "      <td>splice_donor_variant&amp;non_coding_transcript_var...</td>\n",
       "      <td>4.HIGH</td>\n",
       "      <td>ENSG00000241860</td>\n",
       "      <td>0/0[S1+S4+S6+S9+S10+S13+S14+S15+S16+S17+S18]; ...</td>\n",
       "      <td>0/0[S2+S7+S11+S12+S19+S21+S22+S23]; 0/1[S3+S20...</td>\n",
       "    </tr>\n",
       "    <tr>\n",
       "      <th>2</th>\n",
       "      <td>chr1</td>\n",
       "      <td>976215</td>\n",
       "      <td>.</td>\n",
       "      <td>missense_variant</td>\n",
       "      <td>3.MODERATE</td>\n",
       "      <td>ENSG00000187642</td>\n",
       "      <td>0/1[S1+S6+S14+S17]; 1/1[S4+S5+S9+S10+S13+S15+S...</td>\n",
       "      <td>0/1[S2+S7+S21]; 1/1[S3+S11+S12+S19+S20+S22+S23...</td>\n",
       "    </tr>\n",
       "    <tr>\n",
       "      <th>3</th>\n",
       "      <td>chr1</td>\n",
       "      <td>978953</td>\n",
       "      <td>.</td>\n",
       "      <td>missense_variant</td>\n",
       "      <td>3.MODERATE</td>\n",
       "      <td>ENSG00000187642</td>\n",
       "      <td>0/1[S1+S5+S13+S14+S18]; 1/1[S4+S9+S10+S15+S16]...</td>\n",
       "      <td>0/1[S2+S7+S11+S12+S21+S23]; 1/1[S3+S19+S20+S22...</td>\n",
       "    </tr>\n",
       "    <tr>\n",
       "      <th>4</th>\n",
       "      <td>chr1</td>\n",
       "      <td>979459</td>\n",
       "      <td>.</td>\n",
       "      <td>missense_variant</td>\n",
       "      <td>3.MODERATE</td>\n",
       "      <td>ENSG00000187642</td>\n",
       "      <td>0/0[S1+S4+S5+S6+S9+S10+S13+S14+S15+S17]; 0/1[S...</td>\n",
       "      <td>0/1[S2+S19+S21]; 0/0[S3+S7+S11+S12+S20+S22+S23...</td>\n",
       "    </tr>\n",
       "    <tr>\n",
       "      <th>...</th>\n",
       "      <td>...</td>\n",
       "      <td>...</td>\n",
       "      <td>...</td>\n",
       "      <td>...</td>\n",
       "      <td>...</td>\n",
       "      <td>...</td>\n",
       "      <td>...</td>\n",
       "      <td>...</td>\n",
       "    </tr>\n",
       "    <tr>\n",
       "      <th>16388</th>\n",
       "      <td>chrY</td>\n",
       "      <td>14840900</td>\n",
       "      <td>.</td>\n",
       "      <td>stop_gained&amp;protein_altering_variant</td>\n",
       "      <td>4.HIGH</td>\n",
       "      <td>ENSG00000165246</td>\n",
       "      <td>./.[S1+S4+S5+S6+S9+S15+S16+S18]; 0/0[S10+S13+S...</td>\n",
       "      <td>./.[S2+S3+S7+S8+S12+S20+S22]; 0/0[S11+S19+S21+...</td>\n",
       "    </tr>\n",
       "    <tr>\n",
       "      <th>16389</th>\n",
       "      <td>chrY</td>\n",
       "      <td>14840902</td>\n",
       "      <td>.</td>\n",
       "      <td>frameshift_variant</td>\n",
       "      <td>4.HIGH</td>\n",
       "      <td>ENSG00000165246</td>\n",
       "      <td>./.[S1+S4+S5+S6+S9+S15+S16+S18]; 0/0[S10+S13+S...</td>\n",
       "      <td>./.[S2+S3+S7+S8+S12+S20+S22]; 0/0[S11+S19+S21+...</td>\n",
       "    </tr>\n",
       "    <tr>\n",
       "      <th>16390</th>\n",
       "      <td>chrY</td>\n",
       "      <td>19715951</td>\n",
       "      <td>.</td>\n",
       "      <td>stop_gained&amp;inframe_insertion</td>\n",
       "      <td>4.HIGH</td>\n",
       "      <td>ENSG00000012817</td>\n",
       "      <td>./.[S1+S4+S5+S6+S9+S15+S16+S17+S18]; 0/0[S10+S...</td>\n",
       "      <td>./.[S2+S3+S7+S8+S12+S20+S22]; 0/0[S11+S21+S23]...</td>\n",
       "    </tr>\n",
       "    <tr>\n",
       "      <th>16391</th>\n",
       "      <td>chrY</td>\n",
       "      <td>19732711</td>\n",
       "      <td>.</td>\n",
       "      <td>missense_variant</td>\n",
       "      <td>3.MODERATE</td>\n",
       "      <td>ENSG00000012817</td>\n",
       "      <td>./.[S1+S4+S5+S6+S9+S15+S16+S17+S18]; 0/0[S10+S...</td>\n",
       "      <td>./.[S2+S3+S7+S8+S12+S20+S22]; 1/1[S11]; 0/0[S1...</td>\n",
       "    </tr>\n",
       "    <tr>\n",
       "      <th>16392</th>\n",
       "      <td>chrY</td>\n",
       "      <td>26633343</td>\n",
       "      <td>.</td>\n",
       "      <td>splice_donor_variant&amp;non_coding_transcript_var...</td>\n",
       "      <td>4.HIGH</td>\n",
       "      <td>ENSG00000237917</td>\n",
       "      <td>./.[S1+S4+S5+S6+S9+S15+S16+S18]; 0/0[S10+S13+S...</td>\n",
       "      <td>./.[S2+S3+S7+S8+S12+S20+S22]; 0/0[S11+S19+S21+...</td>\n",
       "    </tr>\n",
       "  </tbody>\n",
       "</table>\n",
       "<p>16393 rows × 8 columns</p>\n",
       "</div>"
      ],
      "text/plain": [
       "      CHROM       POS ID                                   Consequence_cons  \\\n",
       "0      chr1     69511  .                                   missense_variant   \n",
       "1      chr1    168098  .  splice_donor_variant&non_coding_transcript_var...   \n",
       "2      chr1    976215  .                                   missense_variant   \n",
       "3      chr1    978953  .                                   missense_variant   \n",
       "4      chr1    979459  .                                   missense_variant   \n",
       "...     ...       ... ..                                                ...   \n",
       "16388  chrY  14840900  .               stop_gained&protein_altering_variant   \n",
       "16389  chrY  14840902  .                                 frameshift_variant   \n",
       "16390  chrY  19715951  .                      stop_gained&inframe_insertion   \n",
       "16391  chrY  19732711  .                                   missense_variant   \n",
       "16392  chrY  26633343  .  splice_donor_variant&non_coding_transcript_var...   \n",
       "\n",
       "      IMPACT_cons        Gene_cons  \\\n",
       "0      3.MODERATE  ENSG00000186092   \n",
       "1          4.HIGH  ENSG00000241860   \n",
       "2      3.MODERATE  ENSG00000187642   \n",
       "3      3.MODERATE  ENSG00000187642   \n",
       "4      3.MODERATE  ENSG00000187642   \n",
       "...           ...              ...   \n",
       "16388      4.HIGH  ENSG00000165246   \n",
       "16389      4.HIGH  ENSG00000165246   \n",
       "16390      4.HIGH  ENSG00000012817   \n",
       "16391  3.MODERATE  ENSG00000012817   \n",
       "16392      4.HIGH  ENSG00000237917   \n",
       "\n",
       "                                                GT_cases  \\\n",
       "0      1/1[S1+S4+S5+S6+S9+S10+S14+S15+S16+S17]; ./.[S...   \n",
       "1      0/0[S1+S4+S6+S9+S10+S13+S14+S15+S16+S17+S18]; ...   \n",
       "2      0/1[S1+S6+S14+S17]; 1/1[S4+S5+S9+S10+S13+S15+S...   \n",
       "3      0/1[S1+S5+S13+S14+S18]; 1/1[S4+S9+S10+S15+S16]...   \n",
       "4      0/0[S1+S4+S5+S6+S9+S10+S13+S14+S15+S17]; 0/1[S...   \n",
       "...                                                  ...   \n",
       "16388  ./.[S1+S4+S5+S6+S9+S15+S16+S18]; 0/0[S10+S13+S...   \n",
       "16389  ./.[S1+S4+S5+S6+S9+S15+S16+S18]; 0/0[S10+S13+S...   \n",
       "16390  ./.[S1+S4+S5+S6+S9+S15+S16+S17+S18]; 0/0[S10+S...   \n",
       "16391  ./.[S1+S4+S5+S6+S9+S15+S16+S17+S18]; 0/0[S10+S...   \n",
       "16392  ./.[S1+S4+S5+S6+S9+S15+S16+S18]; 0/0[S10+S13+S...   \n",
       "\n",
       "                                                GT_cntrl  \n",
       "0      ./.[S2+S8+S20+S21]; 1/1[S3+S7+S12+S19+S22]; 0/...  \n",
       "1      0/0[S2+S7+S11+S12+S19+S21+S22+S23]; 0/1[S3+S20...  \n",
       "2      0/1[S2+S7+S21]; 1/1[S3+S11+S12+S19+S20+S22+S23...  \n",
       "3      0/1[S2+S7+S11+S12+S21+S23]; 1/1[S3+S19+S20+S22...  \n",
       "4      0/1[S2+S19+S21]; 0/0[S3+S7+S11+S12+S20+S22+S23...  \n",
       "...                                                  ...  \n",
       "16388  ./.[S2+S3+S7+S8+S12+S20+S22]; 0/0[S11+S19+S21+...  \n",
       "16389  ./.[S2+S3+S7+S8+S12+S20+S22]; 0/0[S11+S19+S21+...  \n",
       "16390  ./.[S2+S3+S7+S8+S12+S20+S22]; 0/0[S11+S21+S23]...  \n",
       "16391  ./.[S2+S3+S7+S8+S12+S20+S22]; 1/1[S11]; 0/0[S1...  \n",
       "16392  ./.[S2+S3+S7+S8+S12+S20+S22]; 0/0[S11+S19+S21+...  \n",
       "\n",
       "[16393 rows x 8 columns]"
      ]
     },
     "execution_count": 32,
     "metadata": {},
     "output_type": "execute_result"
    }
   ],
   "source": [
    "df_var_imp_hs_cons_only"
   ]
  },
  {
   "cell_type": "code",
   "execution_count": 33,
   "id": "91d14ac5-6030-4be6-9b96-6d3b42e5bd9e",
   "metadata": {
    "tags": []
   },
   "outputs": [],
   "source": [
    "assoc_reports = [\n",
    "    f\"combined.jc.vep_mscvo.qc_assoc-count.assoc\",\n",
    "]"
   ]
  },
  {
   "cell_type": "code",
   "execution_count": 34,
   "id": "e1c0b542-64a2-401a-9664-c8357b431782",
   "metadata": {
    "tags": []
   },
   "outputs": [
    {
     "data": {
      "text/html": [
       "<div>\n",
       "<style scoped>\n",
       "    .dataframe tbody tr th:only-of-type {\n",
       "        vertical-align: middle;\n",
       "    }\n",
       "\n",
       "    .dataframe tbody tr th {\n",
       "        vertical-align: top;\n",
       "    }\n",
       "\n",
       "    .dataframe thead th {\n",
       "        text-align: right;\n",
       "    }\n",
       "</style>\n",
       "<table border=\"1\" class=\"dataframe\">\n",
       "  <thead>\n",
       "    <tr style=\"text-align: right;\">\n",
       "      <th></th>\n",
       "      <th>CHROM</th>\n",
       "      <th>POS</th>\n",
       "      <th>ID</th>\n",
       "      <th>Consequence_cons</th>\n",
       "      <th>IMPACT_cons</th>\n",
       "      <th>Gene_cons</th>\n",
       "      <th>GT_cases</th>\n",
       "      <th>GT_cntrl</th>\n",
       "    </tr>\n",
       "  </thead>\n",
       "  <tbody>\n",
       "    <tr>\n",
       "      <th>0</th>\n",
       "      <td>chr1</td>\n",
       "      <td>69511</td>\n",
       "      <td>.</td>\n",
       "      <td>missense_variant</td>\n",
       "      <td>3.MODERATE</td>\n",
       "      <td>ENSG00000186092</td>\n",
       "      <td>1/1[S1+S4+S5+S6+S9+S10+S14+S15+S16+S17]; ./.[S...</td>\n",
       "      <td>./.[S2+S8+S20+S21]; 1/1[S3+S7+S12+S19+S22]; 0/...</td>\n",
       "    </tr>\n",
       "    <tr>\n",
       "      <th>1</th>\n",
       "      <td>chr1</td>\n",
       "      <td>168098</td>\n",
       "      <td>.</td>\n",
       "      <td>splice_donor_variant&amp;non_coding_transcript_var...</td>\n",
       "      <td>4.HIGH</td>\n",
       "      <td>ENSG00000241860</td>\n",
       "      <td>0/0[S1+S4+S6+S9+S10+S13+S14+S15+S16+S17+S18]; ...</td>\n",
       "      <td>0/0[S2+S7+S11+S12+S19+S21+S22+S23]; 0/1[S3+S20...</td>\n",
       "    </tr>\n",
       "    <tr>\n",
       "      <th>2</th>\n",
       "      <td>chr1</td>\n",
       "      <td>976215</td>\n",
       "      <td>.</td>\n",
       "      <td>missense_variant</td>\n",
       "      <td>3.MODERATE</td>\n",
       "      <td>ENSG00000187642</td>\n",
       "      <td>0/1[S1+S6+S14+S17]; 1/1[S4+S5+S9+S10+S13+S15+S...</td>\n",
       "      <td>0/1[S2+S7+S21]; 1/1[S3+S11+S12+S19+S20+S22+S23...</td>\n",
       "    </tr>\n",
       "    <tr>\n",
       "      <th>3</th>\n",
       "      <td>chr1</td>\n",
       "      <td>978953</td>\n",
       "      <td>.</td>\n",
       "      <td>missense_variant</td>\n",
       "      <td>3.MODERATE</td>\n",
       "      <td>ENSG00000187642</td>\n",
       "      <td>0/1[S1+S5+S13+S14+S18]; 1/1[S4+S9+S10+S15+S16]...</td>\n",
       "      <td>0/1[S2+S7+S11+S12+S21+S23]; 1/1[S3+S19+S20+S22...</td>\n",
       "    </tr>\n",
       "    <tr>\n",
       "      <th>4</th>\n",
       "      <td>chr1</td>\n",
       "      <td>979459</td>\n",
       "      <td>.</td>\n",
       "      <td>missense_variant</td>\n",
       "      <td>3.MODERATE</td>\n",
       "      <td>ENSG00000187642</td>\n",
       "      <td>0/0[S1+S4+S5+S6+S9+S10+S13+S14+S15+S17]; 0/1[S...</td>\n",
       "      <td>0/1[S2+S19+S21]; 0/0[S3+S7+S11+S12+S20+S22+S23...</td>\n",
       "    </tr>\n",
       "    <tr>\n",
       "      <th>...</th>\n",
       "      <td>...</td>\n",
       "      <td>...</td>\n",
       "      <td>...</td>\n",
       "      <td>...</td>\n",
       "      <td>...</td>\n",
       "      <td>...</td>\n",
       "      <td>...</td>\n",
       "      <td>...</td>\n",
       "    </tr>\n",
       "    <tr>\n",
       "      <th>16388</th>\n",
       "      <td>chrY</td>\n",
       "      <td>14840900</td>\n",
       "      <td>.</td>\n",
       "      <td>stop_gained&amp;protein_altering_variant</td>\n",
       "      <td>4.HIGH</td>\n",
       "      <td>ENSG00000165246</td>\n",
       "      <td>./.[S1+S4+S5+S6+S9+S15+S16+S18]; 0/0[S10+S13+S...</td>\n",
       "      <td>./.[S2+S3+S7+S8+S12+S20+S22]; 0/0[S11+S19+S21+...</td>\n",
       "    </tr>\n",
       "    <tr>\n",
       "      <th>16389</th>\n",
       "      <td>chrY</td>\n",
       "      <td>14840902</td>\n",
       "      <td>.</td>\n",
       "      <td>frameshift_variant</td>\n",
       "      <td>4.HIGH</td>\n",
       "      <td>ENSG00000165246</td>\n",
       "      <td>./.[S1+S4+S5+S6+S9+S15+S16+S18]; 0/0[S10+S13+S...</td>\n",
       "      <td>./.[S2+S3+S7+S8+S12+S20+S22]; 0/0[S11+S19+S21+...</td>\n",
       "    </tr>\n",
       "    <tr>\n",
       "      <th>16390</th>\n",
       "      <td>chrY</td>\n",
       "      <td>19715951</td>\n",
       "      <td>.</td>\n",
       "      <td>stop_gained&amp;inframe_insertion</td>\n",
       "      <td>4.HIGH</td>\n",
       "      <td>ENSG00000012817</td>\n",
       "      <td>./.[S1+S4+S5+S6+S9+S15+S16+S17+S18]; 0/0[S10+S...</td>\n",
       "      <td>./.[S2+S3+S7+S8+S12+S20+S22]; 0/0[S11+S21+S23]...</td>\n",
       "    </tr>\n",
       "    <tr>\n",
       "      <th>16391</th>\n",
       "      <td>chrY</td>\n",
       "      <td>19732711</td>\n",
       "      <td>.</td>\n",
       "      <td>missense_variant</td>\n",
       "      <td>3.MODERATE</td>\n",
       "      <td>ENSG00000012817</td>\n",
       "      <td>./.[S1+S4+S5+S6+S9+S15+S16+S17+S18]; 0/0[S10+S...</td>\n",
       "      <td>./.[S2+S3+S7+S8+S12+S20+S22]; 1/1[S11]; 0/0[S1...</td>\n",
       "    </tr>\n",
       "    <tr>\n",
       "      <th>16392</th>\n",
       "      <td>chrY</td>\n",
       "      <td>26633343</td>\n",
       "      <td>.</td>\n",
       "      <td>splice_donor_variant&amp;non_coding_transcript_var...</td>\n",
       "      <td>4.HIGH</td>\n",
       "      <td>ENSG00000237917</td>\n",
       "      <td>./.[S1+S4+S5+S6+S9+S15+S16+S18]; 0/0[S10+S13+S...</td>\n",
       "      <td>./.[S2+S3+S7+S8+S12+S20+S22]; 0/0[S11+S19+S21+...</td>\n",
       "    </tr>\n",
       "  </tbody>\n",
       "</table>\n",
       "<p>16393 rows × 8 columns</p>\n",
       "</div>"
      ],
      "text/plain": [
       "      CHROM       POS ID                                   Consequence_cons  \\\n",
       "0      chr1     69511  .                                   missense_variant   \n",
       "1      chr1    168098  .  splice_donor_variant&non_coding_transcript_var...   \n",
       "2      chr1    976215  .                                   missense_variant   \n",
       "3      chr1    978953  .                                   missense_variant   \n",
       "4      chr1    979459  .                                   missense_variant   \n",
       "...     ...       ... ..                                                ...   \n",
       "16388  chrY  14840900  .               stop_gained&protein_altering_variant   \n",
       "16389  chrY  14840902  .                                 frameshift_variant   \n",
       "16390  chrY  19715951  .                      stop_gained&inframe_insertion   \n",
       "16391  chrY  19732711  .                                   missense_variant   \n",
       "16392  chrY  26633343  .  splice_donor_variant&non_coding_transcript_var...   \n",
       "\n",
       "      IMPACT_cons        Gene_cons  \\\n",
       "0      3.MODERATE  ENSG00000186092   \n",
       "1          4.HIGH  ENSG00000241860   \n",
       "2      3.MODERATE  ENSG00000187642   \n",
       "3      3.MODERATE  ENSG00000187642   \n",
       "4      3.MODERATE  ENSG00000187642   \n",
       "...           ...              ...   \n",
       "16388      4.HIGH  ENSG00000165246   \n",
       "16389      4.HIGH  ENSG00000165246   \n",
       "16390      4.HIGH  ENSG00000012817   \n",
       "16391  3.MODERATE  ENSG00000012817   \n",
       "16392      4.HIGH  ENSG00000237917   \n",
       "\n",
       "                                                GT_cases  \\\n",
       "0      1/1[S1+S4+S5+S6+S9+S10+S14+S15+S16+S17]; ./.[S...   \n",
       "1      0/0[S1+S4+S6+S9+S10+S13+S14+S15+S16+S17+S18]; ...   \n",
       "2      0/1[S1+S6+S14+S17]; 1/1[S4+S5+S9+S10+S13+S15+S...   \n",
       "3      0/1[S1+S5+S13+S14+S18]; 1/1[S4+S9+S10+S15+S16]...   \n",
       "4      0/0[S1+S4+S5+S6+S9+S10+S13+S14+S15+S17]; 0/1[S...   \n",
       "...                                                  ...   \n",
       "16388  ./.[S1+S4+S5+S6+S9+S15+S16+S18]; 0/0[S10+S13+S...   \n",
       "16389  ./.[S1+S4+S5+S6+S9+S15+S16+S18]; 0/0[S10+S13+S...   \n",
       "16390  ./.[S1+S4+S5+S6+S9+S15+S16+S17+S18]; 0/0[S10+S...   \n",
       "16391  ./.[S1+S4+S5+S6+S9+S15+S16+S17+S18]; 0/0[S10+S...   \n",
       "16392  ./.[S1+S4+S5+S6+S9+S15+S16+S18]; 0/0[S10+S13+S...   \n",
       "\n",
       "                                                GT_cntrl  \n",
       "0      ./.[S2+S8+S20+S21]; 1/1[S3+S7+S12+S19+S22]; 0/...  \n",
       "1      0/0[S2+S7+S11+S12+S19+S21+S22+S23]; 0/1[S3+S20...  \n",
       "2      0/1[S2+S7+S21]; 1/1[S3+S11+S12+S19+S20+S22+S23...  \n",
       "3      0/1[S2+S7+S11+S12+S21+S23]; 1/1[S3+S19+S20+S22...  \n",
       "4      0/1[S2+S19+S21]; 0/0[S3+S7+S11+S12+S20+S22+S23...  \n",
       "...                                                  ...  \n",
       "16388  ./.[S2+S3+S7+S8+S12+S20+S22]; 0/0[S11+S19+S21+...  \n",
       "16389  ./.[S2+S3+S7+S8+S12+S20+S22]; 0/0[S11+S19+S21+...  \n",
       "16390  ./.[S2+S3+S7+S8+S12+S20+S22]; 0/0[S11+S21+S23]...  \n",
       "16391  ./.[S2+S3+S7+S8+S12+S20+S22]; 1/1[S11]; 0/0[S1...  \n",
       "16392  ./.[S2+S3+S7+S8+S12+S20+S22]; 0/0[S11+S19+S21+...  \n",
       "\n",
       "[16393 rows x 8 columns]"
      ]
     },
     "execution_count": 34,
     "metadata": {},
     "output_type": "execute_result"
    }
   ],
   "source": [
    "df_var_imp_hs_cons_only"
   ]
  },
  {
   "cell_type": "markdown",
   "id": "4bb4d0df-d11b-4b7a-827d-c9d58656d67d",
   "metadata": {},
   "source": [
    "## Step 2.4 and 2.5: Filter-in only variants with raw p-value < 0.05 for association to phenotype"
   ]
  },
  {
   "cell_type": "code",
   "execution_count": 35,
   "id": "a0664268-a976-451f-9f9a-8f58294503e0",
   "metadata": {
    "tags": []
   },
   "outputs": [],
   "source": [
    "pvalue_threshold = 0.05\n",
    "for rpt in assoc_reports:\n",
    "    df_rpt = pd.read_csv(assoc_dir + '/'+rpt, sep=\"\\s+\", index_col=None)\n",
    "    df_rpt['CHR'] = ['chr' + str(c) for c in df_rpt['CHR'].values]\n",
    "    df_rpt_join = df_rpt.merge(df_var_imp_hs_cons_only, how=\"inner\", left_on=['CHR', 'BP'], right_on=['CHROM', 'POS'])\n",
    "    df_rpt_join = df_rpt_join.drop(columns=['CHROM', 'POS'])\n",
    "    df_rpt_join.to_csv(assoc_dir + \"/annot-gene-\" + rpt + \".tsv\", sep=\"\\t\", index=None)\n",
    "    \n",
    "    filter_rdf = df_rpt_join[(df_rpt_join['C_U']==0) & (df_rpt_join['P'] <= pvalue_threshold)]\n",
    "    filter_rdf_sorted = filter_rdf.sort_values(by='P')\n",
    "    filter_rdf_sorted.to_csv(f\"{assoc_dir}/annot-var-impact-aggr-by-gene-p-value-lt-{pvalue_threshold:0.03f}.tsv\", sep=\"\\t\", index=None)"
   ]
  },
  {
   "cell_type": "code",
   "execution_count": 36,
   "id": "ec3920d9-0fc0-47f0-a449-e768b202e840",
   "metadata": {
    "tags": []
   },
   "outputs": [
    {
     "data": {
      "text/plain": [
       "(156, 16)"
      ]
     },
     "execution_count": 36,
     "metadata": {},
     "output_type": "execute_result"
    }
   ],
   "source": [
    "filter_rdf_sorted.shape"
   ]
  },
  {
   "cell_type": "code",
   "execution_count": 37,
   "id": "e43fa980-787a-4bc7-a0c9-ef1c1bb0fd8c",
   "metadata": {
    "tags": []
   },
   "outputs": [],
   "source": [
    "def highest_conseq(conseqs):\n",
    "    cnsq_sort = sorted(conseqs, reverse=True)\n",
    "    return cnsq_sort[0]"
   ]
  },
  {
   "cell_type": "code",
   "execution_count": 38,
   "id": "3a2e0556-c678-4037-86d0-0f76620f7ec7",
   "metadata": {
    "tags": []
   },
   "outputs": [
    {
     "data": {
      "text/plain": [
       "'4.LOW'"
      ]
     },
     "execution_count": 38,
     "metadata": {},
     "output_type": "execute_result"
    }
   ],
   "source": [
    "highest_conseq(['4.LOW', '3.MODERATE', '4.HIGH'])"
   ]
  },
  {
   "cell_type": "code",
   "execution_count": 39,
   "id": "80740c03-2c67-40f5-b82c-91c693dd23d5",
   "metadata": {
    "tags": []
   },
   "outputs": [],
   "source": [
    "def CA_list(ca):\n",
    "    return '+'.join([i for i in ca])"
   ]
  },
  {
   "cell_type": "code",
   "execution_count": 40,
   "id": "1c8ec17f-dd9b-44ff-a184-9a65c085027a",
   "metadata": {
    "tags": []
   },
   "outputs": [],
   "source": [
    "def sample_alleles(allele_list):\n",
    "    case_alleles_summary = \" & \".join(allele_list)\n",
    "    return case_alleles_summary\n",
    "\n",
    "def sample_alleles_uniq(allele_list):\n",
    "    allele_all_vars = []\n",
    "    for alv in allele_list:\n",
    "        allele_all_vars.extend(alv.split(\";\"))\n",
    "    all_vars = {}\n",
    "    for alv in allele_all_vars:\n",
    "        aln = alv[0:alv.index(\"[\")]\n",
    "        smp = alv[alv.index(\"[\")+1:alv.index(\"]\")].split(\"+\")\n",
    "        if aln not in all_vars:\n",
    "            all_vars[aln] = smp\n",
    "        else:\n",
    "            all_vars[aln].extend(smp)\n",
    "    case_alleles_summary = \" & \".join([k+\"[\"+ \"+\".join(np.unique(v)) +\"]\" for k, v in all_vars.items()])\n",
    "    return case_alleles_summary\n",
    "\n",
    "def sample_alleles_counts(allele_list):\n",
    "    allele_all_vars = []\n",
    "    for alv in allele_list:\n",
    "        allele_all_this = alv.split(\";\")\n",
    "        all_vars = {}\n",
    "        for alv in allele_all_this:\n",
    "            aln = alv[0:alv.index(\"[\")]\n",
    "            smp = alv[alv.index(\"[\")+1:alv.index(\"]\")].split(\"+\")\n",
    "            if aln not in all_vars:\n",
    "                all_vars[aln] = smp\n",
    "            else:\n",
    "                all_vars[aln].extend(smp)\n",
    "        allele_all_vars.append(\",\".join([f\"{k}[{len(v)}]\" for k, v in all_vars.items()]))\n",
    "    case_alleles_summary_count = \" & \".join(allele_all_vars)\n",
    "    return case_alleles_summary_count\n",
    "\n",
    "def sample_alleles_counts_uniq(allele_list):\n",
    "    allele_all_vars = []\n",
    "    for alv in allele_list:\n",
    "        allele_all_vars.extend(alv.split(\";\"))\n",
    "    all_vars = {}\n",
    "    for alv in allele_all_vars:\n",
    "        aln = alv[0:alv.index(\"[\")]\n",
    "        smp = alv[alv.index(\"[\")+1:alv.index(\"]\")].split(\"+\")\n",
    "        if aln not in all_vars:\n",
    "            all_vars[aln] = smp\n",
    "        else:\n",
    "            all_vars[aln].extend(smp)\n",
    "    case_alleles_summary_count = \" & \".join([f\"{k}[{len(np.unique(v))}]\" for k, v in all_vars.items()])\n",
    "    return case_alleles_summary_count"
   ]
  },
  {
   "cell_type": "code",
   "execution_count": 41,
   "id": "982a6ab9-987e-4198-b37d-41af9d615d0f",
   "metadata": {
    "tags": []
   },
   "outputs": [],
   "source": [
    "filter_rdf_sorted_agg = filter_rdf_sorted.groupby(['Gene_cons']).agg({\n",
    "    'Gene_cons': ['count'],\n",
    "    'CHR': ['first'],\n",
    "    'C_A': ['sum', lambda x: '+'.join([str(i) for i in x])],\n",
    "    'C_U': 'sum', \n",
    "    'Consequence_cons': lambda x: '; '.join(x),\n",
    "    'IMPACT_cons': lambda x: '; '.join(x),\n",
    "    'GT_cases': [sample_alleles_counts, sample_alleles_counts_uniq, sample_alleles],\n",
    "    'GT_cntrl': [sample_alleles_counts, sample_alleles]\n",
    "}).reset_index()\n",
    "filter_rdf_sorted_agg.columns = ['Gene', 'nVariants', 'CHROM', 'C_A_sum', 'C_A_list', 'C_U_sum', 'Consequence_cons_list', 'IMPACT_cons(higest)', \n",
    "                                 'nGT_cases', 'nGT_cases_uniq', 'GT_cases', 'nGT_controls', 'GT_controls']"
   ]
  },
  {
   "cell_type": "code",
   "execution_count": 42,
   "id": "3fb78617-b63a-4ccb-a03a-6bf92d840162",
   "metadata": {
    "tags": []
   },
   "outputs": [],
   "source": [
    "filter_rdf_sorted_agg.to_csv(f\"{assoc_dir}/annot-var-impact-aggr-by-gene-weighted-p-value-lt-{pvalue_threshold}.tsv\", sep=\"\\t\", index=None)"
   ]
  },
  {
   "cell_type": "code",
   "execution_count": 43,
   "id": "f12b75f3-5195-4d13-9320-b66449152c7c",
   "metadata": {
    "tags": []
   },
   "outputs": [
    {
     "data": {
      "text/html": [
       "<div>\n",
       "<style scoped>\n",
       "    .dataframe tbody tr th:only-of-type {\n",
       "        vertical-align: middle;\n",
       "    }\n",
       "\n",
       "    .dataframe tbody tr th {\n",
       "        vertical-align: top;\n",
       "    }\n",
       "\n",
       "    .dataframe thead th {\n",
       "        text-align: right;\n",
       "    }\n",
       "</style>\n",
       "<table border=\"1\" class=\"dataframe\">\n",
       "  <thead>\n",
       "    <tr style=\"text-align: right;\">\n",
       "      <th></th>\n",
       "      <th>Gene</th>\n",
       "      <th>nVariants</th>\n",
       "      <th>CHROM</th>\n",
       "      <th>C_A_sum</th>\n",
       "      <th>C_A_list</th>\n",
       "      <th>C_U_sum</th>\n",
       "      <th>Consequence_cons_list</th>\n",
       "      <th>IMPACT_cons(higest)</th>\n",
       "      <th>nGT_cases</th>\n",
       "      <th>nGT_cases_uniq</th>\n",
       "      <th>GT_cases</th>\n",
       "      <th>nGT_controls</th>\n",
       "      <th>GT_controls</th>\n",
       "    </tr>\n",
       "  </thead>\n",
       "  <tbody>\n",
       "    <tr>\n",
       "      <th>0</th>\n",
       "      <td>ENSG00000000938</td>\n",
       "      <td>1</td>\n",
       "      <td>chr1</td>\n",
       "      <td>5</td>\n",
       "      <td>5</td>\n",
       "      <td>0</td>\n",
       "      <td>frameshift_variant</td>\n",
       "      <td>4.HIGH</td>\n",
       "      <td>0/0[11], 0|1[1]</td>\n",
       "      <td>0/0[11] &amp;  0|1[1]</td>\n",
       "      <td>0/0[S1+S4+S5+S6+S10+S13+S14+S15+S16+S17+S18]; ...</td>\n",
       "      <td>0/0[8], 0|1[2], 1|1[1]</td>\n",
       "      <td>0/0[S2+S3+S11+S12+S19+S20+S22+S23]; 0|1[S7+S21...</td>\n",
       "    </tr>\n",
       "    <tr>\n",
       "      <th>1</th>\n",
       "      <td>ENSG00000003989</td>\n",
       "      <td>1</td>\n",
       "      <td>chr8</td>\n",
       "      <td>4</td>\n",
       "      <td>4</td>\n",
       "      <td>0</td>\n",
       "      <td>missense_variant</td>\n",
       "      <td>3.MODERATE</td>\n",
       "      <td>0/0[11], 0/1[1]</td>\n",
       "      <td>0/0[11] &amp;  0/1[1]</td>\n",
       "      <td>0/0[S1+S4+S6+S9+S10+S13+S14+S15+S16+S17+S18]; ...</td>\n",
       "      <td>0/1[3], 0/0[8]</td>\n",
       "      <td>0/1[S2+S20+S21]; 0/0[S3+S7+S8+S11+S12+S19+S22+...</td>\n",
       "    </tr>\n",
       "    <tr>\n",
       "      <th>2</th>\n",
       "      <td>ENSG00000007944</td>\n",
       "      <td>1</td>\n",
       "      <td>chr6</td>\n",
       "      <td>4</td>\n",
       "      <td>4</td>\n",
       "      <td>0</td>\n",
       "      <td>missense_variant</td>\n",
       "      <td>3.MODERATE</td>\n",
       "      <td>0/0[11], 0/1[1]</td>\n",
       "      <td>0/0[11] &amp;  0/1[1]</td>\n",
       "      <td>0/0[S1+S4+S5+S9+S10+S13+S14+S15+S16+S17+S18]; ...</td>\n",
       "      <td>0/0[8], ./.[1], 1/1[1], 0/1[1]</td>\n",
       "      <td>0/0[S2+S3+S7+S11+S12+S21+S22+S23]; ./.[S8]; 1/...</td>\n",
       "    </tr>\n",
       "    <tr>\n",
       "      <th>3</th>\n",
       "      <td>ENSG00000011028</td>\n",
       "      <td>2</td>\n",
       "      <td>chr17</td>\n",
       "      <td>8</td>\n",
       "      <td>4+4</td>\n",
       "      <td>0</td>\n",
       "      <td>frameshift_variant; frameshift_variant</td>\n",
       "      <td>4.HIGH; 4.HIGH</td>\n",
       "      <td>0/0[11], 0|1[1] &amp; 0/0[11], 0|1[1]</td>\n",
       "      <td>0/0[11] &amp;  0|1[1]</td>\n",
       "      <td>0/0[S1+S4+S5+S6+S10+S13+S14+S15+S16+S17+S18]; ...</td>\n",
       "      <td>0/0[9], 1|1[1], 0|1[1] &amp; 0/0[9], 1|1[1], 0|1[1]</td>\n",
       "      <td>0/0[S2+S3+S7+S11+S12+S19+S21+S22+S23]; 1|1[S8]...</td>\n",
       "    </tr>\n",
       "    <tr>\n",
       "      <th>4</th>\n",
       "      <td>ENSG00000047578</td>\n",
       "      <td>1</td>\n",
       "      <td>chr16</td>\n",
       "      <td>4</td>\n",
       "      <td>4</td>\n",
       "      <td>0</td>\n",
       "      <td>missense_variant</td>\n",
       "      <td>3.MODERATE</td>\n",
       "      <td>0/0[12]</td>\n",
       "      <td>0/0[12]</td>\n",
       "      <td>0/0[S1+S4+S5+S6+S9+S10+S13+S14+S15+S16+S17+S18]</td>\n",
       "      <td>0/0[8], 1/1[1], 0/1[2]</td>\n",
       "      <td>0/0[S2+S3+S8+S11+S12+S20+S22+S23]; 1/1[S7]; 0/...</td>\n",
       "    </tr>\n",
       "    <tr>\n",
       "      <th>...</th>\n",
       "      <td>...</td>\n",
       "      <td>...</td>\n",
       "      <td>...</td>\n",
       "      <td>...</td>\n",
       "      <td>...</td>\n",
       "      <td>...</td>\n",
       "      <td>...</td>\n",
       "      <td>...</td>\n",
       "      <td>...</td>\n",
       "      <td>...</td>\n",
       "      <td>...</td>\n",
       "      <td>...</td>\n",
       "      <td>...</td>\n",
       "    </tr>\n",
       "    <tr>\n",
       "      <th>121</th>\n",
       "      <td>ENSG00000249647</td>\n",
       "      <td>1</td>\n",
       "      <td>chr5</td>\n",
       "      <td>4</td>\n",
       "      <td>4</td>\n",
       "      <td>0</td>\n",
       "      <td>splice_donor_variant&amp;non_coding_transcript_var...</td>\n",
       "      <td>4.HIGH</td>\n",
       "      <td>0/0[11], 0|1[1]</td>\n",
       "      <td>0/0[11] &amp;  0|1[1]</td>\n",
       "      <td>0/0[S1+S4+S5+S6+S10+S13+S14+S15+S16+S17+S18]; ...</td>\n",
       "      <td>0/1[2], 0/0[7], ./.[1], 0|1[1]</td>\n",
       "      <td>0/1[S2+S7]; 0/0[S3+S12+S19+S20+S21+S22+S23]; ....</td>\n",
       "    </tr>\n",
       "    <tr>\n",
       "      <th>122</th>\n",
       "      <td>ENSG00000254245</td>\n",
       "      <td>1</td>\n",
       "      <td>chr5</td>\n",
       "      <td>5</td>\n",
       "      <td>5</td>\n",
       "      <td>0</td>\n",
       "      <td>missense_variant</td>\n",
       "      <td>3.MODERATE</td>\n",
       "      <td>0/0[10], 0/1[2]</td>\n",
       "      <td>0/0[10] &amp;  0/1[2]</td>\n",
       "      <td>0/0[S1+S4+S6+S9+S13+S14+S15+S16+S17+S18]; 0/1[...</td>\n",
       "      <td>0/0[7], 0/1[3], ./.[1]</td>\n",
       "      <td>0/0[S2+S3+S12+S19+S20+S22+S23]; 0/1[S7+S11+S21...</td>\n",
       "    </tr>\n",
       "    <tr>\n",
       "      <th>123</th>\n",
       "      <td>ENSG00000261701</td>\n",
       "      <td>1</td>\n",
       "      <td>chr16</td>\n",
       "      <td>5</td>\n",
       "      <td>5</td>\n",
       "      <td>0</td>\n",
       "      <td>missense_variant</td>\n",
       "      <td>3.MODERATE</td>\n",
       "      <td>0/1[2], 0/0[10]</td>\n",
       "      <td>0/1[2] &amp;  0/0[10]</td>\n",
       "      <td>0/1[S1+S6]; 0/0[S4+S5+S9+S10+S13+S14+S15+S16+S...</td>\n",
       "      <td>0/0[7], 0/1[3], ./.[1]</td>\n",
       "      <td>0/0[S2+S3+S11+S12+S21+S22+S23]; 0/1[S7+S19+S20...</td>\n",
       "    </tr>\n",
       "    <tr>\n",
       "      <th>124</th>\n",
       "      <td>ENSG00000263870</td>\n",
       "      <td>1</td>\n",
       "      <td>chr17</td>\n",
       "      <td>5</td>\n",
       "      <td>5</td>\n",
       "      <td>0</td>\n",
       "      <td>splice_acceptor_variant&amp;non_coding_transcript_...</td>\n",
       "      <td>4.HIGH</td>\n",
       "      <td>0/0[11], 0/1[1]</td>\n",
       "      <td>0/0[11] &amp;  0/1[1]</td>\n",
       "      <td>0/0[S1+S4+S5+S9+S10+S13+S14+S15+S16+S17+S18]; ...</td>\n",
       "      <td>0/0[7], 0|1[2], 1|1[1], 0|0[1]</td>\n",
       "      <td>0/0[S2+S3+S11+S12+S20+S22+S23]; 0|1[S7+S19]; 1...</td>\n",
       "    </tr>\n",
       "    <tr>\n",
       "      <th>125</th>\n",
       "      <td>ENSG00000268043</td>\n",
       "      <td>1</td>\n",
       "      <td>chr1</td>\n",
       "      <td>6</td>\n",
       "      <td>6</td>\n",
       "      <td>0</td>\n",
       "      <td>missense_variant</td>\n",
       "      <td>3.MODERATE</td>\n",
       "      <td>0/1[3], 0/0[9]</td>\n",
       "      <td>0/1[3] &amp;  0/0[9]</td>\n",
       "      <td>0/1[S1+S6+S9]; 0/0[S4+S5+S10+S13+S14+S15+S16+S...</td>\n",
       "      <td>0/0[7], 0/1[3], ./.[1]</td>\n",
       "      <td>0/0[S2+S3+S11+S12+S20+S22+S23]; 0/1[S7+S19+S21...</td>\n",
       "    </tr>\n",
       "  </tbody>\n",
       "</table>\n",
       "<p>126 rows × 13 columns</p>\n",
       "</div>"
      ],
      "text/plain": [
       "                Gene  nVariants  CHROM  C_A_sum C_A_list  C_U_sum  \\\n",
       "0    ENSG00000000938          1   chr1        5        5        0   \n",
       "1    ENSG00000003989          1   chr8        4        4        0   \n",
       "2    ENSG00000007944          1   chr6        4        4        0   \n",
       "3    ENSG00000011028          2  chr17        8      4+4        0   \n",
       "4    ENSG00000047578          1  chr16        4        4        0   \n",
       "..               ...        ...    ...      ...      ...      ...   \n",
       "121  ENSG00000249647          1   chr5        4        4        0   \n",
       "122  ENSG00000254245          1   chr5        5        5        0   \n",
       "123  ENSG00000261701          1  chr16        5        5        0   \n",
       "124  ENSG00000263870          1  chr17        5        5        0   \n",
       "125  ENSG00000268043          1   chr1        6        6        0   \n",
       "\n",
       "                                 Consequence_cons_list IMPACT_cons(higest)  \\\n",
       "0                                   frameshift_variant              4.HIGH   \n",
       "1                                     missense_variant          3.MODERATE   \n",
       "2                                     missense_variant          3.MODERATE   \n",
       "3               frameshift_variant; frameshift_variant      4.HIGH; 4.HIGH   \n",
       "4                                     missense_variant          3.MODERATE   \n",
       "..                                                 ...                 ...   \n",
       "121  splice_donor_variant&non_coding_transcript_var...              4.HIGH   \n",
       "122                                   missense_variant          3.MODERATE   \n",
       "123                                   missense_variant          3.MODERATE   \n",
       "124  splice_acceptor_variant&non_coding_transcript_...              4.HIGH   \n",
       "125                                   missense_variant          3.MODERATE   \n",
       "\n",
       "                             nGT_cases     nGT_cases_uniq  \\\n",
       "0                      0/0[11], 0|1[1]  0/0[11] &  0|1[1]   \n",
       "1                      0/0[11], 0/1[1]  0/0[11] &  0/1[1]   \n",
       "2                      0/0[11], 0/1[1]  0/0[11] &  0/1[1]   \n",
       "3    0/0[11], 0|1[1] & 0/0[11], 0|1[1]  0/0[11] &  0|1[1]   \n",
       "4                              0/0[12]            0/0[12]   \n",
       "..                                 ...                ...   \n",
       "121                    0/0[11], 0|1[1]  0/0[11] &  0|1[1]   \n",
       "122                    0/0[10], 0/1[2]  0/0[10] &  0/1[2]   \n",
       "123                    0/1[2], 0/0[10]  0/1[2] &  0/0[10]   \n",
       "124                    0/0[11], 0/1[1]  0/0[11] &  0/1[1]   \n",
       "125                     0/1[3], 0/0[9]   0/1[3] &  0/0[9]   \n",
       "\n",
       "                                              GT_cases  \\\n",
       "0    0/0[S1+S4+S5+S6+S10+S13+S14+S15+S16+S17+S18]; ...   \n",
       "1    0/0[S1+S4+S6+S9+S10+S13+S14+S15+S16+S17+S18]; ...   \n",
       "2    0/0[S1+S4+S5+S9+S10+S13+S14+S15+S16+S17+S18]; ...   \n",
       "3    0/0[S1+S4+S5+S6+S10+S13+S14+S15+S16+S17+S18]; ...   \n",
       "4      0/0[S1+S4+S5+S6+S9+S10+S13+S14+S15+S16+S17+S18]   \n",
       "..                                                 ...   \n",
       "121  0/0[S1+S4+S5+S6+S10+S13+S14+S15+S16+S17+S18]; ...   \n",
       "122  0/0[S1+S4+S6+S9+S13+S14+S15+S16+S17+S18]; 0/1[...   \n",
       "123  0/1[S1+S6]; 0/0[S4+S5+S9+S10+S13+S14+S15+S16+S...   \n",
       "124  0/0[S1+S4+S5+S9+S10+S13+S14+S15+S16+S17+S18]; ...   \n",
       "125  0/1[S1+S6+S9]; 0/0[S4+S5+S10+S13+S14+S15+S16+S...   \n",
       "\n",
       "                                        nGT_controls  \\\n",
       "0                             0/0[8], 0|1[2], 1|1[1]   \n",
       "1                                     0/1[3], 0/0[8]   \n",
       "2                     0/0[8], ./.[1], 1/1[1], 0/1[1]   \n",
       "3    0/0[9], 1|1[1], 0|1[1] & 0/0[9], 1|1[1], 0|1[1]   \n",
       "4                             0/0[8], 1/1[1], 0/1[2]   \n",
       "..                                               ...   \n",
       "121                   0/1[2], 0/0[7], ./.[1], 0|1[1]   \n",
       "122                           0/0[7], 0/1[3], ./.[1]   \n",
       "123                           0/0[7], 0/1[3], ./.[1]   \n",
       "124                   0/0[7], 0|1[2], 1|1[1], 0|0[1]   \n",
       "125                           0/0[7], 0/1[3], ./.[1]   \n",
       "\n",
       "                                           GT_controls  \n",
       "0    0/0[S2+S3+S11+S12+S19+S20+S22+S23]; 0|1[S7+S21...  \n",
       "1    0/1[S2+S20+S21]; 0/0[S3+S7+S8+S11+S12+S19+S22+...  \n",
       "2    0/0[S2+S3+S7+S11+S12+S21+S22+S23]; ./.[S8]; 1/...  \n",
       "3    0/0[S2+S3+S7+S11+S12+S19+S21+S22+S23]; 1|1[S8]...  \n",
       "4    0/0[S2+S3+S8+S11+S12+S20+S22+S23]; 1/1[S7]; 0/...  \n",
       "..                                                 ...  \n",
       "121  0/1[S2+S7]; 0/0[S3+S12+S19+S20+S21+S22+S23]; ....  \n",
       "122  0/0[S2+S3+S12+S19+S20+S22+S23]; 0/1[S7+S11+S21...  \n",
       "123  0/0[S2+S3+S11+S12+S21+S22+S23]; 0/1[S7+S19+S20...  \n",
       "124  0/0[S2+S3+S11+S12+S20+S22+S23]; 0|1[S7+S19]; 1...  \n",
       "125  0/0[S2+S3+S11+S12+S20+S22+S23]; 0/1[S7+S19+S21...  \n",
       "\n",
       "[126 rows x 13 columns]"
      ]
     },
     "execution_count": 43,
     "metadata": {},
     "output_type": "execute_result"
    }
   ],
   "source": [
    "filter_rdf_sorted_agg"
   ]
  },
  {
   "cell_type": "code",
   "execution_count": 44,
   "id": "8d92fe1a-691c-4591-934a-9c4a4d8966d7",
   "metadata": {
    "tags": []
   },
   "outputs": [],
   "source": [
    "gp = GProfiler(return_dataframe=True)"
   ]
  },
  {
   "cell_type": "code",
   "execution_count": 45,
   "id": "7559b32c-6fec-400e-b317-8428346fad08",
   "metadata": {
    "tags": []
   },
   "outputs": [],
   "source": [
    "gene_list = list(filter_rdf_sorted_agg['Gene'].unique())"
   ]
  },
  {
   "cell_type": "markdown",
   "id": "5e8d3119-38fc-40ba-ac52-64028bfbfe0a",
   "metadata": {},
   "source": [
    "### Fetch gene names from gene_ids and save"
   ]
  },
  {
   "cell_type": "code",
   "execution_count": 46,
   "id": "f6c9c4fe-90ff-43d5-b6e4-2b1abb453e8b",
   "metadata": {},
   "outputs": [],
   "source": [
    "fetch_gene_id_to_ensp_id_name = False"
   ]
  },
  {
   "cell_type": "code",
   "execution_count": 47,
   "id": "2ccc680d-e352-493f-82ce-d132a1d8b6e5",
   "metadata": {
    "tags": []
   },
   "outputs": [],
   "source": [
    "if fetch_gene_id_to_ensp_id_name:\n",
    "    gene_id_to_name = gp.convert(organism='hsapiens', query=gene_list, target_namespace='ENSP')\n",
    "    gene_id_to_ensp_id = gene_id_to_name.copy()\n",
    "    gene_id_to_name = gene_id_to_name.drop(columns=['converted', 'n_incoming', 'n_converted', 'query'])\n",
    "    gene_id_to_name_uniq = gene_id_to_name.drop_duplicates()\n",
    "\n",
    "    gene_id_to_name_uniq.to_csv(f\"{assoc_dir}/ENSG-to-proteinname-hsapiens_mssvo-pvalue-le-0.05-9-26-2024_11-18-05-AM-uniq.csv\", index=False)\n",
    "    gene_id_to_ensp_id.to_csv(f\"{assoc_dir}/ENSG-to-ENSP-proteinname-hsapiens_mssvo-pvalue-le-0.05-9-26-2024_11-18-05-AM.csv\", index=False)\n",
    "    gene_id_to_name_uniq"
   ]
  },
  {
   "cell_type": "code",
   "execution_count": 48,
   "id": "268f2254-0fb8-409d-a703-06583bf27309",
   "metadata": {
    "tags": []
   },
   "outputs": [],
   "source": [
    "if not fetch_gene_id_to_ensp_id_name:\n",
    "    df_gene = pd.read_csv(f\"{assoc_dir}/ENSG-to-proteinname-hsapiens_mssvo-pvalue-le-0.05-9-26-2024_11-18-05-AM-uniq.csv\",  skiprows=0)\n",
    "    df_gene.head()"
   ]
  },
  {
   "cell_type": "markdown",
   "id": "73801996-91e3-464f-8ffb-e547cf9838f7",
   "metadata": {
    "tags": []
   },
   "source": [
    "### Variants effect summanry file has only GENE_IDs, lets add the gene_names info "
   ]
  },
  {
   "cell_type": "code",
   "execution_count": 49,
   "id": "c0189ddf-04d2-42c8-a306-31bbda0ff5d0",
   "metadata": {
    "tags": []
   },
   "outputs": [
    {
     "name": "stdout",
     "output_type": "stream",
     "text": [
      "df_join_gn_names_variants.shape= (156, 20) df_join_gn_names.shape= (126, 17)\n"
     ]
    }
   ],
   "source": [
    "df_join_gn_names_variants = filter_rdf_sorted.merge(df_gene, how=\"inner\", right_on=['incoming'], left_on=['Gene_cons'])\n",
    "df_join_gn_names = filter_rdf_sorted_agg.merge(df_gene, how=\"inner\", right_on=['incoming'], left_on=['Gene'])\n",
    "print(\"df_join_gn_names_variants.shape=\", df_join_gn_names_variants.shape,\"df_join_gn_names.shape=\", df_join_gn_names.shape)"
   ]
  },
  {
   "cell_type": "code",
   "execution_count": 50,
   "id": "f174a0e8-9238-4d07-b211-0e6a5354ae29",
   "metadata": {
    "tags": []
   },
   "outputs": [
    {
     "name": "stdout",
     "output_type": "stream",
     "text": [
      "df_join_gn_names_variants.columns= Index(['CHR', 'SNP', 'BP', 'A1', 'C_A', 'C_U', 'A2', 'CHISQ', 'P', 'OR', 'ID',\n",
      "       'Consequence_cons', 'IMPACT_cons', 'Gene_cons', 'GT_cases', 'GT_cntrl',\n",
      "       'incoming', 'name', 'description', 'namespaces'],\n",
      "      dtype='object')\n",
      "filter_rdf_sorted.columns= Index(['CHR', 'SNP', 'BP', 'A1', 'C_A', 'C_U', 'A2', 'CHISQ', 'P', 'OR', 'ID',\n",
      "       'Consequence_cons', 'IMPACT_cons', 'Gene_cons', 'GT_cases', 'GT_cntrl',\n",
      "       'incoming', 'name', 'description', 'namespaces'],\n",
      "      dtype='object')\n",
      "genome-wide-association\n"
     ]
    }
   ],
   "source": [
    "print(\"df_join_gn_names_variants.columns=\", df_join_gn_names_variants.columns)\n",
    "print(\"filter_rdf_sorted.columns=\", df_join_gn_names_variants.columns)\n",
    "print(assoc_dir)\n",
    "\n",
    "df_join_gn_names_variants1 = df_join_gn_names_variants.copy()\n",
    "df_join_gn_names_variants = df_join_gn_names_variants1[['incoming', 'name', \n",
    "        'CHR', 'SNP', 'BP', 'A1', 'C_A', 'C_U', 'A2', 'CHISQ', 'P', 'OR', 'ID',\n",
    "       'Consequence_cons', 'IMPACT_cons', 'Gene_cons', 'GT_cases', 'GT_cntrl']]"
   ]
  },
  {
   "cell_type": "code",
   "execution_count": 51,
   "id": "a3922e65-ed53-4f1d-a94f-702b57750a09",
   "metadata": {
    "tags": []
   },
   "outputs": [
    {
     "data": {
      "text/plain": [
       "(156, 18)"
      ]
     },
     "execution_count": 51,
     "metadata": {},
     "output_type": "execute_result"
    }
   ],
   "source": [
    "df_join_gn_names_variants.head()\n",
    "\n",
    "df_join_gn_names_variants.shape"
   ]
  },
  {
   "cell_type": "code",
   "execution_count": 52,
   "id": "84d591c9-8298-46a2-b0b4-ff7216f36be4",
   "metadata": {
    "tags": []
   },
   "outputs": [],
   "source": [
    "df_join_gn_names_variants.to_csv(f\"{assoc_dir}/annot-var-impact-named-gene-p-value-lt-{pvalue_threshold}.tsv\", sep=\"\\t\", index=None)"
   ]
  },
  {
   "cell_type": "code",
   "execution_count": 53,
   "id": "578c3c90-ceee-45d4-9456-e2e2efaa6f0a",
   "metadata": {
    "tags": []
   },
   "outputs": [],
   "source": [
    "df_join_gn_names.to_csv(f\"{assoc_dir}/annot-var-impact-aggr-by-gene-weighted-with-genename-p-value-lt-{pvalue_threshold}.tsv\", sep=\"\\t\", index=None)"
   ]
  },
  {
   "cell_type": "code",
   "execution_count": 54,
   "id": "0c25b24a-c636-4ed3-bd8f-16478a068dfc",
   "metadata": {
    "tags": []
   },
   "outputs": [],
   "source": [
    "gene_uni_variant_signify = df_join_gn_names_variants[df_join_gn_names_variants['P'] <= 0.005].sort_values(by=['P'], ascending=True)"
   ]
  },
  {
   "cell_type": "code",
   "execution_count": 55,
   "id": "9840ceda-23e5-497b-aeca-49cf8e254a75",
   "metadata": {
    "tags": []
   },
   "outputs": [],
   "source": [
    "#gene_uni_variant_signify.columns = [ 'nVarinats']\n",
    "gene_uni_variant_signify = gene_uni_variant_signify.reset_index()"
   ]
  },
  {
   "cell_type": "code",
   "execution_count": 56,
   "id": "91a9a614-5fd8-4554-87ae-ecf282f309e7",
   "metadata": {
    "tags": []
   },
   "outputs": [],
   "source": [
    "gene_uni_variant_signify = gene_uni_variant_signify.drop(columns=['index'])"
   ]
  },
  {
   "cell_type": "code",
   "execution_count": 57,
   "id": "7910b8d7-4a05-4377-9ea3-0f0d9e094ed3",
   "metadata": {
    "tags": []
   },
   "outputs": [
    {
     "data": {
      "text/html": [
       "<div>\n",
       "<style scoped>\n",
       "    .dataframe tbody tr th:only-of-type {\n",
       "        vertical-align: middle;\n",
       "    }\n",
       "\n",
       "    .dataframe tbody tr th {\n",
       "        vertical-align: top;\n",
       "    }\n",
       "\n",
       "    .dataframe thead th {\n",
       "        text-align: right;\n",
       "    }\n",
       "</style>\n",
       "<table border=\"1\" class=\"dataframe\">\n",
       "  <thead>\n",
       "    <tr style=\"text-align: right;\">\n",
       "      <th></th>\n",
       "      <th>incoming</th>\n",
       "      <th>name</th>\n",
       "      <th>CHR</th>\n",
       "      <th>SNP</th>\n",
       "      <th>BP</th>\n",
       "      <th>A1</th>\n",
       "      <th>C_A</th>\n",
       "      <th>C_U</th>\n",
       "      <th>A2</th>\n",
       "      <th>CHISQ</th>\n",
       "      <th>P</th>\n",
       "      <th>OR</th>\n",
       "      <th>ID</th>\n",
       "      <th>Consequence_cons</th>\n",
       "      <th>IMPACT_cons</th>\n",
       "      <th>Gene_cons</th>\n",
       "      <th>GT_cases</th>\n",
       "      <th>GT_cntrl</th>\n",
       "    </tr>\n",
       "  </thead>\n",
       "  <tbody>\n",
       "    <tr>\n",
       "      <th>0</th>\n",
       "      <td>ENSG00000185958</td>\n",
       "      <td>FAM186A</td>\n",
       "      <td>chr12</td>\n",
       "      <td>.</td>\n",
       "      <td>50352078</td>\n",
       "      <td>TGA</td>\n",
       "      <td>11</td>\n",
       "      <td>0</td>\n",
       "      <td>T</td>\n",
       "      <td>13.250</td>\n",
       "      <td>0.000272</td>\n",
       "      <td>NaN</td>\n",
       "      <td>.</td>\n",
       "      <td>frameshift_variant</td>\n",
       "      <td>4.HIGH</td>\n",
       "      <td>ENSG00000185958</td>\n",
       "      <td>0/0[S1+S4+S6+S13+S14+S15+S16+S17+S18]; 1|1[S5+...</td>\n",
       "      <td>0/0[S2+S3+S8+S11+S12+S19+S22+S23]; 1|1[S7+S20]...</td>\n",
       "    </tr>\n",
       "    <tr>\n",
       "      <th>1</th>\n",
       "      <td>ENSG00000175356</td>\n",
       "      <td>SCUBE2</td>\n",
       "      <td>chr11</td>\n",
       "      <td>.</td>\n",
       "      <td>9091455</td>\n",
       "      <td>G</td>\n",
       "      <td>10</td>\n",
       "      <td>0</td>\n",
       "      <td>A</td>\n",
       "      <td>12.940</td>\n",
       "      <td>0.000321</td>\n",
       "      <td>NaN</td>\n",
       "      <td>.</td>\n",
       "      <td>missense_variant</td>\n",
       "      <td>3.MODERATE</td>\n",
       "      <td>ENSG00000175356</td>\n",
       "      <td>0/1[S1+S5+S6+S10]; 0/0[S4+S9+S13+S14+S15+S16+S...</td>\n",
       "      <td>0/1[S2+S11+S19+S20]; 0/0[S3+S7+S12+S22+S23]; ....</td>\n",
       "    </tr>\n",
       "    <tr>\n",
       "      <th>2</th>\n",
       "      <td>ENSG00000178395</td>\n",
       "      <td>CCDC185</td>\n",
       "      <td>chr1</td>\n",
       "      <td>.</td>\n",
       "      <td>223394461</td>\n",
       "      <td>A</td>\n",
       "      <td>9</td>\n",
       "      <td>0</td>\n",
       "      <td>G</td>\n",
       "      <td>11.310</td>\n",
       "      <td>0.000769</td>\n",
       "      <td>NaN</td>\n",
       "      <td>.</td>\n",
       "      <td>missense_variant</td>\n",
       "      <td>3.MODERATE</td>\n",
       "      <td>ENSG00000178395</td>\n",
       "      <td>0/1[S1+S9+S10]; 0/0[S4+S5+S13+S14+S15+S16+S17+...</td>\n",
       "      <td>0/0[S2+S3+S7+S11+S12+S22+S23]; ./.[S8]; 0/1[S1...</td>\n",
       "    </tr>\n",
       "    <tr>\n",
       "      <th>3</th>\n",
       "      <td>ENSG00000132938</td>\n",
       "      <td>MTUS2</td>\n",
       "      <td>chr13</td>\n",
       "      <td>.</td>\n",
       "      <td>29324631</td>\n",
       "      <td>A</td>\n",
       "      <td>8</td>\n",
       "      <td>0</td>\n",
       "      <td>C</td>\n",
       "      <td>9.778</td>\n",
       "      <td>0.001766</td>\n",
       "      <td>NaN</td>\n",
       "      <td>.</td>\n",
       "      <td>missense_variant</td>\n",
       "      <td>3.MODERATE</td>\n",
       "      <td>ENSG00000132938</td>\n",
       "      <td>0/1[S1+S9+S10]; 1/1[S4+S5+S6+S13+S14+S15+S16+S...</td>\n",
       "      <td>0/1[S2+S7+S20]; 1/1[S3+S12+S19+S21+S22+S23]; ....</td>\n",
       "    </tr>\n",
       "    <tr>\n",
       "      <th>4</th>\n",
       "      <td>ENSG00000154079</td>\n",
       "      <td>SDHAF4</td>\n",
       "      <td>chr6</td>\n",
       "      <td>.</td>\n",
       "      <td>70579486</td>\n",
       "      <td>G</td>\n",
       "      <td>7</td>\n",
       "      <td>0</td>\n",
       "      <td>A</td>\n",
       "      <td>8.324</td>\n",
       "      <td>0.003912</td>\n",
       "      <td>NaN</td>\n",
       "      <td>.</td>\n",
       "      <td>missense_variant</td>\n",
       "      <td>3.MODERATE</td>\n",
       "      <td>ENSG00000154079</td>\n",
       "      <td>0/0[S1+S4+S6+S9+S13+S14+S15+S16+S17+S18]; 0/1[...</td>\n",
       "      <td>0/1[S2+S7+S19]; 0/0[S3+S12+S20+S21+S22+S23]; ....</td>\n",
       "    </tr>\n",
       "    <tr>\n",
       "      <th>5</th>\n",
       "      <td>ENSG00000144401</td>\n",
       "      <td>METTL21A</td>\n",
       "      <td>chr2</td>\n",
       "      <td>.</td>\n",
       "      <td>207613128</td>\n",
       "      <td>G</td>\n",
       "      <td>7</td>\n",
       "      <td>0</td>\n",
       "      <td>A</td>\n",
       "      <td>8.324</td>\n",
       "      <td>0.003912</td>\n",
       "      <td>NaN</td>\n",
       "      <td>.</td>\n",
       "      <td>missense_variant</td>\n",
       "      <td>3.MODERATE</td>\n",
       "      <td>ENSG00000144401</td>\n",
       "      <td>0/1[S1+S5+S6+S9]; 1/1[S4+S10+S13+S14+S15+S16+S...</td>\n",
       "      <td>0/1[S2+S19+S20]; 1/1[S3+S7+S11+S12+S21+S22+S23...</td>\n",
       "    </tr>\n",
       "    <tr>\n",
       "      <th>6</th>\n",
       "      <td>ENSG00000127947</td>\n",
       "      <td>PTPN12</td>\n",
       "      <td>chr7</td>\n",
       "      <td>.</td>\n",
       "      <td>77627396</td>\n",
       "      <td>G</td>\n",
       "      <td>7</td>\n",
       "      <td>0</td>\n",
       "      <td>A</td>\n",
       "      <td>8.324</td>\n",
       "      <td>0.003912</td>\n",
       "      <td>NaN</td>\n",
       "      <td>.</td>\n",
       "      <td>missense_variant</td>\n",
       "      <td>3.MODERATE</td>\n",
       "      <td>ENSG00000127947</td>\n",
       "      <td>0/0[S1+S4+S9+S10+S13+S14+S15+S16+S17+S18]; 0/1...</td>\n",
       "      <td>0/1[S2+S19+S21]; 0/0[S3+S7+S11+S12+S22+S23]; ....</td>\n",
       "    </tr>\n",
       "    <tr>\n",
       "      <th>7</th>\n",
       "      <td>ENSG00000133597</td>\n",
       "      <td>ADCK2</td>\n",
       "      <td>chr7</td>\n",
       "      <td>.</td>\n",
       "      <td>140694787</td>\n",
       "      <td>T</td>\n",
       "      <td>7</td>\n",
       "      <td>0</td>\n",
       "      <td>C</td>\n",
       "      <td>8.324</td>\n",
       "      <td>0.003912</td>\n",
       "      <td>NaN</td>\n",
       "      <td>.</td>\n",
       "      <td>missense_variant</td>\n",
       "      <td>3.MODERATE</td>\n",
       "      <td>ENSG00000133597</td>\n",
       "      <td>0/1[S1+S5+S6+S10]; 0/0[S4+S9+S13+S14+S15+S16+S...</td>\n",
       "      <td>0/1[S2]; 0/0[S3+S11+S12+S19+S20+S21+S22+S23]; ...</td>\n",
       "    </tr>\n",
       "    <tr>\n",
       "      <th>8</th>\n",
       "      <td>ENSG00000157322</td>\n",
       "      <td>CLEC18A</td>\n",
       "      <td>chr16</td>\n",
       "      <td>.</td>\n",
       "      <td>69954416</td>\n",
       "      <td>C</td>\n",
       "      <td>7</td>\n",
       "      <td>0</td>\n",
       "      <td>T</td>\n",
       "      <td>8.324</td>\n",
       "      <td>0.003912</td>\n",
       "      <td>NaN</td>\n",
       "      <td>.</td>\n",
       "      <td>missense_variant</td>\n",
       "      <td>3.MODERATE</td>\n",
       "      <td>ENSG00000157322</td>\n",
       "      <td>0/0[S1+S4+S13+S14+S15+S16+S17+S18]; 1/1[S5]; 0...</td>\n",
       "      <td>0/0[S2+S3+S7+S11+S12+S21+S22+S23]; ./.[S8]; 0/...</td>\n",
       "    </tr>\n",
       "    <tr>\n",
       "      <th>9</th>\n",
       "      <td>ENSG00000140876</td>\n",
       "      <td>NUDT7</td>\n",
       "      <td>chr16</td>\n",
       "      <td>.</td>\n",
       "      <td>77735937</td>\n",
       "      <td>A</td>\n",
       "      <td>7</td>\n",
       "      <td>0</td>\n",
       "      <td>G</td>\n",
       "      <td>8.324</td>\n",
       "      <td>0.003912</td>\n",
       "      <td>NaN</td>\n",
       "      <td>.</td>\n",
       "      <td>missense_variant</td>\n",
       "      <td>3.MODERATE</td>\n",
       "      <td>ENSG00000140876</td>\n",
       "      <td>0/0[S1+S4+S9+S13+S14+S15+S16+S17+S18]; 0/1[S5+...</td>\n",
       "      <td>0/1[S2+S7]; 0/0[S3+S11+S12+S19+S21+S22+S23]; ....</td>\n",
       "    </tr>\n",
       "    <tr>\n",
       "      <th>10</th>\n",
       "      <td>ENSG00000183310</td>\n",
       "      <td>OR2T34</td>\n",
       "      <td>chr1</td>\n",
       "      <td>.</td>\n",
       "      <td>248574363</td>\n",
       "      <td>T</td>\n",
       "      <td>7</td>\n",
       "      <td>0</td>\n",
       "      <td>C</td>\n",
       "      <td>8.324</td>\n",
       "      <td>0.003912</td>\n",
       "      <td>NaN</td>\n",
       "      <td>.</td>\n",
       "      <td>missense_variant</td>\n",
       "      <td>3.MODERATE</td>\n",
       "      <td>ENSG00000183310</td>\n",
       "      <td>0/0[S1+S4+S9+S13+S14+S15+S16+S17+S18]; 0/1[S5+...</td>\n",
       "      <td>0/0[S2+S3+S11+S12+S21+S22+S23]; 0|1[S7+S19]; ....</td>\n",
       "    </tr>\n",
       "  </tbody>\n",
       "</table>\n",
       "</div>"
      ],
      "text/plain": [
       "           incoming      name    CHR SNP         BP   A1  C_A  C_U A2   CHISQ  \\\n",
       "0   ENSG00000185958   FAM186A  chr12   .   50352078  TGA   11    0  T  13.250   \n",
       "1   ENSG00000175356    SCUBE2  chr11   .    9091455    G   10    0  A  12.940   \n",
       "2   ENSG00000178395   CCDC185   chr1   .  223394461    A    9    0  G  11.310   \n",
       "3   ENSG00000132938     MTUS2  chr13   .   29324631    A    8    0  C   9.778   \n",
       "4   ENSG00000154079    SDHAF4   chr6   .   70579486    G    7    0  A   8.324   \n",
       "5   ENSG00000144401  METTL21A   chr2   .  207613128    G    7    0  A   8.324   \n",
       "6   ENSG00000127947    PTPN12   chr7   .   77627396    G    7    0  A   8.324   \n",
       "7   ENSG00000133597     ADCK2   chr7   .  140694787    T    7    0  C   8.324   \n",
       "8   ENSG00000157322   CLEC18A  chr16   .   69954416    C    7    0  T   8.324   \n",
       "9   ENSG00000140876     NUDT7  chr16   .   77735937    A    7    0  G   8.324   \n",
       "10  ENSG00000183310    OR2T34   chr1   .  248574363    T    7    0  C   8.324   \n",
       "\n",
       "           P  OR ID    Consequence_cons IMPACT_cons        Gene_cons  \\\n",
       "0   0.000272 NaN  .  frameshift_variant      4.HIGH  ENSG00000185958   \n",
       "1   0.000321 NaN  .    missense_variant  3.MODERATE  ENSG00000175356   \n",
       "2   0.000769 NaN  .    missense_variant  3.MODERATE  ENSG00000178395   \n",
       "3   0.001766 NaN  .    missense_variant  3.MODERATE  ENSG00000132938   \n",
       "4   0.003912 NaN  .    missense_variant  3.MODERATE  ENSG00000154079   \n",
       "5   0.003912 NaN  .    missense_variant  3.MODERATE  ENSG00000144401   \n",
       "6   0.003912 NaN  .    missense_variant  3.MODERATE  ENSG00000127947   \n",
       "7   0.003912 NaN  .    missense_variant  3.MODERATE  ENSG00000133597   \n",
       "8   0.003912 NaN  .    missense_variant  3.MODERATE  ENSG00000157322   \n",
       "9   0.003912 NaN  .    missense_variant  3.MODERATE  ENSG00000140876   \n",
       "10  0.003912 NaN  .    missense_variant  3.MODERATE  ENSG00000183310   \n",
       "\n",
       "                                             GT_cases  \\\n",
       "0   0/0[S1+S4+S6+S13+S14+S15+S16+S17+S18]; 1|1[S5+...   \n",
       "1   0/1[S1+S5+S6+S10]; 0/0[S4+S9+S13+S14+S15+S16+S...   \n",
       "2   0/1[S1+S9+S10]; 0/0[S4+S5+S13+S14+S15+S16+S17+...   \n",
       "3   0/1[S1+S9+S10]; 1/1[S4+S5+S6+S13+S14+S15+S16+S...   \n",
       "4   0/0[S1+S4+S6+S9+S13+S14+S15+S16+S17+S18]; 0/1[...   \n",
       "5   0/1[S1+S5+S6+S9]; 1/1[S4+S10+S13+S14+S15+S16+S...   \n",
       "6   0/0[S1+S4+S9+S10+S13+S14+S15+S16+S17+S18]; 0/1...   \n",
       "7   0/1[S1+S5+S6+S10]; 0/0[S4+S9+S13+S14+S15+S16+S...   \n",
       "8   0/0[S1+S4+S13+S14+S15+S16+S17+S18]; 1/1[S5]; 0...   \n",
       "9   0/0[S1+S4+S9+S13+S14+S15+S16+S17+S18]; 0/1[S5+...   \n",
       "10  0/0[S1+S4+S9+S13+S14+S15+S16+S17+S18]; 0/1[S5+...   \n",
       "\n",
       "                                             GT_cntrl  \n",
       "0   0/0[S2+S3+S8+S11+S12+S19+S22+S23]; 1|1[S7+S20]...  \n",
       "1   0/1[S2+S11+S19+S20]; 0/0[S3+S7+S12+S22+S23]; ....  \n",
       "2   0/0[S2+S3+S7+S11+S12+S22+S23]; ./.[S8]; 0/1[S1...  \n",
       "3   0/1[S2+S7+S20]; 1/1[S3+S12+S19+S21+S22+S23]; ....  \n",
       "4   0/1[S2+S7+S19]; 0/0[S3+S12+S20+S21+S22+S23]; ....  \n",
       "5   0/1[S2+S19+S20]; 1/1[S3+S7+S11+S12+S21+S22+S23...  \n",
       "6   0/1[S2+S19+S21]; 0/0[S3+S7+S11+S12+S22+S23]; ....  \n",
       "7   0/1[S2]; 0/0[S3+S11+S12+S19+S20+S21+S22+S23]; ...  \n",
       "8   0/0[S2+S3+S7+S11+S12+S21+S22+S23]; ./.[S8]; 0/...  \n",
       "9   0/1[S2+S7]; 0/0[S3+S11+S12+S19+S21+S22+S23]; ....  \n",
       "10  0/0[S2+S3+S11+S12+S21+S22+S23]; 0|1[S7+S19]; ....  "
      ]
     },
     "execution_count": 57,
     "metadata": {},
     "output_type": "execute_result"
    }
   ],
   "source": [
    "gene_uni_variant_signify"
   ]
  },
  {
   "cell_type": "code",
   "execution_count": 58,
   "id": "2fdd7791-37a9-4583-8904-36c35d248461",
   "metadata": {
    "tags": []
   },
   "outputs": [],
   "source": [
    "gene_multi_varinat_signify = df_join_gn_names[(df_join_gn_names['C_A_sum'] >=10 ) & (df_join_gn_names['nVariants'] >= 2)][['name', 'nVariants', 'C_A_sum']].sort_values(by=['C_A_sum'], ascending=False)"
   ]
  },
  {
   "cell_type": "code",
   "execution_count": 59,
   "id": "6f13b543-09df-45b8-bc95-3bfa4ca1d872",
   "metadata": {
    "tags": []
   },
   "outputs": [
    {
     "data": {
      "text/html": [
       "<div>\n",
       "<style scoped>\n",
       "    .dataframe tbody tr th:only-of-type {\n",
       "        vertical-align: middle;\n",
       "    }\n",
       "\n",
       "    .dataframe tbody tr th {\n",
       "        vertical-align: top;\n",
       "    }\n",
       "\n",
       "    .dataframe thead th {\n",
       "        text-align: right;\n",
       "    }\n",
       "</style>\n",
       "<table border=\"1\" class=\"dataframe\">\n",
       "  <thead>\n",
       "    <tr style=\"text-align: right;\">\n",
       "      <th></th>\n",
       "      <th>name</th>\n",
       "      <th>nVariants</th>\n",
       "      <th>C_A_sum</th>\n",
       "    </tr>\n",
       "  </thead>\n",
       "  <tbody>\n",
       "    <tr>\n",
       "      <th>21</th>\n",
       "      <td>ZMIZ1</td>\n",
       "      <td>7</td>\n",
       "      <td>31</td>\n",
       "    </tr>\n",
       "    <tr>\n",
       "      <th>38</th>\n",
       "      <td>LRFN3</td>\n",
       "      <td>6</td>\n",
       "      <td>30</td>\n",
       "    </tr>\n",
       "    <tr>\n",
       "      <th>81</th>\n",
       "      <td>OR1L6</td>\n",
       "      <td>4</td>\n",
       "      <td>16</td>\n",
       "    </tr>\n",
       "    <tr>\n",
       "      <th>57</th>\n",
       "      <td>ZNF92</td>\n",
       "      <td>2</td>\n",
       "      <td>12</td>\n",
       "    </tr>\n",
       "    <tr>\n",
       "      <th>82</th>\n",
       "      <td>PWWP2B</td>\n",
       "      <td>3</td>\n",
       "      <td>12</td>\n",
       "    </tr>\n",
       "    <tr>\n",
       "      <th>97</th>\n",
       "      <td>CYP4F12</td>\n",
       "      <td>3</td>\n",
       "      <td>12</td>\n",
       "    </tr>\n",
       "    <tr>\n",
       "      <th>105</th>\n",
       "      <td>RYR3</td>\n",
       "      <td>2</td>\n",
       "      <td>10</td>\n",
       "    </tr>\n",
       "    <tr>\n",
       "      <th>115</th>\n",
       "      <td>NUTM2D</td>\n",
       "      <td>2</td>\n",
       "      <td>10</td>\n",
       "    </tr>\n",
       "  </tbody>\n",
       "</table>\n",
       "</div>"
      ],
      "text/plain": [
       "        name  nVariants  C_A_sum\n",
       "21     ZMIZ1          7       31\n",
       "38     LRFN3          6       30\n",
       "81     OR1L6          4       16\n",
       "57     ZNF92          2       12\n",
       "82    PWWP2B          3       12\n",
       "97   CYP4F12          3       12\n",
       "105     RYR3          2       10\n",
       "115   NUTM2D          2       10"
      ]
     },
     "execution_count": 59,
     "metadata": {},
     "output_type": "execute_result"
    }
   ],
   "source": [
    "gene_multi_varinat_signify"
   ]
  },
  {
   "cell_type": "code",
   "execution_count": 60,
   "id": "a78ad360-4f34-4c61-8810-d10902f8b915",
   "metadata": {
    "tags": []
   },
   "outputs": [],
   "source": [
    "goi_multi = list(gene_multi_varinat_signify['name'].values)"
   ]
  },
  {
   "cell_type": "code",
   "execution_count": 61,
   "id": "80278d93-2afb-4fbf-adc9-bd11ec6bede0",
   "metadata": {
    "tags": []
   },
   "outputs": [],
   "source": [
    "goi_uni = [g for g in list(gene_uni_variant_signify['name'].values) if g not in goi_multi]"
   ]
  },
  {
   "cell_type": "code",
   "execution_count": 62,
   "id": "be22c5e1-1ded-4a85-9fbe-fd67d435177f",
   "metadata": {
    "tags": []
   },
   "outputs": [
    {
     "data": {
      "text/plain": [
       "(['ZMIZ1', 'LRFN3', 'OR1L6', 'ZNF92', 'PWWP2B', 'CYP4F12', 'RYR3', 'NUTM2D'],\n",
       " ['FAM186A',\n",
       "  'SCUBE2',\n",
       "  'CCDC185',\n",
       "  'MTUS2',\n",
       "  'SDHAF4',\n",
       "  'METTL21A',\n",
       "  'PTPN12',\n",
       "  'ADCK2',\n",
       "  'CLEC18A',\n",
       "  'NUDT7',\n",
       "  'OR2T34'])"
      ]
     },
     "execution_count": 62,
     "metadata": {},
     "output_type": "execute_result"
    }
   ],
   "source": [
    "goi_multi, goi_uni"
   ]
  },
  {
   "cell_type": "code",
   "execution_count": 63,
   "id": "9514c9ff-affa-4061-b413-616ac1307e1b",
   "metadata": {
    "tags": []
   },
   "outputs": [],
   "source": [
    "genes_of_interest = goi_uni + goi_multi"
   ]
  },
  {
   "cell_type": "code",
   "execution_count": 64,
   "id": "21b7e27a-b8d2-45bb-899c-d2fb673acc55",
   "metadata": {
    "tags": []
   },
   "outputs": [],
   "source": [
    "genes_of_interest_dict = {g:1 for g in genes_of_interest}"
   ]
  },
  {
   "cell_type": "code",
   "execution_count": 65,
   "id": "2b55b658-509d-466a-ba88-6875bde3813c",
   "metadata": {
    "tags": []
   },
   "outputs": [],
   "source": [
    "# print(\"\\n\".join(df_join_gn_names['incoming'].values))"
   ]
  },
  {
   "cell_type": "code",
   "execution_count": 66,
   "id": "0e402e2c-849e-4e10-947f-725380eba889",
   "metadata": {
    "tags": []
   },
   "outputs": [
    {
     "data": {
      "text/plain": [
       "{'FAM186A': 1,\n",
       " 'SCUBE2': 1,\n",
       " 'CCDC185': 1,\n",
       " 'MTUS2': 1,\n",
       " 'SDHAF4': 1,\n",
       " 'METTL21A': 1,\n",
       " 'PTPN12': 1,\n",
       " 'ADCK2': 1,\n",
       " 'CLEC18A': 1,\n",
       " 'NUDT7': 1,\n",
       " 'OR2T34': 1,\n",
       " 'ZMIZ1': 1,\n",
       " 'LRFN3': 1,\n",
       " 'OR1L6': 1,\n",
       " 'ZNF92': 1,\n",
       " 'PWWP2B': 1,\n",
       " 'CYP4F12': 1,\n",
       " 'RYR3': 1,\n",
       " 'NUTM2D': 1}"
      ]
     },
     "execution_count": 66,
     "metadata": {},
     "output_type": "execute_result"
    }
   ],
   "source": [
    "genes_of_interest_dict"
   ]
  },
  {
   "cell_type": "code",
   "execution_count": 67,
   "id": "b5c45868-4820-41f6-9d7a-97f026f77f05",
   "metadata": {
    "tags": []
   },
   "outputs": [
    {
     "name": "stdout",
     "output_type": "stream",
     "text": [
      "df_join_gn_names.columns= Index(['Gene', 'nVariants', 'CHROM', 'C_A_sum', 'C_A_list', 'C_U_sum',\n",
      "       'Consequence_cons_list', 'IMPACT_cons(higest)', 'nGT_cases',\n",
      "       'nGT_cases_uniq', 'GT_cases', 'nGT_controls', 'GT_controls', 'incoming',\n",
      "       'name', 'description', 'namespaces'],\n",
      "      dtype='object')\n",
      "filter_rdf_sorted_agg.columns= Index(['Gene', 'nVariants', 'CHROM', 'C_A_sum', 'C_A_list', 'C_U_sum',\n",
      "       'Consequence_cons_list', 'IMPACT_cons(higest)', 'nGT_cases',\n",
      "       'nGT_cases_uniq', 'GT_cases', 'nGT_controls', 'GT_controls'],\n",
      "      dtype='object')\n",
      "genome-wide-association\n"
     ]
    }
   ],
   "source": [
    "print(\"df_join_gn_names.columns=\", df_join_gn_names.columns)\n",
    "print(\"filter_rdf_sorted_agg.columns=\", filter_rdf_sorted_agg.columns)\n",
    "print(assoc_dir)\n",
    "\n",
    "df_join_gn_names1 = df_join_gn_names.copy()\n",
    "df_join_gn_names = df_join_gn_names1[['incoming', 'name', \n",
    "       'nVariants', 'CHROM', 'C_A_sum', 'C_A_list', 'C_U_sum', 'nGT_cases',\n",
    "       'nGT_controls', 'IMPACT_cons(higest)', 'Consequence_cons_list', \n",
    "       'GT_cases', 'GT_controls', 'description', 'Gene']]"
   ]
  },
  {
   "cell_type": "markdown",
   "id": "55e18452-3de0-4b01-a7eb-0667d1f5bf06",
   "metadata": {
    "tags": []
   },
   "source": [
    "# Mappining ENSG ids present in vep annotation to ENSP present in dbSTRING for processing PPIs data\n",
    "* Use g:Profiler Convert\n",
    "* input genes are listed in file ''"
   ]
  },
  {
   "cell_type": "code",
   "execution_count": 68,
   "id": "86031b96-dcbd-431b-a8fd-2a2a374ddcff",
   "metadata": {
    "tags": []
   },
   "outputs": [],
   "source": [
    "gene_prot_map = pd.read_csv(f\"{assoc_dir}/ENSG-to-ENSP-proteinname-hsapiens_mssvo-pvalue-le-0.05-9-26-2024_11-18-05-AM.csv\")"
   ]
  },
  {
   "cell_type": "code",
   "execution_count": 69,
   "id": "9ecc3e13-21ad-4487-8270-953ec1e0054e",
   "metadata": {
    "tags": []
   },
   "outputs": [
    {
     "data": {
      "text/html": [
       "<div>\n",
       "<style scoped>\n",
       "    .dataframe tbody tr th:only-of-type {\n",
       "        vertical-align: middle;\n",
       "    }\n",
       "\n",
       "    .dataframe tbody tr th {\n",
       "        vertical-align: top;\n",
       "    }\n",
       "\n",
       "    .dataframe thead th {\n",
       "        text-align: right;\n",
       "    }\n",
       "</style>\n",
       "<table border=\"1\" class=\"dataframe\">\n",
       "  <thead>\n",
       "    <tr style=\"text-align: right;\">\n",
       "      <th></th>\n",
       "      <th>incoming</th>\n",
       "      <th>converted</th>\n",
       "      <th>n_incoming</th>\n",
       "      <th>n_converted</th>\n",
       "      <th>name</th>\n",
       "      <th>description</th>\n",
       "      <th>namespaces</th>\n",
       "      <th>query</th>\n",
       "    </tr>\n",
       "  </thead>\n",
       "  <tbody>\n",
       "    <tr>\n",
       "      <th>0</th>\n",
       "      <td>ENSG00000000938</td>\n",
       "      <td>ENSP00000363115</td>\n",
       "      <td>1</td>\n",
       "      <td>1</td>\n",
       "      <td>FGR</td>\n",
       "      <td>FGR proto-oncogene, Src family tyrosine kinase...</td>\n",
       "      <td>ARRAYEXPRESS,ENSG</td>\n",
       "      <td>query_1</td>\n",
       "    </tr>\n",
       "    <tr>\n",
       "      <th>1</th>\n",
       "      <td>ENSG00000000938</td>\n",
       "      <td>ENSP00000363116</td>\n",
       "      <td>1</td>\n",
       "      <td>2</td>\n",
       "      <td>FGR</td>\n",
       "      <td>FGR proto-oncogene, Src family tyrosine kinase...</td>\n",
       "      <td>ARRAYEXPRESS,ENSG</td>\n",
       "      <td>query_1</td>\n",
       "    </tr>\n",
       "    <tr>\n",
       "      <th>2</th>\n",
       "      <td>ENSG00000000938</td>\n",
       "      <td>ENSP00000363117</td>\n",
       "      <td>1</td>\n",
       "      <td>3</td>\n",
       "      <td>FGR</td>\n",
       "      <td>FGR proto-oncogene, Src family tyrosine kinase...</td>\n",
       "      <td>ARRAYEXPRESS,ENSG</td>\n",
       "      <td>query_1</td>\n",
       "    </tr>\n",
       "    <tr>\n",
       "      <th>3</th>\n",
       "      <td>ENSG00000000938</td>\n",
       "      <td>ENSP00000382126</td>\n",
       "      <td>1</td>\n",
       "      <td>4</td>\n",
       "      <td>FGR</td>\n",
       "      <td>FGR proto-oncogene, Src family tyrosine kinase...</td>\n",
       "      <td>ARRAYEXPRESS,ENSG</td>\n",
       "      <td>query_1</td>\n",
       "    </tr>\n",
       "    <tr>\n",
       "      <th>4</th>\n",
       "      <td>ENSG00000000938</td>\n",
       "      <td>ENSP00000407670</td>\n",
       "      <td>1</td>\n",
       "      <td>5</td>\n",
       "      <td>FGR</td>\n",
       "      <td>FGR proto-oncogene, Src family tyrosine kinase...</td>\n",
       "      <td>ARRAYEXPRESS,ENSG</td>\n",
       "      <td>query_1</td>\n",
       "    </tr>\n",
       "  </tbody>\n",
       "</table>\n",
       "</div>"
      ],
      "text/plain": [
       "          incoming        converted  n_incoming  n_converted name  \\\n",
       "0  ENSG00000000938  ENSP00000363115           1            1  FGR   \n",
       "1  ENSG00000000938  ENSP00000363116           1            2  FGR   \n",
       "2  ENSG00000000938  ENSP00000363117           1            3  FGR   \n",
       "3  ENSG00000000938  ENSP00000382126           1            4  FGR   \n",
       "4  ENSG00000000938  ENSP00000407670           1            5  FGR   \n",
       "\n",
       "                                         description         namespaces  \\\n",
       "0  FGR proto-oncogene, Src family tyrosine kinase...  ARRAYEXPRESS,ENSG   \n",
       "1  FGR proto-oncogene, Src family tyrosine kinase...  ARRAYEXPRESS,ENSG   \n",
       "2  FGR proto-oncogene, Src family tyrosine kinase...  ARRAYEXPRESS,ENSG   \n",
       "3  FGR proto-oncogene, Src family tyrosine kinase...  ARRAYEXPRESS,ENSG   \n",
       "4  FGR proto-oncogene, Src family tyrosine kinase...  ARRAYEXPRESS,ENSG   \n",
       "\n",
       "     query  \n",
       "0  query_1  \n",
       "1  query_1  \n",
       "2  query_1  \n",
       "3  query_1  \n",
       "4  query_1  "
      ]
     },
     "execution_count": 69,
     "metadata": {},
     "output_type": "execute_result"
    }
   ],
   "source": [
    "gene_prot_map.shape\n",
    "gene_prot_map.head()"
   ]
  },
  {
   "cell_type": "code",
   "execution_count": 70,
   "id": "fcabd522-4c59-4c2c-8d2e-b91c91d03370",
   "metadata": {
    "tags": []
   },
   "outputs": [],
   "source": [
    "gene_prot_map = gene_prot_map.drop(columns=['description', 'namespaces', 'n_incoming', 'n_converted', 'query'])"
   ]
  },
  {
   "cell_type": "code",
   "execution_count": 71,
   "id": "dd878ed9-4748-4225-8516-1db8be98639c",
   "metadata": {
    "tags": []
   },
   "outputs": [
    {
     "data": {
      "text/html": [
       "<div>\n",
       "<style scoped>\n",
       "    .dataframe tbody tr th:only-of-type {\n",
       "        vertical-align: middle;\n",
       "    }\n",
       "\n",
       "    .dataframe tbody tr th {\n",
       "        vertical-align: top;\n",
       "    }\n",
       "\n",
       "    .dataframe thead th {\n",
       "        text-align: right;\n",
       "    }\n",
       "</style>\n",
       "<table border=\"1\" class=\"dataframe\">\n",
       "  <thead>\n",
       "    <tr style=\"text-align: right;\">\n",
       "      <th></th>\n",
       "      <th>incoming</th>\n",
       "      <th>converted</th>\n",
       "      <th>name</th>\n",
       "    </tr>\n",
       "  </thead>\n",
       "  <tbody>\n",
       "    <tr>\n",
       "      <th>0</th>\n",
       "      <td>ENSG00000000938</td>\n",
       "      <td>ENSP00000363115</td>\n",
       "      <td>FGR</td>\n",
       "    </tr>\n",
       "    <tr>\n",
       "      <th>1</th>\n",
       "      <td>ENSG00000000938</td>\n",
       "      <td>ENSP00000363116</td>\n",
       "      <td>FGR</td>\n",
       "    </tr>\n",
       "    <tr>\n",
       "      <th>2</th>\n",
       "      <td>ENSG00000000938</td>\n",
       "      <td>ENSP00000363117</td>\n",
       "      <td>FGR</td>\n",
       "    </tr>\n",
       "    <tr>\n",
       "      <th>3</th>\n",
       "      <td>ENSG00000000938</td>\n",
       "      <td>ENSP00000382126</td>\n",
       "      <td>FGR</td>\n",
       "    </tr>\n",
       "    <tr>\n",
       "      <th>4</th>\n",
       "      <td>ENSG00000000938</td>\n",
       "      <td>ENSP00000407670</td>\n",
       "      <td>FGR</td>\n",
       "    </tr>\n",
       "  </tbody>\n",
       "</table>\n",
       "</div>"
      ],
      "text/plain": [
       "          incoming        converted name\n",
       "0  ENSG00000000938  ENSP00000363115  FGR\n",
       "1  ENSG00000000938  ENSP00000363116  FGR\n",
       "2  ENSG00000000938  ENSP00000363117  FGR\n",
       "3  ENSG00000000938  ENSP00000382126  FGR\n",
       "4  ENSG00000000938  ENSP00000407670  FGR"
      ]
     },
     "execution_count": 71,
     "metadata": {},
     "output_type": "execute_result"
    }
   ],
   "source": [
    "gene_prot_map.head()"
   ]
  },
  {
   "cell_type": "code",
   "execution_count": 72,
   "id": "749f4ae8-aa82-4b76-8012-55d586de5288",
   "metadata": {
    "tags": []
   },
   "outputs": [],
   "source": [
    "gene_prot_map['GeneOfInterest']=\"N\"\n",
    "gene_prot_map[\"HighConfidence\"]=\"N\"\n",
    "gene_prot_map[\"TopVariant\"]=\"N\"\n",
    "gene_prot_map[\"MultiVariant\"]=\"N\"\n",
    "gene_prot_map[\"Color\"]=\"blue\""
   ]
  },
  {
   "cell_type": "code",
   "execution_count": 73,
   "id": "10c52ded-1761-4164-b1d3-215fc7c044d5",
   "metadata": {
    "tags": []
   },
   "outputs": [
    {
     "data": {
      "text/plain": [
       "(718, 8)"
      ]
     },
     "execution_count": 73,
     "metadata": {},
     "output_type": "execute_result"
    }
   ],
   "source": [
    "gene_prot_map.shape"
   ]
  },
  {
   "cell_type": "code",
   "execution_count": 74,
   "id": "11129ede-3f28-483e-8527-387681de4970",
   "metadata": {
    "tags": []
   },
   "outputs": [],
   "source": [
    "for ir, row in gene_prot_map.iterrows():\n",
    "    p1 = row['TopVariant']\n",
    "    p2 = row['MultiVariant']\n",
    "    name = row[\"name\"]\n",
    "    if name in goi_uni or name in goi_multi:\n",
    "        gene_prot_map.loc[ir, 'HighConfidence'] = \"Y\"\n",
    "    if name in goi_uni:\n",
    "        gene_prot_map.loc[ir, 'Color'] = 'orange'\n",
    "        gene_prot_map.loc[ir, 'TopVariant'] = 'Y'\n",
    "    elif name in goi_multi:\n",
    "        gene_prot_map.loc[ir, 'Color'] = 'green'\n",
    "        gene_prot_map.loc[ir, 'MultiVariant'] = 'Y'"
   ]
  },
  {
   "cell_type": "code",
   "execution_count": 75,
   "id": "57bafe24-9157-4872-9f8b-990d7b0775a3",
   "metadata": {
    "tags": []
   },
   "outputs": [],
   "source": [
    "gene_prot_map.columns = ['incoming', 'converted', 'protein_name', 'GeneOfInterest',\n",
    "       'HighConfidence', 'TopVariant', 'MultiVariant', 'Color']"
   ]
  },
  {
   "cell_type": "code",
   "execution_count": 76,
   "id": "38fc909b-2129-4caf-b2ab-4f9ce051a76e",
   "metadata": {
    "tags": []
   },
   "outputs": [],
   "source": [
    "gene_prot_map.to_csv(f\"{assoc_dir}/ENSG-to-ENSP-GOI-sep-27-2024.tsv\", sep=\"\\t\", index=False)"
   ]
  },
  {
   "cell_type": "markdown",
   "id": "7d6de582-08cc-48cb-90fa-1e2b41f93d9b",
   "metadata": {},
   "source": [
    "# Process dbSTRING PPIs data for homo sapiense"
   ]
  },
  {
   "cell_type": "code",
   "execution_count": 77,
   "id": "dd0f944c-1441-4586-a873-882aa544fb52",
   "metadata": {
    "tags": []
   },
   "outputs": [],
   "source": [
    "gene_net_score = pd.read_csv(\"dbSTRING/9606.protein.links.full.v12.0-scores.txt\", sep=\"\\t\")"
   ]
  },
  {
   "cell_type": "code",
   "execution_count": 78,
   "id": "55020884-b5de-46ec-a090-7e0cb224c28b",
   "metadata": {
    "tags": []
   },
   "outputs": [
    {
     "data": {
      "text/plain": [
       "Index(['protein1', 'protein2', 'combined_score'], dtype='object')"
      ]
     },
     "execution_count": 78,
     "metadata": {},
     "output_type": "execute_result"
    }
   ],
   "source": [
    "gene_net_score.columns"
   ]
  },
  {
   "cell_type": "code",
   "execution_count": 79,
   "id": "0e69bfcd-aadf-4c50-88dc-d3ca7e9085af",
   "metadata": {
    "tags": []
   },
   "outputs": [],
   "source": [
    "gene_net_score['protein1'] = gene_net_score['protein1'].str.replace(\"9606.\", \"\")\n",
    "gene_net_score['protein2'] = gene_net_score['protein2'].str.replace(\"9606.\", \"\")"
   ]
  },
  {
   "cell_type": "code",
   "execution_count": 80,
   "id": "a9b0d59c-1a75-4237-bf99-0da5bf63ea07",
   "metadata": {
    "tags": []
   },
   "outputs": [],
   "source": [
    "gene_net_score_filtered = gene_net_score[gene_net_score['combined_score'] >= 800].copy()"
   ]
  },
  {
   "cell_type": "code",
   "execution_count": 81,
   "id": "c433c5f4-37f8-4ade-aa0c-468e6b22d3b5",
   "metadata": {
    "tags": []
   },
   "outputs": [],
   "source": [
    "gene_net_score_filtered.to_csv(\"PPI-net/9606.protein.links.full.v12.0-scores-filter-gt800.tsv\", sep=\"\\t\", index=None)"
   ]
  },
  {
   "cell_type": "code",
   "execution_count": 82,
   "id": "6aa3cdf3-1305-496e-9a01-69437e58d4e8",
   "metadata": {
    "tags": []
   },
   "outputs": [
    {
     "data": {
      "text/html": [
       "<div>\n",
       "<style scoped>\n",
       "    .dataframe tbody tr th:only-of-type {\n",
       "        vertical-align: middle;\n",
       "    }\n",
       "\n",
       "    .dataframe tbody tr th {\n",
       "        vertical-align: top;\n",
       "    }\n",
       "\n",
       "    .dataframe thead th {\n",
       "        text-align: right;\n",
       "    }\n",
       "</style>\n",
       "<table border=\"1\" class=\"dataframe\">\n",
       "  <thead>\n",
       "    <tr style=\"text-align: right;\">\n",
       "      <th></th>\n",
       "      <th>protein1</th>\n",
       "      <th>protein2</th>\n",
       "      <th>combined_score</th>\n",
       "    </tr>\n",
       "  </thead>\n",
       "  <tbody>\n",
       "    <tr>\n",
       "      <th>0</th>\n",
       "      <td>ENSP00000000233</td>\n",
       "      <td>ENSP00000356607</td>\n",
       "      <td>173</td>\n",
       "    </tr>\n",
       "    <tr>\n",
       "      <th>1</th>\n",
       "      <td>ENSP00000000233</td>\n",
       "      <td>ENSP00000427567</td>\n",
       "      <td>154</td>\n",
       "    </tr>\n",
       "    <tr>\n",
       "      <th>2</th>\n",
       "      <td>ENSP00000000233</td>\n",
       "      <td>ENSP00000253413</td>\n",
       "      <td>151</td>\n",
       "    </tr>\n",
       "    <tr>\n",
       "      <th>3</th>\n",
       "      <td>ENSP00000000233</td>\n",
       "      <td>ENSP00000493357</td>\n",
       "      <td>471</td>\n",
       "    </tr>\n",
       "    <tr>\n",
       "      <th>4</th>\n",
       "      <td>ENSP00000000233</td>\n",
       "      <td>ENSP00000324127</td>\n",
       "      <td>201</td>\n",
       "    </tr>\n",
       "  </tbody>\n",
       "</table>\n",
       "</div>"
      ],
      "text/plain": [
       "          protein1         protein2  combined_score\n",
       "0  ENSP00000000233  ENSP00000356607             173\n",
       "1  ENSP00000000233  ENSP00000427567             154\n",
       "2  ENSP00000000233  ENSP00000253413             151\n",
       "3  ENSP00000000233  ENSP00000493357             471\n",
       "4  ENSP00000000233  ENSP00000324127             201"
      ]
     },
     "execution_count": 82,
     "metadata": {},
     "output_type": "execute_result"
    }
   ],
   "source": [
    "gene_net_score.head()"
   ]
  },
  {
   "cell_type": "code",
   "execution_count": 83,
   "id": "460932fb-1967-4e65-b498-3813496dc59d",
   "metadata": {
    "tags": []
   },
   "outputs": [
    {
     "data": {
      "text/plain": [
       "(13715404, 3)"
      ]
     },
     "execution_count": 83,
     "metadata": {},
     "output_type": "execute_result"
    }
   ],
   "source": [
    "gene_net_score.shape"
   ]
  },
  {
   "cell_type": "markdown",
   "id": "10c511ee-5731-4f81-8477-273fcf8a8c82",
   "metadata": {},
   "source": [
    "# Normalize the PPI combined_score in dbSTRING"
   ]
  },
  {
   "cell_type": "code",
   "execution_count": 84,
   "id": "67d2dfe2-c34a-4103-badd-ec9353e94182",
   "metadata": {
    "tags": []
   },
   "outputs": [],
   "source": [
    "normalize_and_write = False\n",
    "plot_score_distributions = False"
   ]
  },
  {
   "cell_type": "code",
   "execution_count": 85,
   "id": "a80178c5-a679-4786-8ca6-34ac03ea0579",
   "metadata": {
    "tags": []
   },
   "outputs": [
    {
     "data": {
      "text/html": [
       "<div>\n",
       "<style scoped>\n",
       "    .dataframe tbody tr th:only-of-type {\n",
       "        vertical-align: middle;\n",
       "    }\n",
       "\n",
       "    .dataframe tbody tr th {\n",
       "        vertical-align: top;\n",
       "    }\n",
       "\n",
       "    .dataframe thead th {\n",
       "        text-align: right;\n",
       "    }\n",
       "</style>\n",
       "<table border=\"1\" class=\"dataframe\">\n",
       "  <thead>\n",
       "    <tr style=\"text-align: right;\">\n",
       "      <th></th>\n",
       "      <th>protein1</th>\n",
       "      <th>protein2</th>\n",
       "      <th>combined_score</th>\n",
       "    </tr>\n",
       "  </thead>\n",
       "  <tbody>\n",
       "    <tr>\n",
       "      <th>0</th>\n",
       "      <td>ENSP00000000233</td>\n",
       "      <td>ENSP00000356607</td>\n",
       "      <td>173</td>\n",
       "    </tr>\n",
       "    <tr>\n",
       "      <th>1</th>\n",
       "      <td>ENSP00000000233</td>\n",
       "      <td>ENSP00000427567</td>\n",
       "      <td>154</td>\n",
       "    </tr>\n",
       "    <tr>\n",
       "      <th>2</th>\n",
       "      <td>ENSP00000000233</td>\n",
       "      <td>ENSP00000253413</td>\n",
       "      <td>151</td>\n",
       "    </tr>\n",
       "    <tr>\n",
       "      <th>3</th>\n",
       "      <td>ENSP00000000233</td>\n",
       "      <td>ENSP00000493357</td>\n",
       "      <td>471</td>\n",
       "    </tr>\n",
       "    <tr>\n",
       "      <th>4</th>\n",
       "      <td>ENSP00000000233</td>\n",
       "      <td>ENSP00000324127</td>\n",
       "      <td>201</td>\n",
       "    </tr>\n",
       "  </tbody>\n",
       "</table>\n",
       "</div>"
      ],
      "text/plain": [
       "          protein1         protein2  combined_score\n",
       "0  ENSP00000000233  ENSP00000356607             173\n",
       "1  ENSP00000000233  ENSP00000427567             154\n",
       "2  ENSP00000000233  ENSP00000253413             151\n",
       "3  ENSP00000000233  ENSP00000493357             471\n",
       "4  ENSP00000000233  ENSP00000324127             201"
      ]
     },
     "execution_count": 85,
     "metadata": {},
     "output_type": "execute_result"
    }
   ],
   "source": [
    "gene_net_score.head()"
   ]
  },
  {
   "cell_type": "code",
   "execution_count": 86,
   "id": "73403573-41c8-4be5-8a2f-4b00ebf1f8ec",
   "metadata": {
    "tags": []
   },
   "outputs": [],
   "source": [
    "if normalize_and_write:\n",
    "    gene_wise_max_list = gene_net_score.groupby(['protein1']).agg({'combined_score': 'max'}).reset_index().values\n",
    "    gene_wise_max = {r[0]:r[1] for r in gene_wise_max_list}\n",
    "    gene_net_score['normalized_score'] = 0.0\n",
    "    for ir, row in gene_net_score.iterrows():\n",
    "        prot1 = row['protein1']\n",
    "        score = row['combined_score']\n",
    "        gene_net_score.loc[ir, 'normalized_score'] = score / gene_wise_max[prot1]\n",
    "    gene_net_score['protein1'] = gene_net_score['protein1'].str.replace(\"9606.\", \"\")\n",
    "    gene_net_score['protein2'] = gene_net_score['protein2'].str.replace(\"9606.\", \"\")\n",
    "    gene_net_score.to_csv(\"dbSTRING/9606.protein.links.full.v12.0-scores-normscore.tsv\", sep=\"\\t\", index=False)\n",
    "else:\n",
    "    gene_net_score = pd.read_csv(\"dbSTRING/9606.protein.links.full.v12.0-scores-normscore.tsv\", sep=\"\\t\")"
   ]
  },
  {
   "cell_type": "code",
   "execution_count": 87,
   "id": "bf418227-9862-4a2e-9665-824a9b877e40",
   "metadata": {
    "tags": []
   },
   "outputs": [
    {
     "data": {
      "text/html": [
       "<div>\n",
       "<style scoped>\n",
       "    .dataframe tbody tr th:only-of-type {\n",
       "        vertical-align: middle;\n",
       "    }\n",
       "\n",
       "    .dataframe tbody tr th {\n",
       "        vertical-align: top;\n",
       "    }\n",
       "\n",
       "    .dataframe thead th {\n",
       "        text-align: right;\n",
       "    }\n",
       "</style>\n",
       "<table border=\"1\" class=\"dataframe\">\n",
       "  <thead>\n",
       "    <tr style=\"text-align: right;\">\n",
       "      <th></th>\n",
       "      <th>protein1</th>\n",
       "      <th>protein2</th>\n",
       "      <th>combined_score</th>\n",
       "      <th>normalized_score</th>\n",
       "    </tr>\n",
       "  </thead>\n",
       "  <tbody>\n",
       "    <tr>\n",
       "      <th>0</th>\n",
       "      <td>ENSP00000000233</td>\n",
       "      <td>ENSP00000356607</td>\n",
       "      <td>173</td>\n",
       "      <td>0.181723</td>\n",
       "    </tr>\n",
       "    <tr>\n",
       "      <th>1</th>\n",
       "      <td>ENSP00000000233</td>\n",
       "      <td>ENSP00000427567</td>\n",
       "      <td>154</td>\n",
       "      <td>0.161765</td>\n",
       "    </tr>\n",
       "    <tr>\n",
       "      <th>2</th>\n",
       "      <td>ENSP00000000233</td>\n",
       "      <td>ENSP00000253413</td>\n",
       "      <td>151</td>\n",
       "      <td>0.158613</td>\n",
       "    </tr>\n",
       "    <tr>\n",
       "      <th>3</th>\n",
       "      <td>ENSP00000000233</td>\n",
       "      <td>ENSP00000493357</td>\n",
       "      <td>471</td>\n",
       "      <td>0.494748</td>\n",
       "    </tr>\n",
       "    <tr>\n",
       "      <th>4</th>\n",
       "      <td>ENSP00000000233</td>\n",
       "      <td>ENSP00000324127</td>\n",
       "      <td>201</td>\n",
       "      <td>0.211134</td>\n",
       "    </tr>\n",
       "  </tbody>\n",
       "</table>\n",
       "</div>"
      ],
      "text/plain": [
       "          protein1         protein2  combined_score  normalized_score\n",
       "0  ENSP00000000233  ENSP00000356607             173          0.181723\n",
       "1  ENSP00000000233  ENSP00000427567             154          0.161765\n",
       "2  ENSP00000000233  ENSP00000253413             151          0.158613\n",
       "3  ENSP00000000233  ENSP00000493357             471          0.494748\n",
       "4  ENSP00000000233  ENSP00000324127             201          0.211134"
      ]
     },
     "execution_count": 87,
     "metadata": {},
     "output_type": "execute_result"
    }
   ],
   "source": [
    "gene_net_score.head()"
   ]
  },
  {
   "cell_type": "code",
   "execution_count": 88,
   "id": "9c0edfba-819c-4977-9481-171aa2d86263",
   "metadata": {
    "tags": []
   },
   "outputs": [],
   "source": [
    "if plot_score_distributions:\n",
    "    log_y=False\n",
    "    zoom_scale=[1.0, 1.0][log_y]\n",
    "    figfile = [\"PPI-net/STRING-scores-hist.png\", \"PPI-net/STRING-scores-hist-kde-log-y.png\"][log_y]\n",
    "    fig, ax = plt.subplots(nrows=1, ncols=2, sharey=True, figsize=(6*zoom_scale, 2.5*zoom_scale))\n",
    "\n",
    "    sn.histplot(data=gene_net_score[gene_net_score['combined_score'] > 0],  kde=log_y, stat='percent', log_scale=(False, log_y), x='combined_score', ax=ax[0])\n",
    "    ax[0].axvline(x=800, linestyle=\":\", color=\"#909090\")\n",
    "\n",
    "    sn.histplot(data=gene_net_score[gene_net_score['normalized_score'] > 0],  kde=log_y, stat='percent', color='orange', log_scale=(False, log_y),  x='normalized_score', ax=ax[1])\n",
    "    ax[1].axvline(x=0.8, linestyle=\":\", color=\"#909090\")"
   ]
  },
  {
   "cell_type": "code",
   "execution_count": 89,
   "id": "fe1d4554-4f0b-4f6b-9fac-fc482f2202a8",
   "metadata": {
    "tags": []
   },
   "outputs": [],
   "source": [
    "if plot_score_distributions:\n",
    "    if not log_y:\n",
    "        ax[0].set_ylim((0,1.2))\n",
    "    ax[0].set_ylabel('Percent of total PPIs')\n",
    "    fig.subplots_adjust(wspace=0.1, left=0.12, right=0.95, bottom=0.2, top=0.95)\n",
    "    fig.savefig(figfile, dpi=300, transparent=log_y)\n",
    "    plt.show()"
   ]
  },
  {
   "cell_type": "code",
   "execution_count": 90,
   "id": "067cc69e-746f-409e-b15c-9329bd1cce89",
   "metadata": {
    "tags": []
   },
   "outputs": [],
   "source": [
    "if plot_score_distributions:\n",
    "    log_y=True\n",
    "    zoom_scale=[1.0, 1.0][log_y]\n",
    "    figfile = [\"PPI-net/STRING-scores-hist.png\", \"PPI-net/STRING-scores-hist-kde-log-y.png\"][log_y]\n",
    "    fig, ax = plt.subplots(nrows=1, ncols=2, sharey=True, figsize=(6*zoom_scale, 2.5*zoom_scale))\n",
    "\n",
    "    sn.histplot(data=gene_net_score[gene_net_score['combined_score'] > 0],  kde=log_y, stat='percent', log_scale=(False, log_y), x='combined_score', ax=ax[0])\n",
    "    ax[0].axvline(x=800, linestyle=\":\", color=\"#909090\")\n",
    "\n",
    "    sn.histplot(data=gene_net_score[gene_net_score['normalized_score'] > 0],  kde=log_y, stat='percent', color='orange', log_scale=(False, log_y),  x='normalized_score', ax=ax[1])\n",
    "    ax[1].axvline(x=0.8, linestyle=\":\", color=\"#909090\")"
   ]
  },
  {
   "cell_type": "code",
   "execution_count": 91,
   "id": "0f2ed36f-e2e4-4d01-9c27-474e5a9a6556",
   "metadata": {
    "tags": []
   },
   "outputs": [],
   "source": [
    "if plot_score_distributions:\n",
    "    if not log_y:\n",
    "        ax[0].set_ylim((0,1.2))\n",
    "    ax[0].set_ylabel('Percent of total PPIs')\n",
    "    fig.subplots_adjust(wspace=0.1, left=0.12, right=0.95, bottom=0.2, top=0.95)\n",
    "    fig.savefig(figfile, dpi=300, transparent=log_y)\n",
    "    plt.show()"
   ]
  },
  {
   "cell_type": "code",
   "execution_count": 92,
   "id": "c901342c-0359-4147-bd68-5192ee381a30",
   "metadata": {
    "tags": []
   },
   "outputs": [
    {
     "name": "stdout",
     "output_type": "stream",
     "text": [
      "20\n"
     ]
    }
   ],
   "source": [
    "for perc in [20]:\n",
    "    gene_net_score_top_x_percent = gene_net_score[gene_net_score['normalized_score'] > (1.0 - perc*0.01)]\n",
    "    gene_net_score_top_x_percent.to_csv(f\"PPI-net/9606.protein.links.full.v12.0-scores-normscore-top{perc}percent.tsv\", sep=\"\\t\", index=False)\n",
    "    print(perc)"
   ]
  },
  {
   "cell_type": "code",
   "execution_count": 93,
   "id": "31378a07-6ac4-40d7-9103-3d59d5b69724",
   "metadata": {
    "tags": []
   },
   "outputs": [
    {
     "data": {
      "text/html": [
       "<div>\n",
       "<style scoped>\n",
       "    .dataframe tbody tr th:only-of-type {\n",
       "        vertical-align: middle;\n",
       "    }\n",
       "\n",
       "    .dataframe tbody tr th {\n",
       "        vertical-align: top;\n",
       "    }\n",
       "\n",
       "    .dataframe thead th {\n",
       "        text-align: right;\n",
       "    }\n",
       "</style>\n",
       "<table border=\"1\" class=\"dataframe\">\n",
       "  <thead>\n",
       "    <tr style=\"text-align: right;\">\n",
       "      <th></th>\n",
       "      <th>protein1</th>\n",
       "      <th>protein2</th>\n",
       "      <th>combined_score</th>\n",
       "      <th>normalized_score</th>\n",
       "    </tr>\n",
       "  </thead>\n",
       "  <tbody>\n",
       "    <tr>\n",
       "      <th>85</th>\n",
       "      <td>ENSP00000000233</td>\n",
       "      <td>ENSP00000158762</td>\n",
       "      <td>825</td>\n",
       "      <td>0.866597</td>\n",
       "    </tr>\n",
       "    <tr>\n",
       "      <th>160</th>\n",
       "      <td>ENSP00000000233</td>\n",
       "      <td>ENSP00000262305</td>\n",
       "      <td>952</td>\n",
       "      <td>1.000000</td>\n",
       "    </tr>\n",
       "    <tr>\n",
       "      <th>268</th>\n",
       "      <td>ENSP00000000233</td>\n",
       "      <td>ENSP00000469035</td>\n",
       "      <td>795</td>\n",
       "      <td>0.835084</td>\n",
       "    </tr>\n",
       "    <tr>\n",
       "      <th>431</th>\n",
       "      <td>ENSP00000000233</td>\n",
       "      <td>ENSP00000314615</td>\n",
       "      <td>795</td>\n",
       "      <td>0.835084</td>\n",
       "    </tr>\n",
       "    <tr>\n",
       "      <th>466</th>\n",
       "      <td>ENSP00000000233</td>\n",
       "      <td>ENSP00000389095</td>\n",
       "      <td>765</td>\n",
       "      <td>0.803571</td>\n",
       "    </tr>\n",
       "  </tbody>\n",
       "</table>\n",
       "</div>"
      ],
      "text/plain": [
       "            protein1         protein2  combined_score  normalized_score\n",
       "85   ENSP00000000233  ENSP00000158762             825          0.866597\n",
       "160  ENSP00000000233  ENSP00000262305             952          1.000000\n",
       "268  ENSP00000000233  ENSP00000469035             795          0.835084\n",
       "431  ENSP00000000233  ENSP00000314615             795          0.835084\n",
       "466  ENSP00000000233  ENSP00000389095             765          0.803571"
      ]
     },
     "execution_count": 93,
     "metadata": {},
     "output_type": "execute_result"
    }
   ],
   "source": [
    "gene_net_score_top_x_percent.head()"
   ]
  },
  {
   "cell_type": "code",
   "execution_count": 94,
   "id": "e27d1bf1-4907-49d9-b902-f5cfc7bc20a1",
   "metadata": {
    "tags": []
   },
   "outputs": [
    {
     "data": {
      "image/png": "[encoded data removed]",
      "text/plain": [
       "<Figure size 600x600 with 3 Axes>"
      ]
     },
     "metadata": {},
     "output_type": "display_data"
    }
   ],
   "source": [
    "sn.jointplot(gene_net_score_top_x_percent, x=\"combined_score\", y=\"normalized_score\", kind=\"kde\")\n",
    "plt.savefig(\"PPI-net/combined-vs-normalized-score-kde-norm-gt-0.8.png\", dpi=300)"
   ]
  },
  {
   "cell_type": "markdown",
   "id": "60755463-324e-41f5-94e9-bafa8b1ff166",
   "metadata": {
    "tags": []
   },
   "source": [
    "# Load the filtered PPIs network based on normalized_score and construct network of Genes-of-Interest using Cytoscape. Save the GOIs-PPIs net for further adding formatting and visulaization"
   ]
  },
  {
   "cell_type": "code",
   "execution_count": 95,
   "id": "88961674-e100-47ee-b1dd-ba4b467ad818",
   "metadata": {
    "tags": []
   },
   "outputs": [],
   "source": [
    "df_ensp_prot_goi_net = pd.read_csv(f\"PPI-net/GOI-subnet-nd146-edg-390-normscore-gt-0.8.csv\", sep=\",\")"
   ]
  },
  {
   "cell_type": "code",
   "execution_count": 96,
   "id": "f28346fd-cff5-45c4-b4c0-3bea89676004",
   "metadata": {
    "tags": []
   },
   "outputs": [
    {
     "data": {
      "text/html": [
       "<div>\n",
       "<style scoped>\n",
       "    .dataframe tbody tr th:only-of-type {\n",
       "        vertical-align: middle;\n",
       "    }\n",
       "\n",
       "    .dataframe tbody tr th {\n",
       "        vertical-align: top;\n",
       "    }\n",
       "\n",
       "    .dataframe thead th {\n",
       "        text-align: right;\n",
       "    }\n",
       "</style>\n",
       "<table border=\"1\" class=\"dataframe\">\n",
       "  <thead>\n",
       "    <tr style=\"text-align: right;\">\n",
       "      <th></th>\n",
       "      <th>name</th>\n",
       "      <th>protein_name</th>\n",
       "    </tr>\n",
       "  </thead>\n",
       "  <tbody>\n",
       "    <tr>\n",
       "      <th>10</th>\n",
       "      <td>ENSP00000304235</td>\n",
       "      <td>OR1L6</td>\n",
       "    </tr>\n",
       "    <tr>\n",
       "      <th>15</th>\n",
       "      <td>ENSP00000355840</td>\n",
       "      <td>CCDC185</td>\n",
       "    </tr>\n",
       "    <tr>\n",
       "      <th>18</th>\n",
       "      <td>ENSP00000334474</td>\n",
       "      <td>ZMIZ1</td>\n",
       "    </tr>\n",
       "    <tr>\n",
       "      <th>25</th>\n",
       "      <td>ENSP00000371116</td>\n",
       "      <td>NUTM2D</td>\n",
       "    </tr>\n",
       "    <tr>\n",
       "      <th>33</th>\n",
       "      <td>ENSP00000072869</td>\n",
       "      <td>ADCK2</td>\n",
       "    </tr>\n",
       "    <tr>\n",
       "      <th>37</th>\n",
       "      <td>ENSP00000272839</td>\n",
       "      <td>METTL21A</td>\n",
       "    </tr>\n",
       "    <tr>\n",
       "      <th>54</th>\n",
       "      <td>ENSP00000248594</td>\n",
       "      <td>PTPN12</td>\n",
       "    </tr>\n",
       "    <tr>\n",
       "      <th>63</th>\n",
       "      <td>ENSP00000329995</td>\n",
       "      <td>FAM186A</td>\n",
       "    </tr>\n",
       "    <tr>\n",
       "      <th>82</th>\n",
       "      <td>ENSP00000330904</td>\n",
       "      <td>OR2T34</td>\n",
       "    </tr>\n",
       "    <tr>\n",
       "      <th>83</th>\n",
       "      <td>ENSP00000359505</td>\n",
       "      <td>SDHAF4</td>\n",
       "    </tr>\n",
       "    <tr>\n",
       "      <th>92</th>\n",
       "      <td>ENSP00000489262</td>\n",
       "      <td>RYR3</td>\n",
       "    </tr>\n",
       "    <tr>\n",
       "      <th>95</th>\n",
       "      <td>ENSP00000246529</td>\n",
       "      <td>LRFN3</td>\n",
       "    </tr>\n",
       "    <tr>\n",
       "      <th>98</th>\n",
       "      <td>ENSP00000448998</td>\n",
       "      <td>CYP4F12</td>\n",
       "    </tr>\n",
       "    <tr>\n",
       "      <th>110</th>\n",
       "      <td>ENSP00000310658</td>\n",
       "      <td>SCUBE2</td>\n",
       "    </tr>\n",
       "    <tr>\n",
       "      <th>112</th>\n",
       "      <td>ENSP00000360269</td>\n",
       "      <td>TACSTD2</td>\n",
       "    </tr>\n",
       "    <tr>\n",
       "      <th>116</th>\n",
       "      <td>ENSP00000306324</td>\n",
       "      <td>PWWP2B</td>\n",
       "    </tr>\n",
       "    <tr>\n",
       "      <th>118</th>\n",
       "      <td>ENSP00000484176</td>\n",
       "      <td>CLEC18A</td>\n",
       "    </tr>\n",
       "    <tr>\n",
       "      <th>130</th>\n",
       "      <td>ENSP00000332595</td>\n",
       "      <td>ZNF92</td>\n",
       "    </tr>\n",
       "    <tr>\n",
       "      <th>133</th>\n",
       "      <td>ENSP00000268533</td>\n",
       "      <td>NUDT7</td>\n",
       "    </tr>\n",
       "  </tbody>\n",
       "</table>\n",
       "</div>"
      ],
      "text/plain": [
       "                name protein_name\n",
       "10   ENSP00000304235        OR1L6\n",
       "15   ENSP00000355840      CCDC185\n",
       "18   ENSP00000334474        ZMIZ1\n",
       "25   ENSP00000371116       NUTM2D\n",
       "33   ENSP00000072869        ADCK2\n",
       "37   ENSP00000272839     METTL21A\n",
       "54   ENSP00000248594       PTPN12\n",
       "63   ENSP00000329995      FAM186A\n",
       "82   ENSP00000330904       OR2T34\n",
       "83   ENSP00000359505       SDHAF4\n",
       "92   ENSP00000489262         RYR3\n",
       "95   ENSP00000246529        LRFN3\n",
       "98   ENSP00000448998      CYP4F12\n",
       "110  ENSP00000310658       SCUBE2\n",
       "112  ENSP00000360269      TACSTD2\n",
       "116  ENSP00000306324       PWWP2B\n",
       "118  ENSP00000484176      CLEC18A\n",
       "130  ENSP00000332595        ZNF92\n",
       "133  ENSP00000268533        NUDT7"
      ]
     },
     "execution_count": 96,
     "metadata": {},
     "output_type": "execute_result"
    }
   ],
   "source": [
    "df_ensp_prot_goi_net2 = df_ensp_prot_goi_net.drop(columns=['Color', 'GeneOfInterest','HighConfidence','incoming','selected','TopVariant', 'shared name','MultiVariant']).dropna()\n",
    "df_ensp_prot_goi_net2"
   ]
  },
  {
   "cell_type": "code",
   "execution_count": 97,
   "id": "571318e2-3bc6-47e2-b730-55bf72852324",
   "metadata": {
    "tags": []
   },
   "outputs": [],
   "source": [
    "df_ensp_prot_goi_net\n",
    "gene_prot_map = gp.convert(list(df_ensp_prot_goi_net['name'].unique()), target_namespace='ENSP')"
   ]
  },
  {
   "cell_type": "code",
   "execution_count": 98,
   "id": "3762272a-1c6c-49d0-8617-4f5f22e68cab",
   "metadata": {
    "tags": []
   },
   "outputs": [],
   "source": [
    "epspid_to_name = {a:b for a, b in gene_prot_map[['converted', 'name']].values if a != \"None\"}"
   ]
  },
  {
   "cell_type": "code",
   "execution_count": 99,
   "id": "ecebc76a-a117-47df-8ac2-6e2934efdaba",
   "metadata": {
    "tags": []
   },
   "outputs": [],
   "source": [
    "#epspid_to_name"
   ]
  },
  {
   "cell_type": "code",
   "execution_count": 100,
   "id": "64bae29f-397b-44ab-be60-fbd1cba46ac1",
   "metadata": {
    "tags": []
   },
   "outputs": [
    {
     "data": {
      "text/plain": [
       "0      gray\n",
       "1      gray\n",
       "2      gray\n",
       "3      gray\n",
       "4      gray\n",
       "       ... \n",
       "141    gray\n",
       "142    gray\n",
       "143    gray\n",
       "144    gray\n",
       "145    gray\n",
       "Name: Color, Length: 146, dtype: object"
      ]
     },
     "execution_count": 100,
     "metadata": {},
     "output_type": "execute_result"
    }
   ],
   "source": [
    "df_ensp_prot_goi_net.Color.fillna('gray')"
   ]
  },
  {
   "cell_type": "code",
   "execution_count": 101,
   "id": "7f1b7407-e342-4d4c-b56d-f6856f3bdd1b",
   "metadata": {
    "tags": []
   },
   "outputs": [],
   "source": [
    "df_ensp_prot_goi_net.fillna('N', inplace=True)"
   ]
  },
  {
   "cell_type": "code",
   "execution_count": 102,
   "id": "364814db-c09a-4835-8a2f-3a7f0a22e3b4",
   "metadata": {
    "tags": []
   },
   "outputs": [
    {
     "data": {
      "text/html": [
       "<div>\n",
       "<style scoped>\n",
       "    .dataframe tbody tr th:only-of-type {\n",
       "        vertical-align: middle;\n",
       "    }\n",
       "\n",
       "    .dataframe tbody tr th {\n",
       "        vertical-align: top;\n",
       "    }\n",
       "\n",
       "    .dataframe thead th {\n",
       "        text-align: right;\n",
       "    }\n",
       "</style>\n",
       "<table border=\"1\" class=\"dataframe\">\n",
       "  <thead>\n",
       "    <tr style=\"text-align: right;\">\n",
       "      <th></th>\n",
       "      <th>Color</th>\n",
       "      <th>GeneOfInterest</th>\n",
       "      <th>HighConfidence</th>\n",
       "      <th>incoming</th>\n",
       "      <th>MultiVariant</th>\n",
       "      <th>name</th>\n",
       "      <th>protein_name</th>\n",
       "      <th>selected</th>\n",
       "      <th>shared name</th>\n",
       "      <th>TopVariant</th>\n",
       "    </tr>\n",
       "  </thead>\n",
       "  <tbody>\n",
       "    <tr>\n",
       "      <th>0</th>\n",
       "      <td>N</td>\n",
       "      <td>N</td>\n",
       "      <td>N</td>\n",
       "      <td>N</td>\n",
       "      <td>N</td>\n",
       "      <td>ENSP00000362680</td>\n",
       "      <td>N</td>\n",
       "      <td>False</td>\n",
       "      <td>ENSP00000362680</td>\n",
       "      <td>N</td>\n",
       "    </tr>\n",
       "    <tr>\n",
       "      <th>1</th>\n",
       "      <td>N</td>\n",
       "      <td>N</td>\n",
       "      <td>N</td>\n",
       "      <td>N</td>\n",
       "      <td>N</td>\n",
       "      <td>ENSP00000403459</td>\n",
       "      <td>N</td>\n",
       "      <td>False</td>\n",
       "      <td>ENSP00000403459</td>\n",
       "      <td>N</td>\n",
       "    </tr>\n",
       "    <tr>\n",
       "      <th>2</th>\n",
       "      <td>N</td>\n",
       "      <td>N</td>\n",
       "      <td>N</td>\n",
       "      <td>N</td>\n",
       "      <td>N</td>\n",
       "      <td>ENSP00000287078</td>\n",
       "      <td>N</td>\n",
       "      <td>False</td>\n",
       "      <td>ENSP00000287078</td>\n",
       "      <td>N</td>\n",
       "    </tr>\n",
       "    <tr>\n",
       "      <th>3</th>\n",
       "      <td>N</td>\n",
       "      <td>N</td>\n",
       "      <td>N</td>\n",
       "      <td>N</td>\n",
       "      <td>N</td>\n",
       "      <td>ENSP00000330862</td>\n",
       "      <td>N</td>\n",
       "      <td>False</td>\n",
       "      <td>ENSP00000330862</td>\n",
       "      <td>N</td>\n",
       "    </tr>\n",
       "    <tr>\n",
       "      <th>4</th>\n",
       "      <td>N</td>\n",
       "      <td>N</td>\n",
       "      <td>N</td>\n",
       "      <td>N</td>\n",
       "      <td>N</td>\n",
       "      <td>ENSP00000411960</td>\n",
       "      <td>N</td>\n",
       "      <td>False</td>\n",
       "      <td>ENSP00000411960</td>\n",
       "      <td>N</td>\n",
       "    </tr>\n",
       "    <tr>\n",
       "      <th>...</th>\n",
       "      <td>...</td>\n",
       "      <td>...</td>\n",
       "      <td>...</td>\n",
       "      <td>...</td>\n",
       "      <td>...</td>\n",
       "      <td>...</td>\n",
       "      <td>...</td>\n",
       "      <td>...</td>\n",
       "      <td>...</td>\n",
       "      <td>...</td>\n",
       "    </tr>\n",
       "    <tr>\n",
       "      <th>141</th>\n",
       "      <td>N</td>\n",
       "      <td>N</td>\n",
       "      <td>N</td>\n",
       "      <td>N</td>\n",
       "      <td>N</td>\n",
       "      <td>ENSP00000301761</td>\n",
       "      <td>N</td>\n",
       "      <td>False</td>\n",
       "      <td>ENSP00000301761</td>\n",
       "      <td>N</td>\n",
       "    </tr>\n",
       "    <tr>\n",
       "      <th>142</th>\n",
       "      <td>N</td>\n",
       "      <td>N</td>\n",
       "      <td>N</td>\n",
       "      <td>N</td>\n",
       "      <td>N</td>\n",
       "      <td>ENSP00000220003</td>\n",
       "      <td>N</td>\n",
       "      <td>False</td>\n",
       "      <td>ENSP00000220003</td>\n",
       "      <td>N</td>\n",
       "    </tr>\n",
       "    <tr>\n",
       "      <th>143</th>\n",
       "      <td>N</td>\n",
       "      <td>N</td>\n",
       "      <td>N</td>\n",
       "      <td>N</td>\n",
       "      <td>N</td>\n",
       "      <td>ENSP00000281146</td>\n",
       "      <td>N</td>\n",
       "      <td>False</td>\n",
       "      <td>ENSP00000281146</td>\n",
       "      <td>N</td>\n",
       "    </tr>\n",
       "    <tr>\n",
       "      <th>144</th>\n",
       "      <td>N</td>\n",
       "      <td>N</td>\n",
       "      <td>N</td>\n",
       "      <td>N</td>\n",
       "      <td>N</td>\n",
       "      <td>ENSP00000443130</td>\n",
       "      <td>N</td>\n",
       "      <td>False</td>\n",
       "      <td>ENSP00000443130</td>\n",
       "      <td>N</td>\n",
       "    </tr>\n",
       "    <tr>\n",
       "      <th>145</th>\n",
       "      <td>N</td>\n",
       "      <td>N</td>\n",
       "      <td>N</td>\n",
       "      <td>N</td>\n",
       "      <td>N</td>\n",
       "      <td>ENSP00000355533</td>\n",
       "      <td>N</td>\n",
       "      <td>False</td>\n",
       "      <td>ENSP00000355533</td>\n",
       "      <td>N</td>\n",
       "    </tr>\n",
       "  </tbody>\n",
       "</table>\n",
       "<p>146 rows × 10 columns</p>\n",
       "</div>"
      ],
      "text/plain": [
       "    Color GeneOfInterest HighConfidence incoming MultiVariant  \\\n",
       "0       N              N              N        N            N   \n",
       "1       N              N              N        N            N   \n",
       "2       N              N              N        N            N   \n",
       "3       N              N              N        N            N   \n",
       "4       N              N              N        N            N   \n",
       "..    ...            ...            ...      ...          ...   \n",
       "141     N              N              N        N            N   \n",
       "142     N              N              N        N            N   \n",
       "143     N              N              N        N            N   \n",
       "144     N              N              N        N            N   \n",
       "145     N              N              N        N            N   \n",
       "\n",
       "                name protein_name  selected      shared name TopVariant  \n",
       "0    ENSP00000362680            N     False  ENSP00000362680          N  \n",
       "1    ENSP00000403459            N     False  ENSP00000403459          N  \n",
       "2    ENSP00000287078            N     False  ENSP00000287078          N  \n",
       "3    ENSP00000330862            N     False  ENSP00000330862          N  \n",
       "4    ENSP00000411960            N     False  ENSP00000411960          N  \n",
       "..               ...          ...       ...              ...        ...  \n",
       "141  ENSP00000301761            N     False  ENSP00000301761          N  \n",
       "142  ENSP00000220003            N     False  ENSP00000220003          N  \n",
       "143  ENSP00000281146            N     False  ENSP00000281146          N  \n",
       "144  ENSP00000443130            N     False  ENSP00000443130          N  \n",
       "145  ENSP00000355533            N     False  ENSP00000355533          N  \n",
       "\n",
       "[146 rows x 10 columns]"
      ]
     },
     "execution_count": 102,
     "metadata": {},
     "output_type": "execute_result"
    }
   ],
   "source": [
    "df_ensp_prot_goi_net"
   ]
  },
  {
   "cell_type": "code",
   "execution_count": 103,
   "id": "3a2ddff9-6241-486c-985d-26b3602bfc49",
   "metadata": {
    "tags": []
   },
   "outputs": [],
   "source": [
    "for ir, row in df_ensp_prot_goi_net.iterrows():\n",
    "    name = row['name']\n",
    "    protein_name = row['protein_name']\n",
    "    new_prot = epspid_to_name.get(name, '')\n",
    "    if protein_name == \"N\":\n",
    "        df_ensp_prot_goi_net.loc[ir, 'protein_name'] = new_prot"
   ]
  },
  {
   "cell_type": "code",
   "execution_count": 104,
   "id": "44a9f4d8-7f99-4628-b381-2af97054d202",
   "metadata": {
    "tags": []
   },
   "outputs": [
    {
     "data": {
      "text/html": [
       "<div>\n",
       "<style scoped>\n",
       "    .dataframe tbody tr th:only-of-type {\n",
       "        vertical-align: middle;\n",
       "    }\n",
       "\n",
       "    .dataframe tbody tr th {\n",
       "        vertical-align: top;\n",
       "    }\n",
       "\n",
       "    .dataframe thead th {\n",
       "        text-align: right;\n",
       "    }\n",
       "</style>\n",
       "<table border=\"1\" class=\"dataframe\">\n",
       "  <thead>\n",
       "    <tr style=\"text-align: right;\">\n",
       "      <th></th>\n",
       "      <th>Color</th>\n",
       "      <th>GeneOfInterest</th>\n",
       "      <th>HighConfidence</th>\n",
       "      <th>incoming</th>\n",
       "      <th>MultiVariant</th>\n",
       "      <th>name</th>\n",
       "      <th>protein_name</th>\n",
       "      <th>selected</th>\n",
       "      <th>shared name</th>\n",
       "      <th>TopVariant</th>\n",
       "    </tr>\n",
       "  </thead>\n",
       "  <tbody>\n",
       "    <tr>\n",
       "      <th>0</th>\n",
       "      <td>N</td>\n",
       "      <td>N</td>\n",
       "      <td>N</td>\n",
       "      <td>N</td>\n",
       "      <td>N</td>\n",
       "      <td>ENSP00000362680</td>\n",
       "      <td>SRC</td>\n",
       "      <td>False</td>\n",
       "      <td>ENSP00000362680</td>\n",
       "      <td>N</td>\n",
       "    </tr>\n",
       "    <tr>\n",
       "      <th>1</th>\n",
       "      <td>N</td>\n",
       "      <td>N</td>\n",
       "      <td>N</td>\n",
       "      <td>N</td>\n",
       "      <td>N</td>\n",
       "      <td>ENSP00000403459</td>\n",
       "      <td>GRB7</td>\n",
       "      <td>False</td>\n",
       "      <td>ENSP00000403459</td>\n",
       "      <td>N</td>\n",
       "    </tr>\n",
       "    <tr>\n",
       "      <th>2</th>\n",
       "      <td>N</td>\n",
       "      <td>N</td>\n",
       "      <td>N</td>\n",
       "      <td>N</td>\n",
       "      <td>N</td>\n",
       "      <td>ENSP00000287078</td>\n",
       "      <td>TYSND1</td>\n",
       "      <td>False</td>\n",
       "      <td>ENSP00000287078</td>\n",
       "      <td>N</td>\n",
       "    </tr>\n",
       "    <tr>\n",
       "      <th>3</th>\n",
       "      <td>N</td>\n",
       "      <td>N</td>\n",
       "      <td>N</td>\n",
       "      <td>N</td>\n",
       "      <td>N</td>\n",
       "      <td>ENSP00000330862</td>\n",
       "      <td>OPCML</td>\n",
       "      <td>False</td>\n",
       "      <td>ENSP00000330862</td>\n",
       "      <td>N</td>\n",
       "    </tr>\n",
       "    <tr>\n",
       "      <th>4</th>\n",
       "      <td>N</td>\n",
       "      <td>N</td>\n",
       "      <td>N</td>\n",
       "      <td>N</td>\n",
       "      <td>N</td>\n",
       "      <td>ENSP00000411960</td>\n",
       "      <td>HSD17B4</td>\n",
       "      <td>False</td>\n",
       "      <td>ENSP00000411960</td>\n",
       "      <td>N</td>\n",
       "    </tr>\n",
       "    <tr>\n",
       "      <th>...</th>\n",
       "      <td>...</td>\n",
       "      <td>...</td>\n",
       "      <td>...</td>\n",
       "      <td>...</td>\n",
       "      <td>...</td>\n",
       "      <td>...</td>\n",
       "      <td>...</td>\n",
       "      <td>...</td>\n",
       "      <td>...</td>\n",
       "      <td>...</td>\n",
       "    </tr>\n",
       "    <tr>\n",
       "      <th>141</th>\n",
       "      <td>N</td>\n",
       "      <td>N</td>\n",
       "      <td>N</td>\n",
       "      <td>N</td>\n",
       "      <td>N</td>\n",
       "      <td>ENSP00000301761</td>\n",
       "      <td>SDHAF2</td>\n",
       "      <td>False</td>\n",
       "      <td>ENSP00000301761</td>\n",
       "      <td>N</td>\n",
       "    </tr>\n",
       "    <tr>\n",
       "      <th>142</th>\n",
       "      <td>N</td>\n",
       "      <td>N</td>\n",
       "      <td>N</td>\n",
       "      <td>N</td>\n",
       "      <td>N</td>\n",
       "      <td>ENSP00000220003</td>\n",
       "      <td>CSK</td>\n",
       "      <td>False</td>\n",
       "      <td>ENSP00000220003</td>\n",
       "      <td>N</td>\n",
       "    </tr>\n",
       "    <tr>\n",
       "      <th>143</th>\n",
       "      <td>N</td>\n",
       "      <td>N</td>\n",
       "      <td>N</td>\n",
       "      <td>N</td>\n",
       "      <td>N</td>\n",
       "      <td>ENSP00000281146</td>\n",
       "      <td>C4orf33</td>\n",
       "      <td>False</td>\n",
       "      <td>ENSP00000281146</td>\n",
       "      <td>N</td>\n",
       "    </tr>\n",
       "    <tr>\n",
       "      <th>144</th>\n",
       "      <td>N</td>\n",
       "      <td>N</td>\n",
       "      <td>N</td>\n",
       "      <td>N</td>\n",
       "      <td>N</td>\n",
       "      <td>ENSP00000443130</td>\n",
       "      <td>None</td>\n",
       "      <td>False</td>\n",
       "      <td>ENSP00000443130</td>\n",
       "      <td>N</td>\n",
       "    </tr>\n",
       "    <tr>\n",
       "      <th>145</th>\n",
       "      <td>N</td>\n",
       "      <td>N</td>\n",
       "      <td>N</td>\n",
       "      <td>N</td>\n",
       "      <td>N</td>\n",
       "      <td>ENSP00000355533</td>\n",
       "      <td>RYR2</td>\n",
       "      <td>False</td>\n",
       "      <td>ENSP00000355533</td>\n",
       "      <td>N</td>\n",
       "    </tr>\n",
       "  </tbody>\n",
       "</table>\n",
       "<p>146 rows × 10 columns</p>\n",
       "</div>"
      ],
      "text/plain": [
       "    Color GeneOfInterest HighConfidence incoming MultiVariant  \\\n",
       "0       N              N              N        N            N   \n",
       "1       N              N              N        N            N   \n",
       "2       N              N              N        N            N   \n",
       "3       N              N              N        N            N   \n",
       "4       N              N              N        N            N   \n",
       "..    ...            ...            ...      ...          ...   \n",
       "141     N              N              N        N            N   \n",
       "142     N              N              N        N            N   \n",
       "143     N              N              N        N            N   \n",
       "144     N              N              N        N            N   \n",
       "145     N              N              N        N            N   \n",
       "\n",
       "                name protein_name  selected      shared name TopVariant  \n",
       "0    ENSP00000362680          SRC     False  ENSP00000362680          N  \n",
       "1    ENSP00000403459         GRB7     False  ENSP00000403459          N  \n",
       "2    ENSP00000287078       TYSND1     False  ENSP00000287078          N  \n",
       "3    ENSP00000330862        OPCML     False  ENSP00000330862          N  \n",
       "4    ENSP00000411960      HSD17B4     False  ENSP00000411960          N  \n",
       "..               ...          ...       ...              ...        ...  \n",
       "141  ENSP00000301761       SDHAF2     False  ENSP00000301761          N  \n",
       "142  ENSP00000220003          CSK     False  ENSP00000220003          N  \n",
       "143  ENSP00000281146      C4orf33     False  ENSP00000281146          N  \n",
       "144  ENSP00000443130         None     False  ENSP00000443130          N  \n",
       "145  ENSP00000355533         RYR2     False  ENSP00000355533          N  \n",
       "\n",
       "[146 rows x 10 columns]"
      ]
     },
     "execution_count": 104,
     "metadata": {},
     "output_type": "execute_result"
    }
   ],
   "source": [
    "df_ensp_prot_goi_net"
   ]
  },
  {
   "cell_type": "code",
   "execution_count": 105,
   "id": "079ff7ec-3503-44ef-b440-65daedbc2bf0",
   "metadata": {
    "tags": []
   },
   "outputs": [],
   "source": [
    "df_ensp_prot_goi_net.to_csv(f\"PPI-net/ENSP-to-protname-goi-subnet-with-goi-annot.csv\", sep=\"\\t\", index=False)"
   ]
  },
  {
   "cell_type": "code",
   "execution_count": 106,
   "id": "3497ed73-f038-4970-848c-1c41e24172e9",
   "metadata": {},
   "outputs": [],
   "source": [
    "df_goi_ppis_net = pd.read_csv(\"PPI-net/GOI-subnet-nd146-edg-390-combined-norm-score-gt-0.8.csv\")"
   ]
  },
  {
   "cell_type": "code",
   "execution_count": 107,
   "id": "a6fac054-d39b-4e44-811d-f8cd7e0242a8",
   "metadata": {
    "tags": []
   },
   "outputs": [
    {
     "data": {
      "text/html": [
       "<div>\n",
       "<style scoped>\n",
       "    .dataframe tbody tr th:only-of-type {\n",
       "        vertical-align: middle;\n",
       "    }\n",
       "\n",
       "    .dataframe tbody tr th {\n",
       "        vertical-align: top;\n",
       "    }\n",
       "\n",
       "    .dataframe thead th {\n",
       "        text-align: right;\n",
       "    }\n",
       "</style>\n",
       "<table border=\"1\" class=\"dataframe\">\n",
       "  <thead>\n",
       "    <tr style=\"text-align: right;\">\n",
       "      <th></th>\n",
       "      <th>combined_score</th>\n",
       "      <th>interaction</th>\n",
       "      <th>name</th>\n",
       "      <th>normalized_score</th>\n",
       "      <th>selected</th>\n",
       "      <th>shared interaction</th>\n",
       "      <th>shared name</th>\n",
       "    </tr>\n",
       "  </thead>\n",
       "  <tbody>\n",
       "    <tr>\n",
       "      <th>0</th>\n",
       "      <td>964</td>\n",
       "      <td>interacts with</td>\n",
       "      <td>ENSP00000267257 (interacts with) ENSP00000376345</td>\n",
       "      <td>0.964965</td>\n",
       "      <td>False</td>\n",
       "      <td>interacts with</td>\n",
       "      <td>ENSP00000267257 (interacts with) ENSP00000376345</td>\n",
       "    </tr>\n",
       "    <tr>\n",
       "      <th>1</th>\n",
       "      <td>998</td>\n",
       "      <td>interacts with</td>\n",
       "      <td>ENSP00000368767 (interacts with) ENSP00000355533</td>\n",
       "      <td>0.998999</td>\n",
       "      <td>False</td>\n",
       "      <td>interacts with</td>\n",
       "      <td>ENSP00000368767 (interacts with) ENSP00000355533</td>\n",
       "    </tr>\n",
       "    <tr>\n",
       "      <th>2</th>\n",
       "      <td>998</td>\n",
       "      <td>interacts with</td>\n",
       "      <td>ENSP00000368767 (interacts with) ENSP00000261448</td>\n",
       "      <td>0.998999</td>\n",
       "      <td>False</td>\n",
       "      <td>interacts with</td>\n",
       "      <td>ENSP00000368767 (interacts with) ENSP00000261448</td>\n",
       "    </tr>\n",
       "    <tr>\n",
       "      <th>3</th>\n",
       "      <td>946</td>\n",
       "      <td>interacts with</td>\n",
       "      <td>ENSP00000352608 (interacts with) ENSP00000499797</td>\n",
       "      <td>0.946947</td>\n",
       "      <td>False</td>\n",
       "      <td>interacts with</td>\n",
       "      <td>ENSP00000352608 (interacts with) ENSP00000499797</td>\n",
       "    </tr>\n",
       "    <tr>\n",
       "      <th>4</th>\n",
       "      <td>999</td>\n",
       "      <td>interacts with</td>\n",
       "      <td>ENSP00000355533 (interacts with) ENSP00000291295</td>\n",
       "      <td>1.000000</td>\n",
       "      <td>False</td>\n",
       "      <td>interacts with</td>\n",
       "      <td>ENSP00000355533 (interacts with) ENSP00000291295</td>\n",
       "    </tr>\n",
       "    <tr>\n",
       "      <th>...</th>\n",
       "      <td>...</td>\n",
       "      <td>...</td>\n",
       "      <td>...</td>\n",
       "      <td>...</td>\n",
       "      <td>...</td>\n",
       "      <td>...</td>\n",
       "      <td>...</td>\n",
       "    </tr>\n",
       "    <tr>\n",
       "      <th>385</th>\n",
       "      <td>953</td>\n",
       "      <td>interacts with</td>\n",
       "      <td>ENSP00000368767 (interacts with) ENSP00000352608</td>\n",
       "      <td>0.953954</td>\n",
       "      <td>False</td>\n",
       "      <td>interacts with</td>\n",
       "      <td>ENSP00000368767 (interacts with) ENSP00000352608</td>\n",
       "    </tr>\n",
       "    <tr>\n",
       "      <th>386</th>\n",
       "      <td>999</td>\n",
       "      <td>interacts with</td>\n",
       "      <td>ENSP00000352608 (interacts with) ENSP00000369689</td>\n",
       "      <td>1.000000</td>\n",
       "      <td>False</td>\n",
       "      <td>interacts with</td>\n",
       "      <td>ENSP00000352608 (interacts with) ENSP00000369689</td>\n",
       "    </tr>\n",
       "    <tr>\n",
       "      <th>387</th>\n",
       "      <td>542</td>\n",
       "      <td>interacts with</td>\n",
       "      <td>ENSP00000367658 (interacts with) ENSP00000330904</td>\n",
       "      <td>0.936097</td>\n",
       "      <td>False</td>\n",
       "      <td>interacts with</td>\n",
       "      <td>ENSP00000367658 (interacts with) ENSP00000330904</td>\n",
       "    </tr>\n",
       "    <tr>\n",
       "      <th>388</th>\n",
       "      <td>999</td>\n",
       "      <td>interacts with</td>\n",
       "      <td>ENSP00000267257 (interacts with) ENSP00000380638</td>\n",
       "      <td>1.000000</td>\n",
       "      <td>False</td>\n",
       "      <td>interacts with</td>\n",
       "      <td>ENSP00000267257 (interacts with) ENSP00000380638</td>\n",
       "    </tr>\n",
       "    <tr>\n",
       "      <th>389</th>\n",
       "      <td>890</td>\n",
       "      <td>interacts with</td>\n",
       "      <td>ENSP00000368767 (interacts with) ENSP00000489262</td>\n",
       "      <td>0.890891</td>\n",
       "      <td>False</td>\n",
       "      <td>interacts with</td>\n",
       "      <td>ENSP00000368767 (interacts with) ENSP00000489262</td>\n",
       "    </tr>\n",
       "  </tbody>\n",
       "</table>\n",
       "<p>390 rows × 7 columns</p>\n",
       "</div>"
      ],
      "text/plain": [
       "     combined_score     interaction  \\\n",
       "0               964  interacts with   \n",
       "1               998  interacts with   \n",
       "2               998  interacts with   \n",
       "3               946  interacts with   \n",
       "4               999  interacts with   \n",
       "..              ...             ...   \n",
       "385             953  interacts with   \n",
       "386             999  interacts with   \n",
       "387             542  interacts with   \n",
       "388             999  interacts with   \n",
       "389             890  interacts with   \n",
       "\n",
       "                                                 name  normalized_score  \\\n",
       "0    ENSP00000267257 (interacts with) ENSP00000376345          0.964965   \n",
       "1    ENSP00000368767 (interacts with) ENSP00000355533          0.998999   \n",
       "2    ENSP00000368767 (interacts with) ENSP00000261448          0.998999   \n",
       "3    ENSP00000352608 (interacts with) ENSP00000499797          0.946947   \n",
       "4    ENSP00000355533 (interacts with) ENSP00000291295          1.000000   \n",
       "..                                                ...               ...   \n",
       "385  ENSP00000368767 (interacts with) ENSP00000352608          0.953954   \n",
       "386  ENSP00000352608 (interacts with) ENSP00000369689          1.000000   \n",
       "387  ENSP00000367658 (interacts with) ENSP00000330904          0.936097   \n",
       "388  ENSP00000267257 (interacts with) ENSP00000380638          1.000000   \n",
       "389  ENSP00000368767 (interacts with) ENSP00000489262          0.890891   \n",
       "\n",
       "     selected shared interaction  \\\n",
       "0       False     interacts with   \n",
       "1       False     interacts with   \n",
       "2       False     interacts with   \n",
       "3       False     interacts with   \n",
       "4       False     interacts with   \n",
       "..        ...                ...   \n",
       "385     False     interacts with   \n",
       "386     False     interacts with   \n",
       "387     False     interacts with   \n",
       "388     False     interacts with   \n",
       "389     False     interacts with   \n",
       "\n",
       "                                          shared name  \n",
       "0    ENSP00000267257 (interacts with) ENSP00000376345  \n",
       "1    ENSP00000368767 (interacts with) ENSP00000355533  \n",
       "2    ENSP00000368767 (interacts with) ENSP00000261448  \n",
       "3    ENSP00000352608 (interacts with) ENSP00000499797  \n",
       "4    ENSP00000355533 (interacts with) ENSP00000291295  \n",
       "..                                                ...  \n",
       "385  ENSP00000368767 (interacts with) ENSP00000352608  \n",
       "386  ENSP00000352608 (interacts with) ENSP00000369689  \n",
       "387  ENSP00000367658 (interacts with) ENSP00000330904  \n",
       "388  ENSP00000267257 (interacts with) ENSP00000380638  \n",
       "389  ENSP00000368767 (interacts with) ENSP00000489262  \n",
       "\n",
       "[390 rows x 7 columns]"
      ]
     },
     "execution_count": 107,
     "metadata": {},
     "output_type": "execute_result"
    }
   ],
   "source": [
    "df_goi_ppis_net"
   ]
  },
  {
   "cell_type": "code",
   "execution_count": 108,
   "id": "8016c0ee-14d2-419f-bbc5-9ce917fed4c8",
   "metadata": {
    "tags": []
   },
   "outputs": [
    {
     "data": {
      "image/png": "[encoded data removed]",
      "text/plain": [
       "<Figure size 600x600 with 3 Axes>"
      ]
     },
     "metadata": {},
     "output_type": "display_data"
    }
   ],
   "source": [
    "sn.jointplot(df_goi_ppis_net, x=\"combined_score\", y=\"normalized_score\", kind=\"kde\")\n",
    "plt.savefig(\"PPI-net/hist-combined_score-nrom-gt0.8-goi-subnet-kde.png\", dpi=300)"
   ]
  },
  {
   "cell_type": "code",
   "execution_count": 109,
   "id": "d12957f5-fcdc-4f7f-88f9-d103ad9382eb",
   "metadata": {
    "tags": []
   },
   "outputs": [
    {
     "data": {
      "image/png": "[encoded data removed]",
      "text/plain": [
       "<Figure size 640x480 with 1 Axes>"
      ]
     },
     "metadata": {},
     "output_type": "display_data"
    }
   ],
   "source": [
    "sn.histplot(df_goi_ppis_net, x=\"combined_score\", bins=30)\n",
    "plt.savefig(\"PPI-net/hist-combined_score-nrom-gt0.8-goi-subnet.png\", dpi=300)"
   ]
  },
  {
   "cell_type": "code",
   "execution_count": null,
   "id": "44c0a22d-5c33-4ea4-8588-5052f9aa2536",
   "metadata": {},
   "outputs": [],
   "source": []
  }
 ],
 "metadata": {
  "kernelspec": {
   "display_name": "py311gwas",
   "language": "python",
   "name": "py311gwas"
  },
  "language_info": {
   "codemirror_mode": {
    "name": "ipython",
    "version": 3
   },
   "file_extension": ".py",
   "mimetype": "text/x-python",
   "name": "python",
   "nbconvert_exporter": "python",
   "pygments_lexer": "ipython3",
   "version": "3.11.10"
  }
 },
 "nbformat": 4,
 "nbformat_minor": 5
}
